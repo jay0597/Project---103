{
  "nbformat": 4,
  "nbformat_minor": 0,
  "metadata": {
    "colab": {
      "name": "Project_Covid19_Vaccines.ipynb",
      "provenance": [],
      "collapsed_sections": []
    },
    "kernelspec": {
      "name": "python3",
      "display_name": "Python 3"
    },
    "language_info": {
      "name": "python"
    }
  },
  "cells": [
    {
      "cell_type": "code",
      "metadata": {
        "id": "DsgUAl6_UZHO"
      },
      "source": [
        "from google.colab import drive\n"
      ],
      "execution_count": null,
      "outputs": []
    },
    {
      "cell_type": "code",
      "metadata": {
        "colab": {
          "base_uri": "https://localhost:8080/"
        },
        "id": "FawM3XtPWARu",
        "outputId": "a062b87f-6492-4f3d-cbbc-b5e21f7d3c54"
      },
      "source": [
        "drive.mount(\"/content/gdrive\")"
      ],
      "execution_count": null,
      "outputs": [
        {
          "output_type": "stream",
          "name": "stdout",
          "text": [
            "Drive already mounted at /content/gdrive; to attempt to forcibly remount, call drive.mount(\"/content/gdrive\", force_remount=True).\n"
          ]
        }
      ]
    },
    {
      "cell_type": "code",
      "metadata": {
        "id": "-lLvhKWTV8uY"
      },
      "source": [
        "import pandas as pd"
      ],
      "execution_count": null,
      "outputs": []
    },
    {
      "cell_type": "markdown",
      "metadata": {
        "id": "qpLY7ghbqOE5"
      },
      "source": [
        "**# Canada Vaccination Data**"
      ]
    },
    {
      "cell_type": "code",
      "metadata": {
        "id": "r4tR_n-gWLZx"
      },
      "source": [
        "df1=pd.read_csv('/content/gdrive/MyDrive/Colab Notebooks/data/Canada.csv')"
      ],
      "execution_count": null,
      "outputs": []
    },
    {
      "cell_type": "code",
      "metadata": {
        "colab": {
          "base_uri": "https://localhost:8080/",
          "height": 759
        },
        "id": "xwoBHdOPhHs2",
        "outputId": "1ac005a5-e307-4093-aaa6-edc67cb870ac"
      },
      "source": [
        "df1\n"
      ],
      "execution_count": null,
      "outputs": [
        {
          "output_type": "execute_result",
          "data": {
            "text/html": [
              "<div>\n",
              "<style scoped>\n",
              "    .dataframe tbody tr th:only-of-type {\n",
              "        vertical-align: middle;\n",
              "    }\n",
              "\n",
              "    .dataframe tbody tr th {\n",
              "        vertical-align: top;\n",
              "    }\n",
              "\n",
              "    .dataframe thead th {\n",
              "        text-align: right;\n",
              "    }\n",
              "</style>\n",
              "<table border=\"1\" class=\"dataframe\">\n",
              "  <thead>\n",
              "    <tr style=\"text-align: right;\">\n",
              "      <th></th>\n",
              "      <th>date</th>\n",
              "      <th>total_vaccinations</th>\n",
              "      <th>people_fully_vaccinated</th>\n",
              "      <th>total_boosters</th>\n",
              "      <th>people_vaccinated</th>\n",
              "      <th>location</th>\n",
              "      <th>source_url</th>\n",
              "      <th>vaccine</th>\n",
              "    </tr>\n",
              "  </thead>\n",
              "  <tbody>\n",
              "    <tr>\n",
              "      <th>0</th>\n",
              "      <td>2020-12-14</td>\n",
              "      <td>5</td>\n",
              "      <td>0</td>\n",
              "      <td>0</td>\n",
              "      <td>5</td>\n",
              "      <td>Canada</td>\n",
              "      <td>https://covid19tracker.ca/vaccinationtracker.html</td>\n",
              "      <td>Moderna, Oxford/AstraZeneca, Pfizer/BioNTech</td>\n",
              "    </tr>\n",
              "    <tr>\n",
              "      <th>1</th>\n",
              "      <td>2020-12-15</td>\n",
              "      <td>727</td>\n",
              "      <td>0</td>\n",
              "      <td>0</td>\n",
              "      <td>727</td>\n",
              "      <td>Canada</td>\n",
              "      <td>https://covid19tracker.ca/vaccinationtracker.html</td>\n",
              "      <td>Moderna, Oxford/AstraZeneca, Pfizer/BioNTech</td>\n",
              "    </tr>\n",
              "    <tr>\n",
              "      <th>2</th>\n",
              "      <td>2020-12-16</td>\n",
              "      <td>3015</td>\n",
              "      <td>0</td>\n",
              "      <td>0</td>\n",
              "      <td>3015</td>\n",
              "      <td>Canada</td>\n",
              "      <td>https://covid19tracker.ca/vaccinationtracker.html</td>\n",
              "      <td>Moderna, Oxford/AstraZeneca, Pfizer/BioNTech</td>\n",
              "    </tr>\n",
              "    <tr>\n",
              "      <th>3</th>\n",
              "      <td>2020-12-17</td>\n",
              "      <td>7266</td>\n",
              "      <td>0</td>\n",
              "      <td>0</td>\n",
              "      <td>7266</td>\n",
              "      <td>Canada</td>\n",
              "      <td>https://covid19tracker.ca/vaccinationtracker.html</td>\n",
              "      <td>Moderna, Oxford/AstraZeneca, Pfizer/BioNTech</td>\n",
              "    </tr>\n",
              "    <tr>\n",
              "      <th>4</th>\n",
              "      <td>2020-12-18</td>\n",
              "      <td>11274</td>\n",
              "      <td>0</td>\n",
              "      <td>0</td>\n",
              "      <td>11274</td>\n",
              "      <td>Canada</td>\n",
              "      <td>https://covid19tracker.ca/vaccinationtracker.html</td>\n",
              "      <td>Moderna, Oxford/AstraZeneca, Pfizer/BioNTech</td>\n",
              "    </tr>\n",
              "    <tr>\n",
              "      <th>...</th>\n",
              "      <td>...</td>\n",
              "      <td>...</td>\n",
              "      <td>...</td>\n",
              "      <td>...</td>\n",
              "      <td>...</td>\n",
              "      <td>...</td>\n",
              "      <td>...</td>\n",
              "      <td>...</td>\n",
              "    </tr>\n",
              "    <tr>\n",
              "      <th>317</th>\n",
              "      <td>2021-10-27</td>\n",
              "      <td>58428432</td>\n",
              "      <td>28144619</td>\n",
              "      <td>511618</td>\n",
              "      <td>29772195</td>\n",
              "      <td>Canada</td>\n",
              "      <td>https://covid19tracker.ca/vaccinationtracker.html</td>\n",
              "      <td>Moderna, Oxford/AstraZeneca, Pfizer/BioNTech</td>\n",
              "    </tr>\n",
              "    <tr>\n",
              "      <th>318</th>\n",
              "      <td>2021-10-28</td>\n",
              "      <td>58511813</td>\n",
              "      <td>28185778</td>\n",
              "      <td>528738</td>\n",
              "      <td>29797297</td>\n",
              "      <td>Canada</td>\n",
              "      <td>https://covid19tracker.ca/vaccinationtracker.html</td>\n",
              "      <td>Moderna, Oxford/AstraZeneca, Pfizer/BioNTech</td>\n",
              "    </tr>\n",
              "    <tr>\n",
              "      <th>319</th>\n",
              "      <td>2021-10-29</td>\n",
              "      <td>58589032</td>\n",
              "      <td>28225947</td>\n",
              "      <td>539126</td>\n",
              "      <td>29823959</td>\n",
              "      <td>Canada</td>\n",
              "      <td>https://covid19tracker.ca/vaccinationtracker.html</td>\n",
              "      <td>Moderna, Oxford/AstraZeneca, Pfizer/BioNTech</td>\n",
              "    </tr>\n",
              "    <tr>\n",
              "      <th>320</th>\n",
              "      <td>2021-10-30</td>\n",
              "      <td>58629704</td>\n",
              "      <td>28250376</td>\n",
              "      <td>544017</td>\n",
              "      <td>29835311</td>\n",
              "      <td>Canada</td>\n",
              "      <td>https://covid19tracker.ca/vaccinationtracker.html</td>\n",
              "      <td>Moderna, Oxford/AstraZeneca, Pfizer/BioNTech</td>\n",
              "    </tr>\n",
              "    <tr>\n",
              "      <th>321</th>\n",
              "      <td>2021-10-31</td>\n",
              "      <td>58663274</td>\n",
              "      <td>28272392</td>\n",
              "      <td>545539</td>\n",
              "      <td>29845343</td>\n",
              "      <td>Canada</td>\n",
              "      <td>https://covid19tracker.ca/vaccinationtracker.html</td>\n",
              "      <td>Moderna, Oxford/AstraZeneca, Pfizer/BioNTech</td>\n",
              "    </tr>\n",
              "  </tbody>\n",
              "</table>\n",
              "<p>322 rows × 8 columns</p>\n",
              "</div>"
            ],
            "text/plain": [
              "           date  ...                                       vaccine\n",
              "0    2020-12-14  ...  Moderna, Oxford/AstraZeneca, Pfizer/BioNTech\n",
              "1    2020-12-15  ...  Moderna, Oxford/AstraZeneca, Pfizer/BioNTech\n",
              "2    2020-12-16  ...  Moderna, Oxford/AstraZeneca, Pfizer/BioNTech\n",
              "3    2020-12-17  ...  Moderna, Oxford/AstraZeneca, Pfizer/BioNTech\n",
              "4    2020-12-18  ...  Moderna, Oxford/AstraZeneca, Pfizer/BioNTech\n",
              "..          ...  ...                                           ...\n",
              "317  2021-10-27  ...  Moderna, Oxford/AstraZeneca, Pfizer/BioNTech\n",
              "318  2021-10-28  ...  Moderna, Oxford/AstraZeneca, Pfizer/BioNTech\n",
              "319  2021-10-29  ...  Moderna, Oxford/AstraZeneca, Pfizer/BioNTech\n",
              "320  2021-10-30  ...  Moderna, Oxford/AstraZeneca, Pfizer/BioNTech\n",
              "321  2021-10-31  ...  Moderna, Oxford/AstraZeneca, Pfizer/BioNTech\n",
              "\n",
              "[322 rows x 8 columns]"
            ]
          },
          "metadata": {},
          "execution_count": 215
        }
      ]
    },
    {
      "cell_type": "markdown",
      "metadata": {
        "id": "7wuM9VvZa6_-"
      },
      "source": [
        "#Removed the source_url column from the dataframe as it just  the same links to destination."
      ]
    },
    {
      "cell_type": "code",
      "metadata": {
        "id": "Wyrn3E9OV2G3"
      },
      "source": [
        "df1.drop('source_url', axis=1, inplace=True)"
      ],
      "execution_count": null,
      "outputs": []
    },
    {
      "cell_type": "code",
      "metadata": {
        "colab": {
          "base_uri": "https://localhost:8080/",
          "height": 419
        },
        "id": "cxQfiaoWWBwL",
        "outputId": "96ac8b5f-5f57-4b9a-d389-cdc3ec1956a9"
      },
      "source": [
        "df1"
      ],
      "execution_count": null,
      "outputs": [
        {
          "output_type": "execute_result",
          "data": {
            "text/html": [
              "<div>\n",
              "<style scoped>\n",
              "    .dataframe tbody tr th:only-of-type {\n",
              "        vertical-align: middle;\n",
              "    }\n",
              "\n",
              "    .dataframe tbody tr th {\n",
              "        vertical-align: top;\n",
              "    }\n",
              "\n",
              "    .dataframe thead th {\n",
              "        text-align: right;\n",
              "    }\n",
              "</style>\n",
              "<table border=\"1\" class=\"dataframe\">\n",
              "  <thead>\n",
              "    <tr style=\"text-align: right;\">\n",
              "      <th></th>\n",
              "      <th>date</th>\n",
              "      <th>total_vaccinations</th>\n",
              "      <th>people_fully_vaccinated</th>\n",
              "      <th>total_boosters</th>\n",
              "      <th>people_vaccinated</th>\n",
              "      <th>location</th>\n",
              "      <th>vaccine</th>\n",
              "    </tr>\n",
              "  </thead>\n",
              "  <tbody>\n",
              "    <tr>\n",
              "      <th>0</th>\n",
              "      <td>2020-12-14</td>\n",
              "      <td>5</td>\n",
              "      <td>0</td>\n",
              "      <td>0</td>\n",
              "      <td>5</td>\n",
              "      <td>Canada</td>\n",
              "      <td>Moderna, Oxford/AstraZeneca, Pfizer/BioNTech</td>\n",
              "    </tr>\n",
              "    <tr>\n",
              "      <th>1</th>\n",
              "      <td>2020-12-15</td>\n",
              "      <td>727</td>\n",
              "      <td>0</td>\n",
              "      <td>0</td>\n",
              "      <td>727</td>\n",
              "      <td>Canada</td>\n",
              "      <td>Moderna, Oxford/AstraZeneca, Pfizer/BioNTech</td>\n",
              "    </tr>\n",
              "    <tr>\n",
              "      <th>2</th>\n",
              "      <td>2020-12-16</td>\n",
              "      <td>3015</td>\n",
              "      <td>0</td>\n",
              "      <td>0</td>\n",
              "      <td>3015</td>\n",
              "      <td>Canada</td>\n",
              "      <td>Moderna, Oxford/AstraZeneca, Pfizer/BioNTech</td>\n",
              "    </tr>\n",
              "    <tr>\n",
              "      <th>3</th>\n",
              "      <td>2020-12-17</td>\n",
              "      <td>7266</td>\n",
              "      <td>0</td>\n",
              "      <td>0</td>\n",
              "      <td>7266</td>\n",
              "      <td>Canada</td>\n",
              "      <td>Moderna, Oxford/AstraZeneca, Pfizer/BioNTech</td>\n",
              "    </tr>\n",
              "    <tr>\n",
              "      <th>4</th>\n",
              "      <td>2020-12-18</td>\n",
              "      <td>11274</td>\n",
              "      <td>0</td>\n",
              "      <td>0</td>\n",
              "      <td>11274</td>\n",
              "      <td>Canada</td>\n",
              "      <td>Moderna, Oxford/AstraZeneca, Pfizer/BioNTech</td>\n",
              "    </tr>\n",
              "    <tr>\n",
              "      <th>...</th>\n",
              "      <td>...</td>\n",
              "      <td>...</td>\n",
              "      <td>...</td>\n",
              "      <td>...</td>\n",
              "      <td>...</td>\n",
              "      <td>...</td>\n",
              "      <td>...</td>\n",
              "    </tr>\n",
              "    <tr>\n",
              "      <th>317</th>\n",
              "      <td>2021-10-27</td>\n",
              "      <td>58428432</td>\n",
              "      <td>28144619</td>\n",
              "      <td>511618</td>\n",
              "      <td>29772195</td>\n",
              "      <td>Canada</td>\n",
              "      <td>Moderna, Oxford/AstraZeneca, Pfizer/BioNTech</td>\n",
              "    </tr>\n",
              "    <tr>\n",
              "      <th>318</th>\n",
              "      <td>2021-10-28</td>\n",
              "      <td>58511813</td>\n",
              "      <td>28185778</td>\n",
              "      <td>528738</td>\n",
              "      <td>29797297</td>\n",
              "      <td>Canada</td>\n",
              "      <td>Moderna, Oxford/AstraZeneca, Pfizer/BioNTech</td>\n",
              "    </tr>\n",
              "    <tr>\n",
              "      <th>319</th>\n",
              "      <td>2021-10-29</td>\n",
              "      <td>58589032</td>\n",
              "      <td>28225947</td>\n",
              "      <td>539126</td>\n",
              "      <td>29823959</td>\n",
              "      <td>Canada</td>\n",
              "      <td>Moderna, Oxford/AstraZeneca, Pfizer/BioNTech</td>\n",
              "    </tr>\n",
              "    <tr>\n",
              "      <th>320</th>\n",
              "      <td>2021-10-30</td>\n",
              "      <td>58629704</td>\n",
              "      <td>28250376</td>\n",
              "      <td>544017</td>\n",
              "      <td>29835311</td>\n",
              "      <td>Canada</td>\n",
              "      <td>Moderna, Oxford/AstraZeneca, Pfizer/BioNTech</td>\n",
              "    </tr>\n",
              "    <tr>\n",
              "      <th>321</th>\n",
              "      <td>2021-10-31</td>\n",
              "      <td>58663274</td>\n",
              "      <td>28272392</td>\n",
              "      <td>545539</td>\n",
              "      <td>29845343</td>\n",
              "      <td>Canada</td>\n",
              "      <td>Moderna, Oxford/AstraZeneca, Pfizer/BioNTech</td>\n",
              "    </tr>\n",
              "  </tbody>\n",
              "</table>\n",
              "<p>322 rows × 7 columns</p>\n",
              "</div>"
            ],
            "text/plain": [
              "           date  ...                                       vaccine\n",
              "0    2020-12-14  ...  Moderna, Oxford/AstraZeneca, Pfizer/BioNTech\n",
              "1    2020-12-15  ...  Moderna, Oxford/AstraZeneca, Pfizer/BioNTech\n",
              "2    2020-12-16  ...  Moderna, Oxford/AstraZeneca, Pfizer/BioNTech\n",
              "3    2020-12-17  ...  Moderna, Oxford/AstraZeneca, Pfizer/BioNTech\n",
              "4    2020-12-18  ...  Moderna, Oxford/AstraZeneca, Pfizer/BioNTech\n",
              "..          ...  ...                                           ...\n",
              "317  2021-10-27  ...  Moderna, Oxford/AstraZeneca, Pfizer/BioNTech\n",
              "318  2021-10-28  ...  Moderna, Oxford/AstraZeneca, Pfizer/BioNTech\n",
              "319  2021-10-29  ...  Moderna, Oxford/AstraZeneca, Pfizer/BioNTech\n",
              "320  2021-10-30  ...  Moderna, Oxford/AstraZeneca, Pfizer/BioNTech\n",
              "321  2021-10-31  ...  Moderna, Oxford/AstraZeneca, Pfizer/BioNTech\n",
              "\n",
              "[322 rows x 7 columns]"
            ]
          },
          "metadata": {},
          "execution_count": 217
        }
      ]
    },
    {
      "cell_type": "code",
      "metadata": {
        "id": "YQltL0Ioi55Z"
      },
      "source": [
        "import matplotlib.pyplot as plt"
      ],
      "execution_count": null,
      "outputs": []
    },
    {
      "cell_type": "code",
      "metadata": {
        "id": "xq-nkwyijJya"
      },
      "source": [
        "import numpy as np"
      ],
      "execution_count": null,
      "outputs": []
    },
    {
      "cell_type": "code",
      "metadata": {
        "colab": {
          "base_uri": "https://localhost:8080/"
        },
        "id": "rb_g0nRajOrQ",
        "outputId": "c7b3b70e-e8bc-4ed5-ca61-279414343ee0"
      },
      "source": [
        "df1.columns"
      ],
      "execution_count": null,
      "outputs": [
        {
          "output_type": "execute_result",
          "data": {
            "text/plain": [
              "Index(['date', 'total_vaccinations', 'people_fully_vaccinated',\n",
              "       'total_boosters', 'people_vaccinated', 'location', 'vaccine'],\n",
              "      dtype='object')"
            ]
          },
          "metadata": {},
          "execution_count": 220
        }
      ]
    },
    {
      "cell_type": "code",
      "metadata": {
        "colab": {
          "base_uri": "https://localhost:8080/",
          "height": 297
        },
        "id": "F7tBNgMkkRk7",
        "outputId": "a957a1d2-63ae-40a4-a3b3-77bdd2e7cf76"
      },
      "source": [
        "df1.boxplot(column=['total_vaccinations'])"
      ],
      "execution_count": null,
      "outputs": [
        {
          "output_type": "execute_result",
          "data": {
            "text/plain": [
              "<matplotlib.axes._subplots.AxesSubplot at 0x7f2c5b06ab90>"
            ]
          },
          "metadata": {},
          "execution_count": 221
        },
        {
          "output_type": "display_data",
          "data": {
            "image/png": "[encoded data removed]",
            "text/plain": [
              "<Figure size 432x288 with 1 Axes>"
            ]
          },
          "metadata": {
            "needs_background": "light"
          }
        }
      ]
    },
    {
      "cell_type": "markdown",
      "metadata": {
        "id": "wDolXIYTI9p4"
      },
      "source": [
        "**#UKRAINE Vaccination Data**"
      ]
    },
    {
      "cell_type": "code",
      "metadata": {
        "id": "iIlzDwYsmL-y"
      },
      "source": [
        "df2=pd.read_csv('/content/gdrive/MyDrive/Colab Notebooks/data/Ukraine.csv')"
      ],
      "execution_count": null,
      "outputs": []
    },
    {
      "cell_type": "code",
      "metadata": {
        "colab": {
          "base_uri": "https://localhost:8080/",
          "height": 589
        },
        "id": "D5I15oYVmbim",
        "outputId": "80300b3c-92f4-4704-f7af-0d7338199d09"
      },
      "source": [
        "df2"
      ],
      "execution_count": null,
      "outputs": [
        {
          "output_type": "execute_result",
          "data": {
            "text/html": [
              "<div>\n",
              "<style scoped>\n",
              "    .dataframe tbody tr th:only-of-type {\n",
              "        vertical-align: middle;\n",
              "    }\n",
              "\n",
              "    .dataframe tbody tr th {\n",
              "        vertical-align: top;\n",
              "    }\n",
              "\n",
              "    .dataframe thead th {\n",
              "        text-align: right;\n",
              "    }\n",
              "</style>\n",
              "<table border=\"1\" class=\"dataframe\">\n",
              "  <thead>\n",
              "    <tr style=\"text-align: right;\">\n",
              "      <th></th>\n",
              "      <th>location</th>\n",
              "      <th>date</th>\n",
              "      <th>vaccine</th>\n",
              "      <th>source_url</th>\n",
              "      <th>total_vaccinations</th>\n",
              "      <th>people_vaccinated</th>\n",
              "      <th>people_fully_vaccinated</th>\n",
              "      <th>total_boosters</th>\n",
              "    </tr>\n",
              "  </thead>\n",
              "  <tbody>\n",
              "    <tr>\n",
              "      <th>0</th>\n",
              "      <td>Ukraine</td>\n",
              "      <td>2021-02-24</td>\n",
              "      <td>Oxford/AstraZeneca</td>\n",
              "      <td>https://t.me/COVID19_Ukraine/1485</td>\n",
              "      <td>159</td>\n",
              "      <td>159</td>\n",
              "      <td>0</td>\n",
              "      <td>NaN</td>\n",
              "    </tr>\n",
              "    <tr>\n",
              "      <th>1</th>\n",
              "      <td>Ukraine</td>\n",
              "      <td>2021-02-25</td>\n",
              "      <td>Oxford/AstraZeneca</td>\n",
              "      <td>https://vaccination.covid19.gov.ua/</td>\n",
              "      <td>1338</td>\n",
              "      <td>1338</td>\n",
              "      <td>0</td>\n",
              "      <td>NaN</td>\n",
              "    </tr>\n",
              "    <tr>\n",
              "      <th>2</th>\n",
              "      <td>Ukraine</td>\n",
              "      <td>2021-02-26</td>\n",
              "      <td>Oxford/AstraZeneca</td>\n",
              "      <td>https://vaccination.covid19.gov.ua/</td>\n",
              "      <td>3051</td>\n",
              "      <td>3051</td>\n",
              "      <td>0</td>\n",
              "      <td>NaN</td>\n",
              "    </tr>\n",
              "    <tr>\n",
              "      <th>3</th>\n",
              "      <td>Ukraine</td>\n",
              "      <td>2021-02-27</td>\n",
              "      <td>Oxford/AstraZeneca</td>\n",
              "      <td>https://vaccination.covid19.gov.ua/</td>\n",
              "      <td>3141</td>\n",
              "      <td>3141</td>\n",
              "      <td>0</td>\n",
              "      <td>NaN</td>\n",
              "    </tr>\n",
              "    <tr>\n",
              "      <th>4</th>\n",
              "      <td>Ukraine</td>\n",
              "      <td>2021-03-01</td>\n",
              "      <td>Oxford/AstraZeneca</td>\n",
              "      <td>https://vaccination.covid19.gov.ua/</td>\n",
              "      <td>4905</td>\n",
              "      <td>4905</td>\n",
              "      <td>0</td>\n",
              "      <td>NaN</td>\n",
              "    </tr>\n",
              "    <tr>\n",
              "      <th>...</th>\n",
              "      <td>...</td>\n",
              "      <td>...</td>\n",
              "      <td>...</td>\n",
              "      <td>...</td>\n",
              "      <td>...</td>\n",
              "      <td>...</td>\n",
              "      <td>...</td>\n",
              "      <td>...</td>\n",
              "    </tr>\n",
              "    <tr>\n",
              "      <th>233</th>\n",
              "      <td>Ukraine</td>\n",
              "      <td>2021-10-27</td>\n",
              "      <td>Moderna, Oxford/AstraZeneca, Sinovac, Pfizer/B...</td>\n",
              "      <td>https://vaccination.covid19.gov.ua/</td>\n",
              "      <td>16793558</td>\n",
              "      <td>9576175</td>\n",
              "      <td>7217383</td>\n",
              "      <td>NaN</td>\n",
              "    </tr>\n",
              "    <tr>\n",
              "      <th>234</th>\n",
              "      <td>Ukraine</td>\n",
              "      <td>2021-10-28</td>\n",
              "      <td>Moderna, Oxford/AstraZeneca, Sinovac, Pfizer/B...</td>\n",
              "      <td>https://vaccination.covid19.gov.ua/</td>\n",
              "      <td>17082799</td>\n",
              "      <td>9790278</td>\n",
              "      <td>7292521</td>\n",
              "      <td>NaN</td>\n",
              "    </tr>\n",
              "    <tr>\n",
              "      <th>235</th>\n",
              "      <td>Ukraine</td>\n",
              "      <td>2021-10-29</td>\n",
              "      <td>Moderna, Oxford/AstraZeneca, Sinovac, Pfizer/B...</td>\n",
              "      <td>https://vaccination.covid19.gov.ua/</td>\n",
              "      <td>17400008</td>\n",
              "      <td>10022976</td>\n",
              "      <td>7377032</td>\n",
              "      <td>NaN</td>\n",
              "    </tr>\n",
              "    <tr>\n",
              "      <th>236</th>\n",
              "      <td>Ukraine</td>\n",
              "      <td>2021-10-30</td>\n",
              "      <td>Moderna, Oxford/AstraZeneca, Sinovac, Pfizer/B...</td>\n",
              "      <td>https://vaccination.covid19.gov.ua/</td>\n",
              "      <td>17577773</td>\n",
              "      <td>10156227</td>\n",
              "      <td>7421546</td>\n",
              "      <td>NaN</td>\n",
              "    </tr>\n",
              "    <tr>\n",
              "      <th>237</th>\n",
              "      <td>Ukraine</td>\n",
              "      <td>2021-10-31</td>\n",
              "      <td>Moderna, Oxford/AstraZeneca, Sinovac, Pfizer/B...</td>\n",
              "      <td>https://vaccination.covid19.gov.ua/</td>\n",
              "      <td>17695591</td>\n",
              "      <td>10245773</td>\n",
              "      <td>7449818</td>\n",
              "      <td>NaN</td>\n",
              "    </tr>\n",
              "  </tbody>\n",
              "</table>\n",
              "<p>238 rows × 8 columns</p>\n",
              "</div>"
            ],
            "text/plain": [
              "    location        date  ... people_fully_vaccinated total_boosters\n",
              "0    Ukraine  2021-02-24  ...                       0            NaN\n",
              "1    Ukraine  2021-02-25  ...                       0            NaN\n",
              "2    Ukraine  2021-02-26  ...                       0            NaN\n",
              "3    Ukraine  2021-02-27  ...                       0            NaN\n",
              "4    Ukraine  2021-03-01  ...                       0            NaN\n",
              "..       ...         ...  ...                     ...            ...\n",
              "233  Ukraine  2021-10-27  ...                 7217383            NaN\n",
              "234  Ukraine  2021-10-28  ...                 7292521            NaN\n",
              "235  Ukraine  2021-10-29  ...                 7377032            NaN\n",
              "236  Ukraine  2021-10-30  ...                 7421546            NaN\n",
              "237  Ukraine  2021-10-31  ...                 7449818            NaN\n",
              "\n",
              "[238 rows x 8 columns]"
            ]
          },
          "metadata": {},
          "execution_count": 241
        }
      ]
    },
    {
      "cell_type": "code",
      "metadata": {
        "id": "cptd6LPNJkm0"
      },
      "source": [
        "df2.drop('source_url', axis=1, inplace=True)"
      ],
      "execution_count": null,
      "outputs": []
    },
    {
      "cell_type": "code",
      "metadata": {
        "colab": {
          "base_uri": "https://localhost:8080/",
          "height": 297
        },
        "id": "QDRQsUlZmeWN",
        "outputId": "817a469a-3b8b-4937-8f12-795d10f97f65"
      },
      "source": [
        "df2.boxplot(column=['total_vaccinations'])"
      ],
      "execution_count": null,
      "outputs": [
        {
          "output_type": "execute_result",
          "data": {
            "text/plain": [
              "<matplotlib.axes._subplots.AxesSubplot at 0x7f2c59aca990>"
            ]
          },
          "metadata": {},
          "execution_count": 244
        },
        {
          "output_type": "display_data",
          "data": {
            "image/png": "[encoded data removed]",
            "text/plain": [
              "<Figure size 432x288 with 1 Axes>"
            ]
          },
          "metadata": {
            "needs_background": "light"
          }
        }
      ]
    },
    {
      "cell_type": "code",
      "metadata": {
        "colab": {
          "base_uri": "https://localhost:8080/",
          "height": 303
        },
        "id": "nLWtYm6JIita",
        "outputId": "8a5d2aa0-8586-4048-be28-0c3b83406f48"
      },
      "source": [
        "df2.plot.hist()\n",
        "plt.ylim(0,250)"
      ],
      "execution_count": null,
      "outputs": [
        {
          "output_type": "execute_result",
          "data": {
            "text/plain": [
              "(0.0, 250.0)"
            ]
          },
          "metadata": {},
          "execution_count": 243
        },
        {
          "output_type": "display_data",
          "data": {
            "image/png": "[encoded data removed]",
            "text/plain": [
              "<Figure size 432x288 with 1 Axes>"
            ]
          },
          "metadata": {
            "needs_background": "light"
          }
        }
      ]
    },
    {
      "cell_type": "markdown",
      "metadata": {
        "id": "cfzKYGsCJLMB"
      },
      "source": [
        "**#India Vaccination Data**"
      ]
    },
    {
      "cell_type": "code",
      "metadata": {
        "id": "eGXDvt8Nmm_0"
      },
      "source": [
        "df3=pd.read_csv('/content/gdrive/MyDrive/Colab Notebooks/data/India.csv')"
      ],
      "execution_count": null,
      "outputs": []
    },
    {
      "cell_type": "code",
      "metadata": {
        "colab": {
          "base_uri": "https://localhost:8080/",
          "height": 694
        },
        "id": "tIsqWIELmxLL",
        "outputId": "1f894471-5145-48ca-e445-0b711d5eb1b4"
      },
      "source": [
        "df3"
      ],
      "execution_count": null,
      "outputs": [
        {
          "output_type": "execute_result",
          "data": {
            "text/html": [
              "<div>\n",
              "<style scoped>\n",
              "    .dataframe tbody tr th:only-of-type {\n",
              "        vertical-align: middle;\n",
              "    }\n",
              "\n",
              "    .dataframe tbody tr th {\n",
              "        vertical-align: top;\n",
              "    }\n",
              "\n",
              "    .dataframe thead th {\n",
              "        text-align: right;\n",
              "    }\n",
              "</style>\n",
              "<table border=\"1\" class=\"dataframe\">\n",
              "  <thead>\n",
              "    <tr style=\"text-align: right;\">\n",
              "      <th></th>\n",
              "      <th>location</th>\n",
              "      <th>date</th>\n",
              "      <th>vaccine</th>\n",
              "      <th>total_vaccinations</th>\n",
              "      <th>people_vaccinated</th>\n",
              "      <th>people_fully_vaccinated</th>\n",
              "      <th>source_url</th>\n",
              "      <th>total_boosters</th>\n",
              "    </tr>\n",
              "  </thead>\n",
              "  <tbody>\n",
              "    <tr>\n",
              "      <th>0</th>\n",
              "      <td>India</td>\n",
              "      <td>2021-01-15</td>\n",
              "      <td>Covaxin, Oxford/AstraZeneca</td>\n",
              "      <td>0</td>\n",
              "      <td>0</td>\n",
              "      <td>0</td>\n",
              "      <td>https://twitter.com/MoHFW_INDIA/status/1350459...</td>\n",
              "      <td>NaN</td>\n",
              "    </tr>\n",
              "    <tr>\n",
              "      <th>1</th>\n",
              "      <td>India</td>\n",
              "      <td>2021-01-16</td>\n",
              "      <td>Covaxin, Oxford/AstraZeneca</td>\n",
              "      <td>191181</td>\n",
              "      <td>191181</td>\n",
              "      <td>0</td>\n",
              "      <td>https://twitter.com/MoHFW_INDIA/status/1350459...</td>\n",
              "      <td>NaN</td>\n",
              "    </tr>\n",
              "    <tr>\n",
              "      <th>2</th>\n",
              "      <td>India</td>\n",
              "      <td>2021-01-17</td>\n",
              "      <td>Covaxin, Oxford/AstraZeneca</td>\n",
              "      <td>224301</td>\n",
              "      <td>224301</td>\n",
              "      <td>0</td>\n",
              "      <td>https://twitter.com/MoHFW_INDIA/status/1350815...</td>\n",
              "      <td>NaN</td>\n",
              "    </tr>\n",
              "    <tr>\n",
              "      <th>3</th>\n",
              "      <td>India</td>\n",
              "      <td>2021-01-18</td>\n",
              "      <td>Covaxin, Oxford/AstraZeneca</td>\n",
              "      <td>454049</td>\n",
              "      <td>454049</td>\n",
              "      <td>0</td>\n",
              "      <td>https://www.mohfw.gov.in/</td>\n",
              "      <td>NaN</td>\n",
              "    </tr>\n",
              "    <tr>\n",
              "      <th>4</th>\n",
              "      <td>India</td>\n",
              "      <td>2021-01-19</td>\n",
              "      <td>Covaxin, Oxford/AstraZeneca</td>\n",
              "      <td>674835</td>\n",
              "      <td>674835</td>\n",
              "      <td>0</td>\n",
              "      <td>https://www.mohfw.gov.in/</td>\n",
              "      <td>NaN</td>\n",
              "    </tr>\n",
              "    <tr>\n",
              "      <th>...</th>\n",
              "      <td>...</td>\n",
              "      <td>...</td>\n",
              "      <td>...</td>\n",
              "      <td>...</td>\n",
              "      <td>...</td>\n",
              "      <td>...</td>\n",
              "      <td>...</td>\n",
              "      <td>...</td>\n",
              "    </tr>\n",
              "    <tr>\n",
              "      <th>278</th>\n",
              "      <td>India</td>\n",
              "      <td>2021-10-31</td>\n",
              "      <td>Covaxin, Oxford/AstraZeneca, Sputnik V</td>\n",
              "      <td>1062631351</td>\n",
              "      <td>733542729</td>\n",
              "      <td>329088622</td>\n",
              "      <td>https://dashboard.cowin.gov.in/</td>\n",
              "      <td>NaN</td>\n",
              "    </tr>\n",
              "    <tr>\n",
              "      <th>279</th>\n",
              "      <td>India</td>\n",
              "      <td>2021-11-01</td>\n",
              "      <td>Covaxin, Oxford/AstraZeneca, Sputnik V</td>\n",
              "      <td>1067654329</td>\n",
              "      <td>735580368</td>\n",
              "      <td>332073961</td>\n",
              "      <td>https://dashboard.cowin.gov.in/</td>\n",
              "      <td>NaN</td>\n",
              "    </tr>\n",
              "    <tr>\n",
              "      <th>280</th>\n",
              "      <td>India</td>\n",
              "      <td>2021-11-02</td>\n",
              "      <td>Covaxin, Oxford/AstraZeneca, Sputnik V</td>\n",
              "      <td>1069718646</td>\n",
              "      <td>736446575</td>\n",
              "      <td>333272071</td>\n",
              "      <td>https://dashboard.cowin.gov.in/</td>\n",
              "      <td>NaN</td>\n",
              "    </tr>\n",
              "    <tr>\n",
              "      <th>281</th>\n",
              "      <td>India</td>\n",
              "      <td>2021-11-03</td>\n",
              "      <td>Covaxin, Oxford/AstraZeneca, Sputnik V</td>\n",
              "      <td>1075059421</td>\n",
              "      <td>738501950</td>\n",
              "      <td>336557471</td>\n",
              "      <td>https://dashboard.cowin.gov.in/</td>\n",
              "      <td>NaN</td>\n",
              "    </tr>\n",
              "    <tr>\n",
              "      <th>282</th>\n",
              "      <td>India</td>\n",
              "      <td>2021-11-04</td>\n",
              "      <td>Covaxin, Oxford/AstraZeneca, Sputnik V</td>\n",
              "      <td>1077107323</td>\n",
              "      <td>739357801</td>\n",
              "      <td>337749522</td>\n",
              "      <td>https://dashboard.cowin.gov.in/</td>\n",
              "      <td>NaN</td>\n",
              "    </tr>\n",
              "  </tbody>\n",
              "</table>\n",
              "<p>283 rows × 8 columns</p>\n",
              "</div>"
            ],
            "text/plain": [
              "    location  ... total_boosters\n",
              "0      India  ...            NaN\n",
              "1      India  ...            NaN\n",
              "2      India  ...            NaN\n",
              "3      India  ...            NaN\n",
              "4      India  ...            NaN\n",
              "..       ...  ...            ...\n",
              "278    India  ...            NaN\n",
              "279    India  ...            NaN\n",
              "280    India  ...            NaN\n",
              "281    India  ...            NaN\n",
              "282    India  ...            NaN\n",
              "\n",
              "[283 rows x 8 columns]"
            ]
          },
          "metadata": {},
          "execution_count": 233
        }
      ]
    },
    {
      "cell_type": "code",
      "metadata": {
        "colab": {
          "base_uri": "https://localhost:8080/",
          "height": 303
        },
        "id": "ISDhGFTD7J6a",
        "outputId": "8491a3b8-5092-4129-8c93-4eca9611b65f"
      },
      "source": [
        "df3.plot.hist()\n",
        "plt.xlim(0,839357801)\n",
        "plt.ylim(0,250)"
      ],
      "execution_count": null,
      "outputs": [
        {
          "output_type": "execute_result",
          "data": {
            "text/plain": [
              "(0.0, 250.0)"
            ]
          },
          "metadata": {},
          "execution_count": 234
        },
        {
          "output_type": "display_data",
          "data": {
            "image/png": "[encoded data removed]",
            "text/plain": [
              "<Figure size 432x288 with 1 Axes>"
            ]
          },
          "metadata": {
            "needs_background": "light"
          }
        }
      ]
    },
    {
      "cell_type": "markdown",
      "metadata": {
        "id": "GqZQLya3aOrM"
      },
      "source": [
        "#Removed the source_url column from the dataframe as it just stores the same  links to destination."
      ]
    },
    {
      "cell_type": "code",
      "metadata": {
        "id": "ix-MXsc8m9ix"
      },
      "source": [
        "df3.drop('source_url', axis=1, inplace=True)"
      ],
      "execution_count": null,
      "outputs": []
    },
    {
      "cell_type": "code",
      "metadata": {
        "colab": {
          "base_uri": "https://localhost:8080/"
        },
        "id": "wZza8Y1TvU7p",
        "outputId": "f3c4301c-72e5-44c2-e706-e38d17594cc0"
      },
      "source": [
        "df3.columns\n"
      ],
      "execution_count": null,
      "outputs": [
        {
          "output_type": "execute_result",
          "data": {
            "text/plain": [
              "Index(['location', 'date', 'vaccine', 'total_vaccinations',\n",
              "       'people_vaccinated', 'people_fully_vaccinated', 'total_boosters'],\n",
              "      dtype='object')"
            ]
          },
          "metadata": {},
          "execution_count": 236
        }
      ]
    },
    {
      "cell_type": "markdown",
      "metadata": {
        "id": "4EOWb26caZph"
      },
      "source": [
        "#Replacing the NaN values to 0"
      ]
    },
    {
      "cell_type": "code",
      "metadata": {
        "id": "wrTg4vcqvujR"
      },
      "source": [
        "df3[\"total_boosters\"].fillna(\"0\", inplace = True)"
      ],
      "execution_count": null,
      "outputs": []
    },
    {
      "cell_type": "code",
      "metadata": {
        "id": "txfaeFROZXoL",
        "colab": {
          "base_uri": "https://localhost:8080/",
          "height": 419
        },
        "outputId": "011cbd55-068a-4ed3-c7cf-6a70347f1b27"
      },
      "source": [
        "df3"
      ],
      "execution_count": null,
      "outputs": [
        {
          "output_type": "execute_result",
          "data": {
            "text/html": [
              "<div>\n",
              "<style scoped>\n",
              "    .dataframe tbody tr th:only-of-type {\n",
              "        vertical-align: middle;\n",
              "    }\n",
              "\n",
              "    .dataframe tbody tr th {\n",
              "        vertical-align: top;\n",
              "    }\n",
              "\n",
              "    .dataframe thead th {\n",
              "        text-align: right;\n",
              "    }\n",
              "</style>\n",
              "<table border=\"1\" class=\"dataframe\">\n",
              "  <thead>\n",
              "    <tr style=\"text-align: right;\">\n",
              "      <th></th>\n",
              "      <th>location</th>\n",
              "      <th>date</th>\n",
              "      <th>vaccine</th>\n",
              "      <th>total_vaccinations</th>\n",
              "      <th>people_vaccinated</th>\n",
              "      <th>people_fully_vaccinated</th>\n",
              "      <th>total_boosters</th>\n",
              "    </tr>\n",
              "  </thead>\n",
              "  <tbody>\n",
              "    <tr>\n",
              "      <th>0</th>\n",
              "      <td>India</td>\n",
              "      <td>2021-01-15</td>\n",
              "      <td>Covaxin, Oxford/AstraZeneca</td>\n",
              "      <td>0</td>\n",
              "      <td>0</td>\n",
              "      <td>0</td>\n",
              "      <td>0</td>\n",
              "    </tr>\n",
              "    <tr>\n",
              "      <th>1</th>\n",
              "      <td>India</td>\n",
              "      <td>2021-01-16</td>\n",
              "      <td>Covaxin, Oxford/AstraZeneca</td>\n",
              "      <td>191181</td>\n",
              "      <td>191181</td>\n",
              "      <td>0</td>\n",
              "      <td>0</td>\n",
              "    </tr>\n",
              "    <tr>\n",
              "      <th>2</th>\n",
              "      <td>India</td>\n",
              "      <td>2021-01-17</td>\n",
              "      <td>Covaxin, Oxford/AstraZeneca</td>\n",
              "      <td>224301</td>\n",
              "      <td>224301</td>\n",
              "      <td>0</td>\n",
              "      <td>0</td>\n",
              "    </tr>\n",
              "    <tr>\n",
              "      <th>3</th>\n",
              "      <td>India</td>\n",
              "      <td>2021-01-18</td>\n",
              "      <td>Covaxin, Oxford/AstraZeneca</td>\n",
              "      <td>454049</td>\n",
              "      <td>454049</td>\n",
              "      <td>0</td>\n",
              "      <td>0</td>\n",
              "    </tr>\n",
              "    <tr>\n",
              "      <th>4</th>\n",
              "      <td>India</td>\n",
              "      <td>2021-01-19</td>\n",
              "      <td>Covaxin, Oxford/AstraZeneca</td>\n",
              "      <td>674835</td>\n",
              "      <td>674835</td>\n",
              "      <td>0</td>\n",
              "      <td>0</td>\n",
              "    </tr>\n",
              "    <tr>\n",
              "      <th>...</th>\n",
              "      <td>...</td>\n",
              "      <td>...</td>\n",
              "      <td>...</td>\n",
              "      <td>...</td>\n",
              "      <td>...</td>\n",
              "      <td>...</td>\n",
              "      <td>...</td>\n",
              "    </tr>\n",
              "    <tr>\n",
              "      <th>278</th>\n",
              "      <td>India</td>\n",
              "      <td>2021-10-31</td>\n",
              "      <td>Covaxin, Oxford/AstraZeneca, Sputnik V</td>\n",
              "      <td>1062631351</td>\n",
              "      <td>733542729</td>\n",
              "      <td>329088622</td>\n",
              "      <td>0</td>\n",
              "    </tr>\n",
              "    <tr>\n",
              "      <th>279</th>\n",
              "      <td>India</td>\n",
              "      <td>2021-11-01</td>\n",
              "      <td>Covaxin, Oxford/AstraZeneca, Sputnik V</td>\n",
              "      <td>1067654329</td>\n",
              "      <td>735580368</td>\n",
              "      <td>332073961</td>\n",
              "      <td>0</td>\n",
              "    </tr>\n",
              "    <tr>\n",
              "      <th>280</th>\n",
              "      <td>India</td>\n",
              "      <td>2021-11-02</td>\n",
              "      <td>Covaxin, Oxford/AstraZeneca, Sputnik V</td>\n",
              "      <td>1069718646</td>\n",
              "      <td>736446575</td>\n",
              "      <td>333272071</td>\n",
              "      <td>0</td>\n",
              "    </tr>\n",
              "    <tr>\n",
              "      <th>281</th>\n",
              "      <td>India</td>\n",
              "      <td>2021-11-03</td>\n",
              "      <td>Covaxin, Oxford/AstraZeneca, Sputnik V</td>\n",
              "      <td>1075059421</td>\n",
              "      <td>738501950</td>\n",
              "      <td>336557471</td>\n",
              "      <td>0</td>\n",
              "    </tr>\n",
              "    <tr>\n",
              "      <th>282</th>\n",
              "      <td>India</td>\n",
              "      <td>2021-11-04</td>\n",
              "      <td>Covaxin, Oxford/AstraZeneca, Sputnik V</td>\n",
              "      <td>1077107323</td>\n",
              "      <td>739357801</td>\n",
              "      <td>337749522</td>\n",
              "      <td>0</td>\n",
              "    </tr>\n",
              "  </tbody>\n",
              "</table>\n",
              "<p>283 rows × 7 columns</p>\n",
              "</div>"
            ],
            "text/plain": [
              "    location        date  ... people_fully_vaccinated  total_boosters\n",
              "0      India  2021-01-15  ...                       0               0\n",
              "1      India  2021-01-16  ...                       0               0\n",
              "2      India  2021-01-17  ...                       0               0\n",
              "3      India  2021-01-18  ...                       0               0\n",
              "4      India  2021-01-19  ...                       0               0\n",
              "..       ...         ...  ...                     ...             ...\n",
              "278    India  2021-10-31  ...               329088622               0\n",
              "279    India  2021-11-01  ...               332073961               0\n",
              "280    India  2021-11-02  ...               333272071               0\n",
              "281    India  2021-11-03  ...               336557471               0\n",
              "282    India  2021-11-04  ...               337749522               0\n",
              "\n",
              "[283 rows x 7 columns]"
            ]
          },
          "metadata": {},
          "execution_count": 238
        }
      ]
    },
    {
      "cell_type": "code",
      "metadata": {
        "colab": {
          "base_uri": "https://localhost:8080/",
          "height": 297
        },
        "id": "Qkzh3IgPwjZW",
        "outputId": "7fa74b35-3722-42af-9158-95e736533831"
      },
      "source": [
        "df3.boxplot(column=['total_vaccinations'])"
      ],
      "execution_count": null,
      "outputs": [
        {
          "output_type": "execute_result",
          "data": {
            "text/plain": [
              "<matplotlib.axes._subplots.AxesSubplot at 0x7f2c59b086d0>"
            ]
          },
          "metadata": {},
          "execution_count": 239
        },
        {
          "output_type": "display_data",
          "data": {
            "image/png": "[encoded data removed]",
            "text/plain": [
              "<Figure size 432x288 with 1 Axes>"
            ]
          },
          "metadata": {
            "needs_background": "light"
          }
        }
      ]
    },
    {
      "cell_type": "markdown",
      "metadata": {
        "id": "bsenA9LQJ8zP"
      },
      "source": [
        "**#US Vaccination Data**"
      ]
    },
    {
      "cell_type": "code",
      "metadata": {
        "id": "ASSxEpG1wylx"
      },
      "source": [
        "df4=pd.read_csv('/content/gdrive/MyDrive/Colab Notebooks/data/US.csv')"
      ],
      "execution_count": null,
      "outputs": []
    },
    {
      "cell_type": "code",
      "metadata": {
        "colab": {
          "base_uri": "https://localhost:8080/",
          "height": 589
        },
        "id": "cSS6r15Nw5si",
        "outputId": "1f7d0742-918b-49e4-95fb-5e392e2fb018"
      },
      "source": [
        "df4\n"
      ],
      "execution_count": null,
      "outputs": [
        {
          "output_type": "execute_result",
          "data": {
            "text/html": [
              "<div>\n",
              "<style scoped>\n",
              "    .dataframe tbody tr th:only-of-type {\n",
              "        vertical-align: middle;\n",
              "    }\n",
              "\n",
              "    .dataframe tbody tr th {\n",
              "        vertical-align: top;\n",
              "    }\n",
              "\n",
              "    .dataframe thead th {\n",
              "        text-align: right;\n",
              "    }\n",
              "</style>\n",
              "<table border=\"1\" class=\"dataframe\">\n",
              "  <thead>\n",
              "    <tr style=\"text-align: right;\">\n",
              "      <th></th>\n",
              "      <th>date</th>\n",
              "      <th>location</th>\n",
              "      <th>total_vaccinations</th>\n",
              "      <th>people_vaccinated</th>\n",
              "      <th>people_fully_vaccinated</th>\n",
              "      <th>total_boosters</th>\n",
              "      <th>source_url</th>\n",
              "      <th>vaccine</th>\n",
              "    </tr>\n",
              "  </thead>\n",
              "  <tbody>\n",
              "    <tr>\n",
              "      <th>0</th>\n",
              "      <td>2020-12-13</td>\n",
              "      <td>United States</td>\n",
              "      <td>20013</td>\n",
              "      <td>17073</td>\n",
              "      <td>3579</td>\n",
              "      <td>0</td>\n",
              "      <td>https://covid.cdc.gov/covid-data-tracker/#vacc...</td>\n",
              "      <td>Pfizer/BioNTech</td>\n",
              "    </tr>\n",
              "    <tr>\n",
              "      <th>1</th>\n",
              "      <td>2020-12-14</td>\n",
              "      <td>United States</td>\n",
              "      <td>24300</td>\n",
              "      <td>21231</td>\n",
              "      <td>3668</td>\n",
              "      <td>0</td>\n",
              "      <td>https://covid.cdc.gov/covid-data-tracker/#vacc...</td>\n",
              "      <td>Pfizer/BioNTech</td>\n",
              "    </tr>\n",
              "    <tr>\n",
              "      <th>2</th>\n",
              "      <td>2020-12-15</td>\n",
              "      <td>United States</td>\n",
              "      <td>72853</td>\n",
              "      <td>67597</td>\n",
              "      <td>3851</td>\n",
              "      <td>0</td>\n",
              "      <td>https://covid.cdc.gov/covid-data-tracker/#vacc...</td>\n",
              "      <td>Pfizer/BioNTech</td>\n",
              "    </tr>\n",
              "    <tr>\n",
              "      <th>3</th>\n",
              "      <td>2020-12-16</td>\n",
              "      <td>United States</td>\n",
              "      <td>231420</td>\n",
              "      <td>220759</td>\n",
              "      <td>4214</td>\n",
              "      <td>0</td>\n",
              "      <td>https://covid.cdc.gov/covid-data-tracker/#vacc...</td>\n",
              "      <td>Pfizer/BioNTech</td>\n",
              "    </tr>\n",
              "    <tr>\n",
              "      <th>4</th>\n",
              "      <td>2020-12-17</td>\n",
              "      <td>United States</td>\n",
              "      <td>501644</td>\n",
              "      <td>484011</td>\n",
              "      <td>4743</td>\n",
              "      <td>0</td>\n",
              "      <td>https://covid.cdc.gov/covid-data-tracker/#vacc...</td>\n",
              "      <td>Pfizer/BioNTech</td>\n",
              "    </tr>\n",
              "    <tr>\n",
              "      <th>...</th>\n",
              "      <td>...</td>\n",
              "      <td>...</td>\n",
              "      <td>...</td>\n",
              "      <td>...</td>\n",
              "      <td>...</td>\n",
              "      <td>...</td>\n",
              "      <td>...</td>\n",
              "      <td>...</td>\n",
              "    </tr>\n",
              "    <tr>\n",
              "      <th>322</th>\n",
              "      <td>2021-10-31</td>\n",
              "      <td>United States</td>\n",
              "      <td>424776573</td>\n",
              "      <td>222159807</td>\n",
              "      <td>191564086</td>\n",
              "      <td>20156138</td>\n",
              "      <td>https://covid.cdc.gov/covid-data-tracker/#vacc...</td>\n",
              "      <td>Johnson&amp;Johnson, Moderna, Pfizer/BioNTech</td>\n",
              "    </tr>\n",
              "    <tr>\n",
              "      <th>323</th>\n",
              "      <td>2021-11-01</td>\n",
              "      <td>United States</td>\n",
              "      <td>425906647</td>\n",
              "      <td>222414631</td>\n",
              "      <td>191718288</td>\n",
              "      <td>20891038</td>\n",
              "      <td>https://covid.cdc.gov/covid-data-tracker/#vacc...</td>\n",
              "      <td>Johnson&amp;Johnson, Moderna, Pfizer/BioNTech</td>\n",
              "    </tr>\n",
              "    <tr>\n",
              "      <th>324</th>\n",
              "      <td>2021-11-02</td>\n",
              "      <td>United States</td>\n",
              "      <td>426631679</td>\n",
              "      <td>222565598</td>\n",
              "      <td>191809625</td>\n",
              "      <td>21384385</td>\n",
              "      <td>https://covid.cdc.gov/covid-data-tracker/#vacc...</td>\n",
              "      <td>Johnson&amp;Johnson, Moderna, Pfizer/BioNTech</td>\n",
              "    </tr>\n",
              "    <tr>\n",
              "      <th>325</th>\n",
              "      <td>2021-11-03</td>\n",
              "      <td>United States</td>\n",
              "      <td>426728092</td>\n",
              "      <td>222591394</td>\n",
              "      <td>191823814</td>\n",
              "      <td>21441707</td>\n",
              "      <td>https://covid.cdc.gov/covid-data-tracker/#vacc...</td>\n",
              "      <td>Johnson&amp;Johnson, Moderna, Pfizer/BioNTech</td>\n",
              "    </tr>\n",
              "    <tr>\n",
              "      <th>326</th>\n",
              "      <td>2021-11-04</td>\n",
              "      <td>United States</td>\n",
              "      <td>426728092</td>\n",
              "      <td>222591394</td>\n",
              "      <td>191823814</td>\n",
              "      <td>21441707</td>\n",
              "      <td>https://covid.cdc.gov/covid-data-tracker/#vacc...</td>\n",
              "      <td>Johnson&amp;Johnson, Moderna, Pfizer/BioNTech</td>\n",
              "    </tr>\n",
              "  </tbody>\n",
              "</table>\n",
              "<p>327 rows × 8 columns</p>\n",
              "</div>"
            ],
            "text/plain": [
              "           date  ...                                    vaccine\n",
              "0    2020-12-13  ...                            Pfizer/BioNTech\n",
              "1    2020-12-14  ...                            Pfizer/BioNTech\n",
              "2    2020-12-15  ...                            Pfizer/BioNTech\n",
              "3    2020-12-16  ...                            Pfizer/BioNTech\n",
              "4    2020-12-17  ...                            Pfizer/BioNTech\n",
              "..          ...  ...                                        ...\n",
              "322  2021-10-31  ...  Johnson&Johnson, Moderna, Pfizer/BioNTech\n",
              "323  2021-11-01  ...  Johnson&Johnson, Moderna, Pfizer/BioNTech\n",
              "324  2021-11-02  ...  Johnson&Johnson, Moderna, Pfizer/BioNTech\n",
              "325  2021-11-03  ...  Johnson&Johnson, Moderna, Pfizer/BioNTech\n",
              "326  2021-11-04  ...  Johnson&Johnson, Moderna, Pfizer/BioNTech\n",
              "\n",
              "[327 rows x 8 columns]"
            ]
          },
          "metadata": {},
          "execution_count": 230
        }
      ]
    },
    {
      "cell_type": "markdown",
      "metadata": {
        "id": "hEilRwzIZwKS"
      },
      "source": [
        "#Removed the source_url column from the dataframe as it just stores the same links to destination."
      ]
    },
    {
      "cell_type": "code",
      "metadata": {
        "id": "bqJJfdI4xD3J"
      },
      "source": [
        "df4.drop('source_url', axis=1, inplace=True)"
      ],
      "execution_count": null,
      "outputs": []
    },
    {
      "cell_type": "code",
      "metadata": {
        "colab": {
          "base_uri": "https://localhost:8080/"
        },
        "id": "vaMW3qKtXTrk",
        "outputId": "4483c0a7-321d-46f7-89d2-1e832bd2390a"
      },
      "source": [
        "df4.columns"
      ],
      "execution_count": null,
      "outputs": [
        {
          "output_type": "execute_result",
          "data": {
            "text/plain": [
              "Index(['date', 'location', 'total_vaccinations', 'people_vaccinated',\n",
              "       'people_fully_vaccinated', 'total_boosters', 'vaccine'],\n",
              "      dtype='object')"
            ]
          },
          "metadata": {},
          "execution_count": 225
        }
      ]
    },
    {
      "cell_type": "code",
      "metadata": {
        "colab": {
          "base_uri": "https://localhost:8080/",
          "height": 297
        },
        "id": "KCt6LdtUxIOh",
        "outputId": "64347056-480c-4106-af3e-351422dff0f6"
      },
      "source": [
        "df4.boxplot(column=['total_vaccinations'])"
      ],
      "execution_count": null,
      "outputs": [
        {
          "output_type": "execute_result",
          "data": {
            "text/plain": [
              "<matplotlib.axes._subplots.AxesSubplot at 0x7f2c59d38990>"
            ]
          },
          "metadata": {},
          "execution_count": 224
        },
        {
          "output_type": "display_data",
          "data": {
            "image/png": "[encoded data removed]",
            "text/plain": [
              "<Figure size 432x288 with 1 Axes>"
            ]
          },
          "metadata": {
            "needs_background": "light"
          }
        }
      ]
    },
    {
      "cell_type": "code",
      "metadata": {
        "colab": {
          "base_uri": "https://localhost:8080/",
          "height": 419
        },
        "id": "Ow8BKom23BwZ",
        "outputId": "fc85b28b-da63-4fec-967d-394ca0e39afa"
      },
      "source": [
        "df4"
      ],
      "execution_count": null,
      "outputs": [
        {
          "output_type": "execute_result",
          "data": {
            "text/html": [
              "<div>\n",
              "<style scoped>\n",
              "    .dataframe tbody tr th:only-of-type {\n",
              "        vertical-align: middle;\n",
              "    }\n",
              "\n",
              "    .dataframe tbody tr th {\n",
              "        vertical-align: top;\n",
              "    }\n",
              "\n",
              "    .dataframe thead th {\n",
              "        text-align: right;\n",
              "    }\n",
              "</style>\n",
              "<table border=\"1\" class=\"dataframe\">\n",
              "  <thead>\n",
              "    <tr style=\"text-align: right;\">\n",
              "      <th></th>\n",
              "      <th>date</th>\n",
              "      <th>location</th>\n",
              "      <th>total_vaccinations</th>\n",
              "      <th>people_vaccinated</th>\n",
              "      <th>people_fully_vaccinated</th>\n",
              "      <th>total_boosters</th>\n",
              "      <th>vaccine</th>\n",
              "    </tr>\n",
              "  </thead>\n",
              "  <tbody>\n",
              "    <tr>\n",
              "      <th>0</th>\n",
              "      <td>2020-12-13</td>\n",
              "      <td>United States</td>\n",
              "      <td>20013</td>\n",
              "      <td>17073</td>\n",
              "      <td>3579</td>\n",
              "      <td>0</td>\n",
              "      <td>Pfizer/BioNTech</td>\n",
              "    </tr>\n",
              "    <tr>\n",
              "      <th>1</th>\n",
              "      <td>2020-12-14</td>\n",
              "      <td>United States</td>\n",
              "      <td>24300</td>\n",
              "      <td>21231</td>\n",
              "      <td>3668</td>\n",
              "      <td>0</td>\n",
              "      <td>Pfizer/BioNTech</td>\n",
              "    </tr>\n",
              "    <tr>\n",
              "      <th>2</th>\n",
              "      <td>2020-12-15</td>\n",
              "      <td>United States</td>\n",
              "      <td>72853</td>\n",
              "      <td>67597</td>\n",
              "      <td>3851</td>\n",
              "      <td>0</td>\n",
              "      <td>Pfizer/BioNTech</td>\n",
              "    </tr>\n",
              "    <tr>\n",
              "      <th>3</th>\n",
              "      <td>2020-12-16</td>\n",
              "      <td>United States</td>\n",
              "      <td>231420</td>\n",
              "      <td>220759</td>\n",
              "      <td>4214</td>\n",
              "      <td>0</td>\n",
              "      <td>Pfizer/BioNTech</td>\n",
              "    </tr>\n",
              "    <tr>\n",
              "      <th>4</th>\n",
              "      <td>2020-12-17</td>\n",
              "      <td>United States</td>\n",
              "      <td>501644</td>\n",
              "      <td>484011</td>\n",
              "      <td>4743</td>\n",
              "      <td>0</td>\n",
              "      <td>Pfizer/BioNTech</td>\n",
              "    </tr>\n",
              "    <tr>\n",
              "      <th>...</th>\n",
              "      <td>...</td>\n",
              "      <td>...</td>\n",
              "      <td>...</td>\n",
              "      <td>...</td>\n",
              "      <td>...</td>\n",
              "      <td>...</td>\n",
              "      <td>...</td>\n",
              "    </tr>\n",
              "    <tr>\n",
              "      <th>322</th>\n",
              "      <td>2021-10-31</td>\n",
              "      <td>United States</td>\n",
              "      <td>424776573</td>\n",
              "      <td>222159807</td>\n",
              "      <td>191564086</td>\n",
              "      <td>20156138</td>\n",
              "      <td>Johnson&amp;Johnson, Moderna, Pfizer/BioNTech</td>\n",
              "    </tr>\n",
              "    <tr>\n",
              "      <th>323</th>\n",
              "      <td>2021-11-01</td>\n",
              "      <td>United States</td>\n",
              "      <td>425906647</td>\n",
              "      <td>222414631</td>\n",
              "      <td>191718288</td>\n",
              "      <td>20891038</td>\n",
              "      <td>Johnson&amp;Johnson, Moderna, Pfizer/BioNTech</td>\n",
              "    </tr>\n",
              "    <tr>\n",
              "      <th>324</th>\n",
              "      <td>2021-11-02</td>\n",
              "      <td>United States</td>\n",
              "      <td>426631679</td>\n",
              "      <td>222565598</td>\n",
              "      <td>191809625</td>\n",
              "      <td>21384385</td>\n",
              "      <td>Johnson&amp;Johnson, Moderna, Pfizer/BioNTech</td>\n",
              "    </tr>\n",
              "    <tr>\n",
              "      <th>325</th>\n",
              "      <td>2021-11-03</td>\n",
              "      <td>United States</td>\n",
              "      <td>426728092</td>\n",
              "      <td>222591394</td>\n",
              "      <td>191823814</td>\n",
              "      <td>21441707</td>\n",
              "      <td>Johnson&amp;Johnson, Moderna, Pfizer/BioNTech</td>\n",
              "    </tr>\n",
              "    <tr>\n",
              "      <th>326</th>\n",
              "      <td>2021-11-04</td>\n",
              "      <td>United States</td>\n",
              "      <td>426728092</td>\n",
              "      <td>222591394</td>\n",
              "      <td>191823814</td>\n",
              "      <td>21441707</td>\n",
              "      <td>Johnson&amp;Johnson, Moderna, Pfizer/BioNTech</td>\n",
              "    </tr>\n",
              "  </tbody>\n",
              "</table>\n",
              "<p>327 rows × 7 columns</p>\n",
              "</div>"
            ],
            "text/plain": [
              "           date  ...                                    vaccine\n",
              "0    2020-12-13  ...                            Pfizer/BioNTech\n",
              "1    2020-12-14  ...                            Pfizer/BioNTech\n",
              "2    2020-12-15  ...                            Pfizer/BioNTech\n",
              "3    2020-12-16  ...                            Pfizer/BioNTech\n",
              "4    2020-12-17  ...                            Pfizer/BioNTech\n",
              "..          ...  ...                                        ...\n",
              "322  2021-10-31  ...  Johnson&Johnson, Moderna, Pfizer/BioNTech\n",
              "323  2021-11-01  ...  Johnson&Johnson, Moderna, Pfizer/BioNTech\n",
              "324  2021-11-02  ...  Johnson&Johnson, Moderna, Pfizer/BioNTech\n",
              "325  2021-11-03  ...  Johnson&Johnson, Moderna, Pfizer/BioNTech\n",
              "326  2021-11-04  ...  Johnson&Johnson, Moderna, Pfizer/BioNTech\n",
              "\n",
              "[327 rows x 7 columns]"
            ]
          },
          "metadata": {},
          "execution_count": 223
        }
      ]
    },
    {
      "cell_type": "code",
      "metadata": {
        "colab": {
          "base_uri": "https://localhost:8080/",
          "height": 303
        },
        "id": "hu0oQK1K59hc",
        "outputId": "15c35cdc-1c01-4fa3-952c-226a5eebff12"
      },
      "source": [
        "df4.plot.hist()\n",
        "#Values in Millions\n",
        "plt.xlim(0,522591394) \n",
        "print()\n"
      ],
      "execution_count": null,
      "outputs": [
        {
          "output_type": "stream",
          "name": "stdout",
          "text": [
            "\n"
          ]
        },
        {
          "output_type": "display_data",
          "data": {
            "image/png": "[encoded data removed]",
            "text/plain": [
              "<Figure size 432x288 with 1 Axes>"
            ]
          },
          "metadata": {
            "needs_background": "light"
          }
        }
      ]
    },
    {
      "cell_type": "code",
      "metadata": {
        "id": "0CBkhnB-NJeG"
      },
      "source": [
        "plt.show('date')"
      ],
      "execution_count": null,
      "outputs": []
    },
    {
      "cell_type": "code",
      "metadata": {
        "id": "4E3bHSQ9O4KH"
      },
      "source": [
        "import pandas as pd\n",
        "import numpy as np\n",
        "import matplotlib.pyplot as plt\n",
        "%matplotlib inline"
      ],
      "execution_count": 1,
      "outputs": []
    },
    {
      "cell_type": "code",
      "metadata": {
        "colab": {
          "resources": {
            "http://localhost:8080/nbextensions/google.colab/files.js": {
              "data": "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",
              "ok": true,
              "headers": [
                [
                  "content-type",
                  "application/javascript"
                ]
              ],
              "status": 200,
              "status_text": ""
            }
          },
          "base_uri": "https://localhost:8080/",
          "height": 178
        },
        "id": "QGr1lJwjPF3j",
        "outputId": "748f2493-cec2-40ca-f10b-049124e104e1"
      },
      "source": [
        "from google.colab import files\n",
        "uploaded = files.upload()"
      ],
      "execution_count": 9,
      "outputs": [
        {
          "output_type": "display_data",
          "data": {
            "text/html": [
              "\n",
              "     <input type=\"file\" id=\"files-e1a830f1-d0de-44da-9614-ded712ff79c4\" name=\"files[]\" multiple disabled\n",
              "        style=\"border:none\" />\n",
              "     <output id=\"result-e1a830f1-d0de-44da-9614-ded712ff79c4\">\n",
              "      Upload widget is only available when the cell has been executed in the\n",
              "      current browser session. Please rerun this cell to enable.\n",
              "      </output>\n",
              "      <script src=\"/nbextensions/google.colab/files.js\"></script> "
            ],
            "text/plain": [
              "<IPython.core.display.HTML object>"
            ]
          },
          "metadata": {}
        },
        {
          "output_type": "stream",
          "name": "stdout",
          "text": [
            "Saving Canada.csv to Canada (1).csv\n",
            "Saving India.csv to India (1).csv\n",
            "Saving Ukraine.csv to Ukraine (1).csv\n",
            "Saving US.csv to US (1).csv\n"
          ]
        }
      ]
    },
    {
      "cell_type": "code",
      "metadata": {
        "id": "aMkQPXboS1tw"
      },
      "source": [
        "US_df = pd.read_csv(\"US.csv\")"
      ],
      "execution_count": 13,
      "outputs": []
    },
    {
      "cell_type": "code",
      "metadata": {
        "colab": {
          "base_uri": "https://localhost:8080/",
          "height": 206
        },
        "id": "tcVFw8ZPTrrQ",
        "outputId": "d179a50d-985c-447d-ca3f-543a18da080e"
      },
      "source": [
        "US_df.head()"
      ],
      "execution_count": 14,
      "outputs": [
        {
          "output_type": "execute_result",
          "data": {
            "text/html": [
              "<div>\n",
              "<style scoped>\n",
              "    .dataframe tbody tr th:only-of-type {\n",
              "        vertical-align: middle;\n",
              "    }\n",
              "\n",
              "    .dataframe tbody tr th {\n",
              "        vertical-align: top;\n",
              "    }\n",
              "\n",
              "    .dataframe thead th {\n",
              "        text-align: right;\n",
              "    }\n",
              "</style>\n",
              "<table border=\"1\" class=\"dataframe\">\n",
              "  <thead>\n",
              "    <tr style=\"text-align: right;\">\n",
              "      <th></th>\n",
              "      <th>date</th>\n",
              "      <th>location</th>\n",
              "      <th>total_vaccinations</th>\n",
              "      <th>people_vaccinated</th>\n",
              "      <th>people_fully_vaccinated</th>\n",
              "      <th>total_boosters</th>\n",
              "      <th>source_url</th>\n",
              "      <th>vaccine</th>\n",
              "    </tr>\n",
              "  </thead>\n",
              "  <tbody>\n",
              "    <tr>\n",
              "      <th>0</th>\n",
              "      <td>2020-12-13</td>\n",
              "      <td>United States</td>\n",
              "      <td>20013</td>\n",
              "      <td>17073</td>\n",
              "      <td>3579</td>\n",
              "      <td>0</td>\n",
              "      <td>https://covid.cdc.gov/covid-data-tracker/#vacc...</td>\n",
              "      <td>Pfizer/BioNTech</td>\n",
              "    </tr>\n",
              "    <tr>\n",
              "      <th>1</th>\n",
              "      <td>2020-12-14</td>\n",
              "      <td>United States</td>\n",
              "      <td>24300</td>\n",
              "      <td>21231</td>\n",
              "      <td>3668</td>\n",
              "      <td>0</td>\n",
              "      <td>https://covid.cdc.gov/covid-data-tracker/#vacc...</td>\n",
              "      <td>Pfizer/BioNTech</td>\n",
              "    </tr>\n",
              "    <tr>\n",
              "      <th>2</th>\n",
              "      <td>2020-12-15</td>\n",
              "      <td>United States</td>\n",
              "      <td>72853</td>\n",
              "      <td>67597</td>\n",
              "      <td>3851</td>\n",
              "      <td>0</td>\n",
              "      <td>https://covid.cdc.gov/covid-data-tracker/#vacc...</td>\n",
              "      <td>Pfizer/BioNTech</td>\n",
              "    </tr>\n",
              "    <tr>\n",
              "      <th>3</th>\n",
              "      <td>2020-12-16</td>\n",
              "      <td>United States</td>\n",
              "      <td>231420</td>\n",
              "      <td>220759</td>\n",
              "      <td>4214</td>\n",
              "      <td>0</td>\n",
              "      <td>https://covid.cdc.gov/covid-data-tracker/#vacc...</td>\n",
              "      <td>Pfizer/BioNTech</td>\n",
              "    </tr>\n",
              "    <tr>\n",
              "      <th>4</th>\n",
              "      <td>2020-12-17</td>\n",
              "      <td>United States</td>\n",
              "      <td>501644</td>\n",
              "      <td>484011</td>\n",
              "      <td>4743</td>\n",
              "      <td>0</td>\n",
              "      <td>https://covid.cdc.gov/covid-data-tracker/#vacc...</td>\n",
              "      <td>Pfizer/BioNTech</td>\n",
              "    </tr>\n",
              "  </tbody>\n",
              "</table>\n",
              "</div>"
            ],
            "text/plain": [
              "         date  ...          vaccine\n",
              "0  2020-12-13  ...  Pfizer/BioNTech\n",
              "1  2020-12-14  ...  Pfizer/BioNTech\n",
              "2  2020-12-15  ...  Pfizer/BioNTech\n",
              "3  2020-12-16  ...  Pfizer/BioNTech\n",
              "4  2020-12-17  ...  Pfizer/BioNTech\n",
              "\n",
              "[5 rows x 8 columns]"
            ]
          },
          "metadata": {},
          "execution_count": 14
        }
      ]
    },
    {
      "cell_type": "code",
      "metadata": {
        "colab": {
          "base_uri": "https://localhost:8080/"
        },
        "id": "U5cuxtE1TxhU",
        "outputId": "0c9ee1f3-a29e-4203-85f3-46ff958476e6"
      },
      "source": [
        "US_df.dtypes"
      ],
      "execution_count": 15,
      "outputs": [
        {
          "output_type": "execute_result",
          "data": {
            "text/plain": [
              "date                       object\n",
              "location                   object\n",
              "total_vaccinations          int64\n",
              "people_vaccinated           int64\n",
              "people_fully_vaccinated     int64\n",
              "total_boosters              int64\n",
              "source_url                 object\n",
              "vaccine                    object\n",
              "dtype: object"
            ]
          },
          "metadata": {},
          "execution_count": 15
        }
      ]
    },
    {
      "cell_type": "code",
      "metadata": {
        "colab": {
          "base_uri": "https://localhost:8080/"
        },
        "id": "uR7wOdvCT5Ku",
        "outputId": "ad9f3578-c4b7-4505-c972-26f433f30793"
      },
      "source": [
        "US_df.shape"
      ],
      "execution_count": 16,
      "outputs": [
        {
          "output_type": "execute_result",
          "data": {
            "text/plain": [
              "(327, 8)"
            ]
          },
          "metadata": {},
          "execution_count": 16
        }
      ]
    },
    {
      "cell_type": "code",
      "metadata": {
        "id": "4hOlz9zhT7De"
      },
      "source": [
        "Canada_df = pd.read_csv(\"Canada.csv\")"
      ],
      "execution_count": 17,
      "outputs": []
    },
    {
      "cell_type": "code",
      "metadata": {
        "id": "e1NTH2ENUBNL"
      },
      "source": [
        "first_column = Canada_df.pop('location')\n",
        "Canada_df.insert(1, 'location',first_column)"
      ],
      "execution_count": 18,
      "outputs": []
    },
    {
      "cell_type": "code",
      "metadata": {
        "colab": {
          "base_uri": "https://localhost:8080/"
        },
        "id": "lR802CQqUBem",
        "outputId": "babb0bb4-1acc-417f-ee52-d0b147040096"
      },
      "source": [
        "Canada_df.shape"
      ],
      "execution_count": 19,
      "outputs": [
        {
          "output_type": "execute_result",
          "data": {
            "text/plain": [
              "(322, 8)"
            ]
          },
          "metadata": {},
          "execution_count": 19
        }
      ]
    },
    {
      "cell_type": "code",
      "metadata": {
        "id": "Z4T81__DUBmQ"
      },
      "source": [
        "first_column = Canada_df.pop('people_vaccinated')\n",
        "Canada_df.insert(3, 'people_vaccinated',first_column)"
      ],
      "execution_count": 20,
      "outputs": []
    },
    {
      "cell_type": "code",
      "metadata": {
        "colab": {
          "base_uri": "https://localhost:8080/",
          "height": 293
        },
        "id": "-XYs0dxcUBsh",
        "outputId": "93dbf7b7-f8c0-47cd-ba88-e5f4a65d61ee"
      },
      "source": [
        "Canada_df.tail()"
      ],
      "execution_count": 21,
      "outputs": [
        {
          "output_type": "execute_result",
          "data": {
            "text/html": [
              "<div>\n",
              "<style scoped>\n",
              "    .dataframe tbody tr th:only-of-type {\n",
              "        vertical-align: middle;\n",
              "    }\n",
              "\n",
              "    .dataframe tbody tr th {\n",
              "        vertical-align: top;\n",
              "    }\n",
              "\n",
              "    .dataframe thead th {\n",
              "        text-align: right;\n",
              "    }\n",
              "</style>\n",
              "<table border=\"1\" class=\"dataframe\">\n",
              "  <thead>\n",
              "    <tr style=\"text-align: right;\">\n",
              "      <th></th>\n",
              "      <th>date</th>\n",
              "      <th>location</th>\n",
              "      <th>total_vaccinations</th>\n",
              "      <th>people_vaccinated</th>\n",
              "      <th>people_fully_vaccinated</th>\n",
              "      <th>total_boosters</th>\n",
              "      <th>source_url</th>\n",
              "      <th>vaccine</th>\n",
              "    </tr>\n",
              "  </thead>\n",
              "  <tbody>\n",
              "    <tr>\n",
              "      <th>317</th>\n",
              "      <td>2021-10-27</td>\n",
              "      <td>Canada</td>\n",
              "      <td>58428432</td>\n",
              "      <td>29772195</td>\n",
              "      <td>28144619</td>\n",
              "      <td>511618</td>\n",
              "      <td>https://covid19tracker.ca/vaccinationtracker.html</td>\n",
              "      <td>Moderna, Oxford/AstraZeneca, Pfizer/BioNTech</td>\n",
              "    </tr>\n",
              "    <tr>\n",
              "      <th>318</th>\n",
              "      <td>2021-10-28</td>\n",
              "      <td>Canada</td>\n",
              "      <td>58511813</td>\n",
              "      <td>29797297</td>\n",
              "      <td>28185778</td>\n",
              "      <td>528738</td>\n",
              "      <td>https://covid19tracker.ca/vaccinationtracker.html</td>\n",
              "      <td>Moderna, Oxford/AstraZeneca, Pfizer/BioNTech</td>\n",
              "    </tr>\n",
              "    <tr>\n",
              "      <th>319</th>\n",
              "      <td>2021-10-29</td>\n",
              "      <td>Canada</td>\n",
              "      <td>58589032</td>\n",
              "      <td>29823959</td>\n",
              "      <td>28225947</td>\n",
              "      <td>539126</td>\n",
              "      <td>https://covid19tracker.ca/vaccinationtracker.html</td>\n",
              "      <td>Moderna, Oxford/AstraZeneca, Pfizer/BioNTech</td>\n",
              "    </tr>\n",
              "    <tr>\n",
              "      <th>320</th>\n",
              "      <td>2021-10-30</td>\n",
              "      <td>Canada</td>\n",
              "      <td>58629704</td>\n",
              "      <td>29835311</td>\n",
              "      <td>28250376</td>\n",
              "      <td>544017</td>\n",
              "      <td>https://covid19tracker.ca/vaccinationtracker.html</td>\n",
              "      <td>Moderna, Oxford/AstraZeneca, Pfizer/BioNTech</td>\n",
              "    </tr>\n",
              "    <tr>\n",
              "      <th>321</th>\n",
              "      <td>2021-10-31</td>\n",
              "      <td>Canada</td>\n",
              "      <td>58663274</td>\n",
              "      <td>29845343</td>\n",
              "      <td>28272392</td>\n",
              "      <td>545539</td>\n",
              "      <td>https://covid19tracker.ca/vaccinationtracker.html</td>\n",
              "      <td>Moderna, Oxford/AstraZeneca, Pfizer/BioNTech</td>\n",
              "    </tr>\n",
              "  </tbody>\n",
              "</table>\n",
              "</div>"
            ],
            "text/plain": [
              "           date  ...                                       vaccine\n",
              "317  2021-10-27  ...  Moderna, Oxford/AstraZeneca, Pfizer/BioNTech\n",
              "318  2021-10-28  ...  Moderna, Oxford/AstraZeneca, Pfizer/BioNTech\n",
              "319  2021-10-29  ...  Moderna, Oxford/AstraZeneca, Pfizer/BioNTech\n",
              "320  2021-10-30  ...  Moderna, Oxford/AstraZeneca, Pfizer/BioNTech\n",
              "321  2021-10-31  ...  Moderna, Oxford/AstraZeneca, Pfizer/BioNTech\n",
              "\n",
              "[5 rows x 8 columns]"
            ]
          },
          "metadata": {},
          "execution_count": 21
        }
      ]
    },
    {
      "cell_type": "code",
      "metadata": {
        "id": "80fFc5OxUJS2"
      },
      "source": [
        "# concate 2 datasets US AND CANADA\n",
        "frames = [US_df, Canada_df]\n",
        "dataset1 = pd.concat(frames)"
      ],
      "execution_count": 22,
      "outputs": []
    },
    {
      "cell_type": "code",
      "metadata": {
        "colab": {
          "base_uri": "https://localhost:8080/",
          "height": 206
        },
        "id": "KbW7GZGeUJZg",
        "outputId": "fa79dfb3-701f-43c6-f641-307ac94ca946"
      },
      "source": [
        "dataset1.head()"
      ],
      "execution_count": 23,
      "outputs": [
        {
          "output_type": "execute_result",
          "data": {
            "text/html": [
              "<div>\n",
              "<style scoped>\n",
              "    .dataframe tbody tr th:only-of-type {\n",
              "        vertical-align: middle;\n",
              "    }\n",
              "\n",
              "    .dataframe tbody tr th {\n",
              "        vertical-align: top;\n",
              "    }\n",
              "\n",
              "    .dataframe thead th {\n",
              "        text-align: right;\n",
              "    }\n",
              "</style>\n",
              "<table border=\"1\" class=\"dataframe\">\n",
              "  <thead>\n",
              "    <tr style=\"text-align: right;\">\n",
              "      <th></th>\n",
              "      <th>date</th>\n",
              "      <th>location</th>\n",
              "      <th>total_vaccinations</th>\n",
              "      <th>people_vaccinated</th>\n",
              "      <th>people_fully_vaccinated</th>\n",
              "      <th>total_boosters</th>\n",
              "      <th>source_url</th>\n",
              "      <th>vaccine</th>\n",
              "    </tr>\n",
              "  </thead>\n",
              "  <tbody>\n",
              "    <tr>\n",
              "      <th>0</th>\n",
              "      <td>2020-12-13</td>\n",
              "      <td>United States</td>\n",
              "      <td>20013</td>\n",
              "      <td>17073</td>\n",
              "      <td>3579</td>\n",
              "      <td>0</td>\n",
              "      <td>https://covid.cdc.gov/covid-data-tracker/#vacc...</td>\n",
              "      <td>Pfizer/BioNTech</td>\n",
              "    </tr>\n",
              "    <tr>\n",
              "      <th>1</th>\n",
              "      <td>2020-12-14</td>\n",
              "      <td>United States</td>\n",
              "      <td>24300</td>\n",
              "      <td>21231</td>\n",
              "      <td>3668</td>\n",
              "      <td>0</td>\n",
              "      <td>https://covid.cdc.gov/covid-data-tracker/#vacc...</td>\n",
              "      <td>Pfizer/BioNTech</td>\n",
              "    </tr>\n",
              "    <tr>\n",
              "      <th>2</th>\n",
              "      <td>2020-12-15</td>\n",
              "      <td>United States</td>\n",
              "      <td>72853</td>\n",
              "      <td>67597</td>\n",
              "      <td>3851</td>\n",
              "      <td>0</td>\n",
              "      <td>https://covid.cdc.gov/covid-data-tracker/#vacc...</td>\n",
              "      <td>Pfizer/BioNTech</td>\n",
              "    </tr>\n",
              "    <tr>\n",
              "      <th>3</th>\n",
              "      <td>2020-12-16</td>\n",
              "      <td>United States</td>\n",
              "      <td>231420</td>\n",
              "      <td>220759</td>\n",
              "      <td>4214</td>\n",
              "      <td>0</td>\n",
              "      <td>https://covid.cdc.gov/covid-data-tracker/#vacc...</td>\n",
              "      <td>Pfizer/BioNTech</td>\n",
              "    </tr>\n",
              "    <tr>\n",
              "      <th>4</th>\n",
              "      <td>2020-12-17</td>\n",
              "      <td>United States</td>\n",
              "      <td>501644</td>\n",
              "      <td>484011</td>\n",
              "      <td>4743</td>\n",
              "      <td>0</td>\n",
              "      <td>https://covid.cdc.gov/covid-data-tracker/#vacc...</td>\n",
              "      <td>Pfizer/BioNTech</td>\n",
              "    </tr>\n",
              "  </tbody>\n",
              "</table>\n",
              "</div>"
            ],
            "text/plain": [
              "         date  ...          vaccine\n",
              "0  2020-12-13  ...  Pfizer/BioNTech\n",
              "1  2020-12-14  ...  Pfizer/BioNTech\n",
              "2  2020-12-15  ...  Pfizer/BioNTech\n",
              "3  2020-12-16  ...  Pfizer/BioNTech\n",
              "4  2020-12-17  ...  Pfizer/BioNTech\n",
              "\n",
              "[5 rows x 8 columns]"
            ]
          },
          "metadata": {},
          "execution_count": 23
        }
      ]
    },
    {
      "cell_type": "code",
      "metadata": {
        "colab": {
          "base_uri": "https://localhost:8080/"
        },
        "id": "eK8R4PqHUJfc",
        "outputId": "936d16e8-ca89-455e-870d-a621a4a6bdf0"
      },
      "source": [
        "dataset1.shape"
      ],
      "execution_count": 24,
      "outputs": [
        {
          "output_type": "execute_result",
          "data": {
            "text/plain": [
              "(649, 8)"
            ]
          },
          "metadata": {},
          "execution_count": 24
        }
      ]
    },
    {
      "cell_type": "code",
      "metadata": {
        "colab": {
          "base_uri": "https://localhost:8080/"
        },
        "id": "LVQFiYPjUJj8",
        "outputId": "08c24dea-3dbd-4ad7-b12a-a0eeec80c3f3"
      },
      "source": [
        "dataset1.dtypes"
      ],
      "execution_count": 25,
      "outputs": [
        {
          "output_type": "execute_result",
          "data": {
            "text/plain": [
              "date                       object\n",
              "location                   object\n",
              "total_vaccinations          int64\n",
              "people_vaccinated           int64\n",
              "people_fully_vaccinated     int64\n",
              "total_boosters              int64\n",
              "source_url                 object\n",
              "vaccine                    object\n",
              "dtype: object"
            ]
          },
          "metadata": {},
          "execution_count": 25
        }
      ]
    },
    {
      "cell_type": "code",
      "metadata": {
        "id": "iY63O7JmUJoW"
      },
      "source": [
        "# removing unwanted columns\n",
        "columns_to_remove = ['source_url']\n",
        "dataset1.drop(labels=columns_to_remove, axis=1, inplace=True)"
      ],
      "execution_count": 26,
      "outputs": []
    },
    {
      "cell_type": "code",
      "metadata": {
        "colab": {
          "base_uri": "https://localhost:8080/",
          "height": 206
        },
        "id": "3Un8X73QUJsy",
        "outputId": "10802724-3663-42db-a221-34160e120163"
      },
      "source": [
        "dataset1.head()"
      ],
      "execution_count": 27,
      "outputs": [
        {
          "output_type": "execute_result",
          "data": {
            "text/html": [
              "<div>\n",
              "<style scoped>\n",
              "    .dataframe tbody tr th:only-of-type {\n",
              "        vertical-align: middle;\n",
              "    }\n",
              "\n",
              "    .dataframe tbody tr th {\n",
              "        vertical-align: top;\n",
              "    }\n",
              "\n",
              "    .dataframe thead th {\n",
              "        text-align: right;\n",
              "    }\n",
              "</style>\n",
              "<table border=\"1\" class=\"dataframe\">\n",
              "  <thead>\n",
              "    <tr style=\"text-align: right;\">\n",
              "      <th></th>\n",
              "      <th>date</th>\n",
              "      <th>location</th>\n",
              "      <th>total_vaccinations</th>\n",
              "      <th>people_vaccinated</th>\n",
              "      <th>people_fully_vaccinated</th>\n",
              "      <th>total_boosters</th>\n",
              "      <th>vaccine</th>\n",
              "    </tr>\n",
              "  </thead>\n",
              "  <tbody>\n",
              "    <tr>\n",
              "      <th>0</th>\n",
              "      <td>2020-12-13</td>\n",
              "      <td>United States</td>\n",
              "      <td>20013</td>\n",
              "      <td>17073</td>\n",
              "      <td>3579</td>\n",
              "      <td>0</td>\n",
              "      <td>Pfizer/BioNTech</td>\n",
              "    </tr>\n",
              "    <tr>\n",
              "      <th>1</th>\n",
              "      <td>2020-12-14</td>\n",
              "      <td>United States</td>\n",
              "      <td>24300</td>\n",
              "      <td>21231</td>\n",
              "      <td>3668</td>\n",
              "      <td>0</td>\n",
              "      <td>Pfizer/BioNTech</td>\n",
              "    </tr>\n",
              "    <tr>\n",
              "      <th>2</th>\n",
              "      <td>2020-12-15</td>\n",
              "      <td>United States</td>\n",
              "      <td>72853</td>\n",
              "      <td>67597</td>\n",
              "      <td>3851</td>\n",
              "      <td>0</td>\n",
              "      <td>Pfizer/BioNTech</td>\n",
              "    </tr>\n",
              "    <tr>\n",
              "      <th>3</th>\n",
              "      <td>2020-12-16</td>\n",
              "      <td>United States</td>\n",
              "      <td>231420</td>\n",
              "      <td>220759</td>\n",
              "      <td>4214</td>\n",
              "      <td>0</td>\n",
              "      <td>Pfizer/BioNTech</td>\n",
              "    </tr>\n",
              "    <tr>\n",
              "      <th>4</th>\n",
              "      <td>2020-12-17</td>\n",
              "      <td>United States</td>\n",
              "      <td>501644</td>\n",
              "      <td>484011</td>\n",
              "      <td>4743</td>\n",
              "      <td>0</td>\n",
              "      <td>Pfizer/BioNTech</td>\n",
              "    </tr>\n",
              "  </tbody>\n",
              "</table>\n",
              "</div>"
            ],
            "text/plain": [
              "         date       location  ...  total_boosters          vaccine\n",
              "0  2020-12-13  United States  ...               0  Pfizer/BioNTech\n",
              "1  2020-12-14  United States  ...               0  Pfizer/BioNTech\n",
              "2  2020-12-15  United States  ...               0  Pfizer/BioNTech\n",
              "3  2020-12-16  United States  ...               0  Pfizer/BioNTech\n",
              "4  2020-12-17  United States  ...               0  Pfizer/BioNTech\n",
              "\n",
              "[5 rows x 7 columns]"
            ]
          },
          "metadata": {},
          "execution_count": 27
        }
      ]
    },
    {
      "cell_type": "code",
      "metadata": {
        "colab": {
          "base_uri": "https://localhost:8080/"
        },
        "id": "VhNBBz9NUJwP",
        "outputId": "ca82418e-7ddb-4d7c-dcd0-cace072e2d46"
      },
      "source": [
        "dataset1.columns"
      ],
      "execution_count": 28,
      "outputs": [
        {
          "output_type": "execute_result",
          "data": {
            "text/plain": [
              "Index(['date', 'location', 'total_vaccinations', 'people_vaccinated',\n",
              "       'people_fully_vaccinated', 'total_boosters', 'vaccine'],\n",
              "      dtype='object')"
            ]
          },
          "metadata": {},
          "execution_count": 28
        }
      ]
    },
    {
      "cell_type": "code",
      "metadata": {
        "colab": {
          "base_uri": "https://localhost:8080/"
        },
        "id": "m0jijnGqUJ3h",
        "outputId": "3d06e6c5-1630-4277-98c3-d48df6231b9f"
      },
      "source": [
        "dataset1.columns.unique()"
      ],
      "execution_count": 29,
      "outputs": [
        {
          "output_type": "execute_result",
          "data": {
            "text/plain": [
              "Index(['date', 'location', 'total_vaccinations', 'people_vaccinated',\n",
              "       'people_fully_vaccinated', 'total_boosters', 'vaccine'],\n",
              "      dtype='object')"
            ]
          },
          "metadata": {},
          "execution_count": 29
        }
      ]
    },
    {
      "cell_type": "code",
      "metadata": {
        "colab": {
          "base_uri": "https://localhost:8080/"
        },
        "id": "MrDSAvsDUJ6u",
        "outputId": "51469da7-8af3-4794-e64c-7513c8b9d0ed"
      },
      "source": [
        "dataset1.dtypes"
      ],
      "execution_count": 30,
      "outputs": [
        {
          "output_type": "execute_result",
          "data": {
            "text/plain": [
              "date                       object\n",
              "location                   object\n",
              "total_vaccinations          int64\n",
              "people_vaccinated           int64\n",
              "people_fully_vaccinated     int64\n",
              "total_boosters              int64\n",
              "vaccine                    object\n",
              "dtype: object"
            ]
          },
          "metadata": {},
          "execution_count": 30
        }
      ]
    },
    {
      "cell_type": "code",
      "metadata": {
        "id": "al6p6rBpUJ94"
      },
      "source": [
        "import seaborn as sns"
      ],
      "execution_count": 31,
      "outputs": []
    },
    {
      "cell_type": "code",
      "metadata": {
        "colab": {
          "base_uri": "https://localhost:8080/",
          "height": 351
        },
        "id": "TaWcm1J3UKA2",
        "outputId": "65feef96-e892-434c-b264-10eb96caa13e"
      },
      "source": [
        "sns.countplot(dataset1['vaccine'])"
      ],
      "execution_count": 32,
      "outputs": [
        {
          "output_type": "stream",
          "name": "stderr",
          "text": [
            "/usr/local/lib/python3.7/dist-packages/seaborn/_decorators.py:43: FutureWarning: Pass the following variable as a keyword arg: x. From version 0.12, the only valid positional argument will be `data`, and passing other arguments without an explicit keyword will result in an error or misinterpretation.\n",
            "  FutureWarning\n"
          ]
        },
        {
          "output_type": "execute_result",
          "data": {
            "text/plain": [
              "<matplotlib.axes._subplots.AxesSubplot at 0x7fd3960e0810>"
            ]
          },
          "metadata": {},
          "execution_count": 32
        },
        {
          "output_type": "display_data",
          "data": {
            "image/png": "[encoded data removed]",
            "text/plain": [
              "<Figure size 432x288 with 1 Axes>"
            ]
          },
          "metadata": {
            "needs_background": "light"
          }
        }
      ]
    },
    {
      "cell_type": "code",
      "metadata": {
        "colab": {
          "base_uri": "https://localhost:8080/"
        },
        "id": "YOYWH1aZUKEZ",
        "outputId": "10be8057-0381-4df7-cbe4-e33927c1a2e0"
      },
      "source": [
        "# describe the data\n",
        "# Numerical values\n",
        "numerical_features = [feature for feature in dataset1.columns if dataset1[feature].dtype != 'O']\n",
        "print('Number of numerical variables: ', len(numerical_features))"
      ],
      "execution_count": 33,
      "outputs": [
        {
          "output_type": "stream",
          "name": "stdout",
          "text": [
            "Number of numerical variables:  4\n"
          ]
        }
      ]
    },
    {
      "cell_type": "code",
      "metadata": {
        "colab": {
          "base_uri": "https://localhost:8080/",
          "height": 206
        },
        "id": "jrsWsTd1UKGa",
        "outputId": "946513b2-cf37-4d99-e857-d95b3e630a98"
      },
      "source": [
        "dataset1[numerical_features].head()"
      ],
      "execution_count": 34,
      "outputs": [
        {
          "output_type": "execute_result",
          "data": {
            "text/html": [
              "<div>\n",
              "<style scoped>\n",
              "    .dataframe tbody tr th:only-of-type {\n",
              "        vertical-align: middle;\n",
              "    }\n",
              "\n",
              "    .dataframe tbody tr th {\n",
              "        vertical-align: top;\n",
              "    }\n",
              "\n",
              "    .dataframe thead th {\n",
              "        text-align: right;\n",
              "    }\n",
              "</style>\n",
              "<table border=\"1\" class=\"dataframe\">\n",
              "  <thead>\n",
              "    <tr style=\"text-align: right;\">\n",
              "      <th></th>\n",
              "      <th>total_vaccinations</th>\n",
              "      <th>people_vaccinated</th>\n",
              "      <th>people_fully_vaccinated</th>\n",
              "      <th>total_boosters</th>\n",
              "    </tr>\n",
              "  </thead>\n",
              "  <tbody>\n",
              "    <tr>\n",
              "      <th>0</th>\n",
              "      <td>20013</td>\n",
              "      <td>17073</td>\n",
              "      <td>3579</td>\n",
              "      <td>0</td>\n",
              "    </tr>\n",
              "    <tr>\n",
              "      <th>1</th>\n",
              "      <td>24300</td>\n",
              "      <td>21231</td>\n",
              "      <td>3668</td>\n",
              "      <td>0</td>\n",
              "    </tr>\n",
              "    <tr>\n",
              "      <th>2</th>\n",
              "      <td>72853</td>\n",
              "      <td>67597</td>\n",
              "      <td>3851</td>\n",
              "      <td>0</td>\n",
              "    </tr>\n",
              "    <tr>\n",
              "      <th>3</th>\n",
              "      <td>231420</td>\n",
              "      <td>220759</td>\n",
              "      <td>4214</td>\n",
              "      <td>0</td>\n",
              "    </tr>\n",
              "    <tr>\n",
              "      <th>4</th>\n",
              "      <td>501644</td>\n",
              "      <td>484011</td>\n",
              "      <td>4743</td>\n",
              "      <td>0</td>\n",
              "    </tr>\n",
              "  </tbody>\n",
              "</table>\n",
              "</div>"
            ],
            "text/plain": [
              "   total_vaccinations  ...  total_boosters\n",
              "0               20013  ...               0\n",
              "1               24300  ...               0\n",
              "2               72853  ...               0\n",
              "3              231420  ...               0\n",
              "4              501644  ...               0\n",
              "\n",
              "[5 rows x 4 columns]"
            ]
          },
          "metadata": {},
          "execution_count": 34
        }
      ]
    },
    {
      "cell_type": "code",
      "metadata": {
        "colab": {
          "base_uri": "https://localhost:8080/",
          "height": 381
        },
        "id": "xibNN_9HUKI8",
        "outputId": "dd89d0ae-91de-488f-ae03-7e8ed43afa0d"
      },
      "source": [
        "dataset1[numerical_features].hist()"
      ],
      "execution_count": 35,
      "outputs": [
        {
          "output_type": "execute_result",
          "data": {
            "text/plain": [
              "array([[<matplotlib.axes._subplots.AxesSubplot object at 0x7fd395ad5910>,\n",
              "        <matplotlib.axes._subplots.AxesSubplot object at 0x7fd395b01e10>],\n",
              "       [<matplotlib.axes._subplots.AxesSubplot object at 0x7fd395ac5450>,\n",
              "        <matplotlib.axes._subplots.AxesSubplot object at 0x7fd395a7ba50>]],\n",
              "      dtype=object)"
            ]
          },
          "metadata": {},
          "execution_count": 35
        },
        {
          "output_type": "display_data",
          "data": {
            "image/png": "[encoded data removed]",
            "text/plain": [
              "<Figure size 432x288 with 4 Axes>"
            ]
          },
          "metadata": {
            "needs_background": "light"
          }
        }
      ]
    },
    {
      "cell_type": "code",
      "metadata": {
        "colab": {
          "base_uri": "https://localhost:8080/",
          "height": 329
        },
        "id": "nBgaP8jdUl52",
        "outputId": "21ce287a-fdfc-4612-801b-f3cb23303877"
      },
      "source": [
        "dataset1[numerical_features].hist(column = 'total_vaccinations')"
      ],
      "execution_count": 36,
      "outputs": [
        {
          "output_type": "execute_result",
          "data": {
            "text/plain": [
              "array([[<matplotlib.axes._subplots.AxesSubplot object at 0x7fd39593d7d0>]],\n",
              "      dtype=object)"
            ]
          },
          "metadata": {},
          "execution_count": 36
        },
        {
          "output_type": "display_data",
          "data": {
            "image/png": "[encoded data removed]",
            "text/plain": [
              "<Figure size 432x288 with 1 Axes>"
            ]
          },
          "metadata": {
            "needs_background": "light"
          }
        }
      ]
    },
    {
      "cell_type": "code",
      "metadata": {
        "colab": {
          "base_uri": "https://localhost:8080/",
          "height": 329
        },
        "id": "RCr3T0C7Ul_4",
        "outputId": "2bbb9e70-fd91-4c8e-b6fd-0522b8fa4091"
      },
      "source": [
        "dataset1[numerical_features].hist(column = 'people_fully_vaccinated')"
      ],
      "execution_count": 37,
      "outputs": [
        {
          "output_type": "execute_result",
          "data": {
            "text/plain": [
              "array([[<matplotlib.axes._subplots.AxesSubplot object at 0x7fd3958b3190>]],\n",
              "      dtype=object)"
            ]
          },
          "metadata": {},
          "execution_count": 37
        },
        {
          "output_type": "display_data",
          "data": {
            "image/png": "[encoded data removed]",
            "text/plain": [
              "<Figure size 432x288 with 1 Axes>"
            ]
          },
          "metadata": {
            "needs_background": "light"
          }
        }
      ]
    },
    {
      "cell_type": "code",
      "metadata": {
        "colab": {
          "base_uri": "https://localhost:8080/"
        },
        "id": "VG8R2vgBUmEE",
        "outputId": "81253782-f1f8-4124-fa41-889fd75d91d6"
      },
      "source": [
        "# describe the data\n",
        "# categorical values\n",
        "categorical_features = [feature for feature in dataset1.columns if dataset1[feature].dtype == 'O']\n",
        "print('Number of numerical variables: ', len(categorical_features))"
      ],
      "execution_count": 38,
      "outputs": [
        {
          "output_type": "stream",
          "name": "stdout",
          "text": [
            "Number of numerical variables:  3\n"
          ]
        }
      ]
    },
    {
      "cell_type": "code",
      "metadata": {
        "colab": {
          "base_uri": "https://localhost:8080/",
          "height": 206
        },
        "id": "aWkMF2n8UmIy",
        "outputId": "3697feeb-8188-48e3-dd13-8bd58dbc7313"
      },
      "source": [
        "dataset1[categorical_features].head()"
      ],
      "execution_count": 39,
      "outputs": [
        {
          "output_type": "execute_result",
          "data": {
            "text/html": [
              "<div>\n",
              "<style scoped>\n",
              "    .dataframe tbody tr th:only-of-type {\n",
              "        vertical-align: middle;\n",
              "    }\n",
              "\n",
              "    .dataframe tbody tr th {\n",
              "        vertical-align: top;\n",
              "    }\n",
              "\n",
              "    .dataframe thead th {\n",
              "        text-align: right;\n",
              "    }\n",
              "</style>\n",
              "<table border=\"1\" class=\"dataframe\">\n",
              "  <thead>\n",
              "    <tr style=\"text-align: right;\">\n",
              "      <th></th>\n",
              "      <th>date</th>\n",
              "      <th>location</th>\n",
              "      <th>vaccine</th>\n",
              "    </tr>\n",
              "  </thead>\n",
              "  <tbody>\n",
              "    <tr>\n",
              "      <th>0</th>\n",
              "      <td>2020-12-13</td>\n",
              "      <td>United States</td>\n",
              "      <td>Pfizer/BioNTech</td>\n",
              "    </tr>\n",
              "    <tr>\n",
              "      <th>1</th>\n",
              "      <td>2020-12-14</td>\n",
              "      <td>United States</td>\n",
              "      <td>Pfizer/BioNTech</td>\n",
              "    </tr>\n",
              "    <tr>\n",
              "      <th>2</th>\n",
              "      <td>2020-12-15</td>\n",
              "      <td>United States</td>\n",
              "      <td>Pfizer/BioNTech</td>\n",
              "    </tr>\n",
              "    <tr>\n",
              "      <th>3</th>\n",
              "      <td>2020-12-16</td>\n",
              "      <td>United States</td>\n",
              "      <td>Pfizer/BioNTech</td>\n",
              "    </tr>\n",
              "    <tr>\n",
              "      <th>4</th>\n",
              "      <td>2020-12-17</td>\n",
              "      <td>United States</td>\n",
              "      <td>Pfizer/BioNTech</td>\n",
              "    </tr>\n",
              "  </tbody>\n",
              "</table>\n",
              "</div>"
            ],
            "text/plain": [
              "         date       location          vaccine\n",
              "0  2020-12-13  United States  Pfizer/BioNTech\n",
              "1  2020-12-14  United States  Pfizer/BioNTech\n",
              "2  2020-12-15  United States  Pfizer/BioNTech\n",
              "3  2020-12-16  United States  Pfizer/BioNTech\n",
              "4  2020-12-17  United States  Pfizer/BioNTech"
            ]
          },
          "metadata": {},
          "execution_count": 39
        }
      ]
    },
    {
      "cell_type": "code",
      "metadata": {
        "colab": {
          "base_uri": "https://localhost:8080/"
        },
        "id": "rs7k99arUmNs",
        "outputId": "4dd35980-52dd-4817-95b7-43e1efadb02b"
      },
      "source": [
        "# converting the column date from string into datetime object\n",
        "dataset1.dtypes"
      ],
      "execution_count": 40,
      "outputs": [
        {
          "output_type": "execute_result",
          "data": {
            "text/plain": [
              "date                       object\n",
              "location                   object\n",
              "total_vaccinations          int64\n",
              "people_vaccinated           int64\n",
              "people_fully_vaccinated     int64\n",
              "total_boosters              int64\n",
              "vaccine                    object\n",
              "dtype: object"
            ]
          },
          "metadata": {},
          "execution_count": 40
        }
      ]
    },
    {
      "cell_type": "code",
      "metadata": {
        "id": "LLqIofJ2UmSe"
      },
      "source": [
        "from datetime import datetime"
      ],
      "execution_count": 41,
      "outputs": []
    },
    {
      "cell_type": "code",
      "metadata": {
        "id": "BI_Wj45nUmXY"
      },
      "source": [
        "dataset1['date'] = dataset1['date'].apply(lambda x: datetime.strptime(x, '%Y-%m-%d'))"
      ],
      "execution_count": 42,
      "outputs": []
    },
    {
      "cell_type": "code",
      "metadata": {
        "colab": {
          "base_uri": "https://localhost:8080/"
        },
        "id": "VL4Xo9qMUmcW",
        "outputId": "e46eca95-1bb5-4df8-df05-7074044ac726"
      },
      "source": [
        "dataset1.dtypes"
      ],
      "execution_count": 43,
      "outputs": [
        {
          "output_type": "execute_result",
          "data": {
            "text/plain": [
              "date                       datetime64[ns]\n",
              "location                           object\n",
              "total_vaccinations                  int64\n",
              "people_vaccinated                   int64\n",
              "people_fully_vaccinated             int64\n",
              "total_boosters                      int64\n",
              "vaccine                            object\n",
              "dtype: object"
            ]
          },
          "metadata": {},
          "execution_count": 43
        }
      ]
    },
    {
      "cell_type": "code",
      "metadata": {
        "colab": {
          "base_uri": "https://localhost:8080/",
          "height": 300
        },
        "id": "YswLCLUWUmhJ",
        "outputId": "6d1b8c61-9488-49cf-f3ab-6d81b840dfc9"
      },
      "source": [
        "dataset1[numerical_features].describe()"
      ],
      "execution_count": 44,
      "outputs": [
        {
          "output_type": "execute_result",
          "data": {
            "text/html": [
              "<div>\n",
              "<style scoped>\n",
              "    .dataframe tbody tr th:only-of-type {\n",
              "        vertical-align: middle;\n",
              "    }\n",
              "\n",
              "    .dataframe tbody tr th {\n",
              "        vertical-align: top;\n",
              "    }\n",
              "\n",
              "    .dataframe thead th {\n",
              "        text-align: right;\n",
              "    }\n",
              "</style>\n",
              "<table border=\"1\" class=\"dataframe\">\n",
              "  <thead>\n",
              "    <tr style=\"text-align: right;\">\n",
              "      <th></th>\n",
              "      <th>total_vaccinations</th>\n",
              "      <th>people_vaccinated</th>\n",
              "      <th>people_fully_vaccinated</th>\n",
              "      <th>total_boosters</th>\n",
              "    </tr>\n",
              "  </thead>\n",
              "  <tbody>\n",
              "    <tr>\n",
              "      <th>count</th>\n",
              "      <td>6.490000e+02</td>\n",
              "      <td>6.490000e+02</td>\n",
              "      <td>6.490000e+02</td>\n",
              "      <td>6.490000e+02</td>\n",
              "    </tr>\n",
              "    <tr>\n",
              "      <th>mean</th>\n",
              "      <td>1.356987e+08</td>\n",
              "      <td>7.704750e+07</td>\n",
              "      <td>6.011092e+07</td>\n",
              "      <td>8.779671e+05</td>\n",
              "    </tr>\n",
              "    <tr>\n",
              "      <th>std</th>\n",
              "      <td>1.499973e+08</td>\n",
              "      <td>8.125440e+07</td>\n",
              "      <td>7.102592e+07</td>\n",
              "      <td>3.196739e+06</td>\n",
              "    </tr>\n",
              "    <tr>\n",
              "      <th>min</th>\n",
              "      <td>5.000000e+00</td>\n",
              "      <td>5.000000e+00</td>\n",
              "      <td>0.000000e+00</td>\n",
              "      <td>0.000000e+00</td>\n",
              "    </tr>\n",
              "    <tr>\n",
              "      <th>25%</th>\n",
              "      <td>1.239666e+07</td>\n",
              "      <td>1.109235e+07</td>\n",
              "      <td>1.085897e+06</td>\n",
              "      <td>0.000000e+00</td>\n",
              "    </tr>\n",
              "    <tr>\n",
              "      <th>50%</th>\n",
              "      <td>5.392624e+07</td>\n",
              "      <td>2.854224e+07</td>\n",
              "      <td>2.486393e+07</td>\n",
              "      <td>1.300000e+01</td>\n",
              "    </tr>\n",
              "    <tr>\n",
              "      <th>75%</th>\n",
              "      <td>3.070091e+08</td>\n",
              "      <td>1.719266e+08</td>\n",
              "      <td>1.412534e+08</td>\n",
              "      <td>1.123400e+04</td>\n",
              "    </tr>\n",
              "    <tr>\n",
              "      <th>max</th>\n",
              "      <td>4.267281e+08</td>\n",
              "      <td>2.225914e+08</td>\n",
              "      <td>1.918238e+08</td>\n",
              "      <td>2.144171e+07</td>\n",
              "    </tr>\n",
              "  </tbody>\n",
              "</table>\n",
              "</div>"
            ],
            "text/plain": [
              "       total_vaccinations  ...  total_boosters\n",
              "count        6.490000e+02  ...    6.490000e+02\n",
              "mean         1.356987e+08  ...    8.779671e+05\n",
              "std          1.499973e+08  ...    3.196739e+06\n",
              "min          5.000000e+00  ...    0.000000e+00\n",
              "25%          1.239666e+07  ...    0.000000e+00\n",
              "50%          5.392624e+07  ...    1.300000e+01\n",
              "75%          3.070091e+08  ...    1.123400e+04\n",
              "max          4.267281e+08  ...    2.144171e+07\n",
              "\n",
              "[8 rows x 4 columns]"
            ]
          },
          "metadata": {},
          "execution_count": 44
        }
      ]
    },
    {
      "cell_type": "code",
      "metadata": {
        "colab": {
          "base_uri": "https://localhost:8080/",
          "height": 292
        },
        "id": "aqFGc5X_Umlr",
        "outputId": "d4d9bfbe-a726-4b30-e713-db711ea21e97"
      },
      "source": [
        "dataset1[categorical_features].describe()"
      ],
      "execution_count": 45,
      "outputs": [
        {
          "output_type": "stream",
          "name": "stderr",
          "text": [
            "/usr/local/lib/python3.7/dist-packages/ipykernel_launcher.py:1: FutureWarning: Treating datetime data as categorical rather than numeric in `.describe` is deprecated and will be removed in a future version of pandas. Specify `datetime_is_numeric=True` to silence this warning and adopt the future behavior now.\n",
            "  \"\"\"Entry point for launching an IPython kernel.\n"
          ]
        },
        {
          "output_type": "execute_result",
          "data": {
            "text/html": [
              "<div>\n",
              "<style scoped>\n",
              "    .dataframe tbody tr th:only-of-type {\n",
              "        vertical-align: middle;\n",
              "    }\n",
              "\n",
              "    .dataframe tbody tr th {\n",
              "        vertical-align: top;\n",
              "    }\n",
              "\n",
              "    .dataframe thead th {\n",
              "        text-align: right;\n",
              "    }\n",
              "</style>\n",
              "<table border=\"1\" class=\"dataframe\">\n",
              "  <thead>\n",
              "    <tr style=\"text-align: right;\">\n",
              "      <th></th>\n",
              "      <th>date</th>\n",
              "      <th>location</th>\n",
              "      <th>vaccine</th>\n",
              "    </tr>\n",
              "  </thead>\n",
              "  <tbody>\n",
              "    <tr>\n",
              "      <th>count</th>\n",
              "      <td>649</td>\n",
              "      <td>649</td>\n",
              "      <td>649</td>\n",
              "    </tr>\n",
              "    <tr>\n",
              "      <th>unique</th>\n",
              "      <td>327</td>\n",
              "      <td>2</td>\n",
              "      <td>4</td>\n",
              "    </tr>\n",
              "    <tr>\n",
              "      <th>top</th>\n",
              "      <td>2021-06-04 00:00:00</td>\n",
              "      <td>United States</td>\n",
              "      <td>Moderna, Oxford/AstraZeneca, Pfizer/BioNTech</td>\n",
              "    </tr>\n",
              "    <tr>\n",
              "      <th>freq</th>\n",
              "      <td>2</td>\n",
              "      <td>327</td>\n",
              "      <td>322</td>\n",
              "    </tr>\n",
              "    <tr>\n",
              "      <th>first</th>\n",
              "      <td>2020-12-13 00:00:00</td>\n",
              "      <td>NaN</td>\n",
              "      <td>NaN</td>\n",
              "    </tr>\n",
              "    <tr>\n",
              "      <th>last</th>\n",
              "      <td>2021-11-04 00:00:00</td>\n",
              "      <td>NaN</td>\n",
              "      <td>NaN</td>\n",
              "    </tr>\n",
              "  </tbody>\n",
              "</table>\n",
              "</div>"
            ],
            "text/plain": [
              "                       date  ...                                       vaccine\n",
              "count                   649  ...                                           649\n",
              "unique                  327  ...                                             4\n",
              "top     2021-06-04 00:00:00  ...  Moderna, Oxford/AstraZeneca, Pfizer/BioNTech\n",
              "freq                      2  ...                                           322\n",
              "first   2020-12-13 00:00:00  ...                                           NaN\n",
              "last    2021-11-04 00:00:00  ...                                           NaN\n",
              "\n",
              "[6 rows x 3 columns]"
            ]
          },
          "metadata": {},
          "execution_count": 45
        }
      ]
    },
    {
      "cell_type": "code",
      "metadata": {
        "colab": {
          "base_uri": "https://localhost:8080/",
          "height": 308
        },
        "id": "igQ8YlbIU4VA",
        "outputId": "efcb2898-99cf-4baf-987c-20ccdf4035e4"
      },
      "source": [
        "sns.barplot(x='total_vaccinations', y='people_fully_vaccinated', data = dataset1[numerical_features] )"
      ],
      "execution_count": 46,
      "outputs": [
        {
          "output_type": "execute_result",
          "data": {
            "text/plain": [
              "<matplotlib.axes._subplots.AxesSubplot at 0x7fd395439e10>"
            ]
          },
          "metadata": {},
          "execution_count": 46
        },
        {
          "output_type": "display_data",
          "data": {
            "image/png": "[encoded data removed]",
            "text/plain": [
              "<Figure size 432x288 with 1 Axes>"
            ]
          },
          "metadata": {
            "needs_background": "light"
          }
        }
      ]
    },
    {
      "cell_type": "code",
      "metadata": {
        "colab": {
          "base_uri": "https://localhost:8080/"
        },
        "id": "kw3dMVQOU4Zg",
        "outputId": "e39328f9-5b65-42b1-b860-2e4fc5dd9401"
      },
      "source": [
        "dataset1.isnull().count()"
      ],
      "execution_count": 47,
      "outputs": [
        {
          "output_type": "execute_result",
          "data": {
            "text/plain": [
              "date                       649\n",
              "location                   649\n",
              "total_vaccinations         649\n",
              "people_vaccinated          649\n",
              "people_fully_vaccinated    649\n",
              "total_boosters             649\n",
              "vaccine                    649\n",
              "dtype: int64"
            ]
          },
          "metadata": {},
          "execution_count": 47
        }
      ]
    },
    {
      "cell_type": "code",
      "metadata": {
        "colab": {
          "base_uri": "https://localhost:8080/"
        },
        "id": "BvnmL8C_U4ec",
        "outputId": "d1f4ab17-ed13-4037-b92e-532b38ace52a"
      },
      "source": [
        "dataset1['people_fully_vaccinated'].isnull().any()"
      ],
      "execution_count": 48,
      "outputs": [
        {
          "output_type": "execute_result",
          "data": {
            "text/plain": [
              "False"
            ]
          },
          "metadata": {},
          "execution_count": 48
        }
      ]
    },
    {
      "cell_type": "code",
      "metadata": {
        "colab": {
          "base_uri": "https://localhost:8080/",
          "height": 392
        },
        "id": "IQsdz1dIU4jk",
        "outputId": "3463ae8e-f9c9-40c5-95d6-98937d28f84e"
      },
      "source": [
        "sns.heatmap(dataset1.isnull(),yticklabels=False,cbar=False,cmap='viridis')"
      ],
      "execution_count": 49,
      "outputs": [
        {
          "output_type": "execute_result",
          "data": {
            "text/plain": [
              "<matplotlib.axes._subplots.AxesSubplot at 0x7fd393fa1fd0>"
            ]
          },
          "metadata": {},
          "execution_count": 49
        },
        {
          "output_type": "display_data",
          "data": {
            "image/png": "[encoded data removed]",
            "text/plain": [
              "<Figure size 432x288 with 1 Axes>"
            ]
          },
          "metadata": {
            "needs_background": "light"
          }
        }
      ]
    },
    {
      "cell_type": "code",
      "metadata": {
        "colab": {
          "base_uri": "https://localhost:8080/",
          "height": 206
        },
        "id": "-gSPF8BfU4pA",
        "outputId": "e5893863-4f08-4379-8e0a-0a4e33a139c4"
      },
      "source": [
        "dataset1.head()"
      ],
      "execution_count": 50,
      "outputs": [
        {
          "output_type": "execute_result",
          "data": {
            "text/html": [
              "<div>\n",
              "<style scoped>\n",
              "    .dataframe tbody tr th:only-of-type {\n",
              "        vertical-align: middle;\n",
              "    }\n",
              "\n",
              "    .dataframe tbody tr th {\n",
              "        vertical-align: top;\n",
              "    }\n",
              "\n",
              "    .dataframe thead th {\n",
              "        text-align: right;\n",
              "    }\n",
              "</style>\n",
              "<table border=\"1\" class=\"dataframe\">\n",
              "  <thead>\n",
              "    <tr style=\"text-align: right;\">\n",
              "      <th></th>\n",
              "      <th>date</th>\n",
              "      <th>location</th>\n",
              "      <th>total_vaccinations</th>\n",
              "      <th>people_vaccinated</th>\n",
              "      <th>people_fully_vaccinated</th>\n",
              "      <th>total_boosters</th>\n",
              "      <th>vaccine</th>\n",
              "    </tr>\n",
              "  </thead>\n",
              "  <tbody>\n",
              "    <tr>\n",
              "      <th>0</th>\n",
              "      <td>2020-12-13</td>\n",
              "      <td>United States</td>\n",
              "      <td>20013</td>\n",
              "      <td>17073</td>\n",
              "      <td>3579</td>\n",
              "      <td>0</td>\n",
              "      <td>Pfizer/BioNTech</td>\n",
              "    </tr>\n",
              "    <tr>\n",
              "      <th>1</th>\n",
              "      <td>2020-12-14</td>\n",
              "      <td>United States</td>\n",
              "      <td>24300</td>\n",
              "      <td>21231</td>\n",
              "      <td>3668</td>\n",
              "      <td>0</td>\n",
              "      <td>Pfizer/BioNTech</td>\n",
              "    </tr>\n",
              "    <tr>\n",
              "      <th>2</th>\n",
              "      <td>2020-12-15</td>\n",
              "      <td>United States</td>\n",
              "      <td>72853</td>\n",
              "      <td>67597</td>\n",
              "      <td>3851</td>\n",
              "      <td>0</td>\n",
              "      <td>Pfizer/BioNTech</td>\n",
              "    </tr>\n",
              "    <tr>\n",
              "      <th>3</th>\n",
              "      <td>2020-12-16</td>\n",
              "      <td>United States</td>\n",
              "      <td>231420</td>\n",
              "      <td>220759</td>\n",
              "      <td>4214</td>\n",
              "      <td>0</td>\n",
              "      <td>Pfizer/BioNTech</td>\n",
              "    </tr>\n",
              "    <tr>\n",
              "      <th>4</th>\n",
              "      <td>2020-12-17</td>\n",
              "      <td>United States</td>\n",
              "      <td>501644</td>\n",
              "      <td>484011</td>\n",
              "      <td>4743</td>\n",
              "      <td>0</td>\n",
              "      <td>Pfizer/BioNTech</td>\n",
              "    </tr>\n",
              "  </tbody>\n",
              "</table>\n",
              "</div>"
            ],
            "text/plain": [
              "        date       location  ...  total_boosters          vaccine\n",
              "0 2020-12-13  United States  ...               0  Pfizer/BioNTech\n",
              "1 2020-12-14  United States  ...               0  Pfizer/BioNTech\n",
              "2 2020-12-15  United States  ...               0  Pfizer/BioNTech\n",
              "3 2020-12-16  United States  ...               0  Pfizer/BioNTech\n",
              "4 2020-12-17  United States  ...               0  Pfizer/BioNTech\n",
              "\n",
              "[5 rows x 7 columns]"
            ]
          },
          "metadata": {},
          "execution_count": 50
        }
      ]
    },
    {
      "cell_type": "markdown",
      "metadata": {
        "id": "ANyZReMlVICK"
      },
      "source": [
        "Data Tramsformation"
      ]
    },
    {
      "cell_type": "code",
      "metadata": {
        "colab": {
          "base_uri": "https://localhost:8080/"
        },
        "id": "0YPngbDBU4uX",
        "outputId": "6ed67315-65a4-4226-aa2d-b44967463647"
      },
      "source": [
        "# one hot encoding\n",
        "print(dataset1['location'].unique())\n",
        "print(dataset1['vaccine'].unique())"
      ],
      "execution_count": 51,
      "outputs": [
        {
          "output_type": "stream",
          "name": "stdout",
          "text": [
            "['United States' 'Canada']\n",
            "['Pfizer/BioNTech' 'Moderna, Pfizer/BioNTech'\n",
            " 'Johnson&Johnson, Moderna, Pfizer/BioNTech'\n",
            " 'Moderna, Oxford/AstraZeneca, Pfizer/BioNTech']\n"
          ]
        }
      ]
    },
    {
      "cell_type": "code",
      "metadata": {
        "colab": {
          "base_uri": "https://localhost:8080/"
        },
        "id": "QIY9kWLXU4zj",
        "outputId": "ce9db0c5-3458-4bed-d1c2-4e9dea595012"
      },
      "source": [
        "dataset1['location'].value_counts()\n",
        "dataset1['vaccine'].value_counts()"
      ],
      "execution_count": 52,
      "outputs": [
        {
          "output_type": "execute_result",
          "data": {
            "text/plain": [
              "Moderna, Oxford/AstraZeneca, Pfizer/BioNTech    322\n",
              "Johnson&Johnson, Moderna, Pfizer/BioNTech       245\n",
              "Moderna, Pfizer/BioNTech                         72\n",
              "Pfizer/BioNTech                                  10\n",
              "Name: vaccine, dtype: int64"
            ]
          },
          "metadata": {},
          "execution_count": 52
        }
      ]
    },
    {
      "cell_type": "code",
      "metadata": {
        "colab": {
          "base_uri": "https://localhost:8080/",
          "height": 347
        },
        "id": "h2x7FSkYU44J",
        "outputId": "2d2280de-f7c1-49a9-a38d-26b2fe5ebab6"
      },
      "source": [
        "dataset1 = pd.get_dummies(dataset1, columns = ['location', 'vaccine'])\n",
        "dataset1.head()"
      ],
      "execution_count": 53,
      "outputs": [
        {
          "output_type": "execute_result",
          "data": {
            "text/html": [
              "<div>\n",
              "<style scoped>\n",
              "    .dataframe tbody tr th:only-of-type {\n",
              "        vertical-align: middle;\n",
              "    }\n",
              "\n",
              "    .dataframe tbody tr th {\n",
              "        vertical-align: top;\n",
              "    }\n",
              "\n",
              "    .dataframe thead th {\n",
              "        text-align: right;\n",
              "    }\n",
              "</style>\n",
              "<table border=\"1\" class=\"dataframe\">\n",
              "  <thead>\n",
              "    <tr style=\"text-align: right;\">\n",
              "      <th></th>\n",
              "      <th>date</th>\n",
              "      <th>total_vaccinations</th>\n",
              "      <th>people_vaccinated</th>\n",
              "      <th>people_fully_vaccinated</th>\n",
              "      <th>total_boosters</th>\n",
              "      <th>location_Canada</th>\n",
              "      <th>location_United States</th>\n",
              "      <th>vaccine_Johnson&amp;Johnson, Moderna, Pfizer/BioNTech</th>\n",
              "      <th>vaccine_Moderna, Oxford/AstraZeneca, Pfizer/BioNTech</th>\n",
              "      <th>vaccine_Moderna, Pfizer/BioNTech</th>\n",
              "      <th>vaccine_Pfizer/BioNTech</th>\n",
              "    </tr>\n",
              "  </thead>\n",
              "  <tbody>\n",
              "    <tr>\n",
              "      <th>0</th>\n",
              "      <td>2020-12-13</td>\n",
              "      <td>20013</td>\n",
              "      <td>17073</td>\n",
              "      <td>3579</td>\n",
              "      <td>0</td>\n",
              "      <td>0</td>\n",
              "      <td>1</td>\n",
              "      <td>0</td>\n",
              "      <td>0</td>\n",
              "      <td>0</td>\n",
              "      <td>1</td>\n",
              "    </tr>\n",
              "    <tr>\n",
              "      <th>1</th>\n",
              "      <td>2020-12-14</td>\n",
              "      <td>24300</td>\n",
              "      <td>21231</td>\n",
              "      <td>3668</td>\n",
              "      <td>0</td>\n",
              "      <td>0</td>\n",
              "      <td>1</td>\n",
              "      <td>0</td>\n",
              "      <td>0</td>\n",
              "      <td>0</td>\n",
              "      <td>1</td>\n",
              "    </tr>\n",
              "    <tr>\n",
              "      <th>2</th>\n",
              "      <td>2020-12-15</td>\n",
              "      <td>72853</td>\n",
              "      <td>67597</td>\n",
              "      <td>3851</td>\n",
              "      <td>0</td>\n",
              "      <td>0</td>\n",
              "      <td>1</td>\n",
              "      <td>0</td>\n",
              "      <td>0</td>\n",
              "      <td>0</td>\n",
              "      <td>1</td>\n",
              "    </tr>\n",
              "    <tr>\n",
              "      <th>3</th>\n",
              "      <td>2020-12-16</td>\n",
              "      <td>231420</td>\n",
              "      <td>220759</td>\n",
              "      <td>4214</td>\n",
              "      <td>0</td>\n",
              "      <td>0</td>\n",
              "      <td>1</td>\n",
              "      <td>0</td>\n",
              "      <td>0</td>\n",
              "      <td>0</td>\n",
              "      <td>1</td>\n",
              "    </tr>\n",
              "    <tr>\n",
              "      <th>4</th>\n",
              "      <td>2020-12-17</td>\n",
              "      <td>501644</td>\n",
              "      <td>484011</td>\n",
              "      <td>4743</td>\n",
              "      <td>0</td>\n",
              "      <td>0</td>\n",
              "      <td>1</td>\n",
              "      <td>0</td>\n",
              "      <td>0</td>\n",
              "      <td>0</td>\n",
              "      <td>1</td>\n",
              "    </tr>\n",
              "  </tbody>\n",
              "</table>\n",
              "</div>"
            ],
            "text/plain": [
              "        date  ...  vaccine_Pfizer/BioNTech\n",
              "0 2020-12-13  ...                        1\n",
              "1 2020-12-14  ...                        1\n",
              "2 2020-12-15  ...                        1\n",
              "3 2020-12-16  ...                        1\n",
              "4 2020-12-17  ...                        1\n",
              "\n",
              "[5 rows x 11 columns]"
            ]
          },
          "metadata": {},
          "execution_count": 53
        }
      ]
    },
    {
      "cell_type": "code",
      "metadata": {
        "id": "M8O-eAIEU49F"
      },
      "source": [
        "# Data standardization\n",
        "from sklearn.preprocessing import StandardScaler"
      ],
      "execution_count": 54,
      "outputs": []
    },
    {
      "cell_type": "code",
      "metadata": {
        "colab": {
          "base_uri": "https://localhost:8080/"
        },
        "id": "Z414YTBdU5CG",
        "outputId": "3180e864-2b12-4f6d-d952-03b68e4a4c5f"
      },
      "source": [
        "dataset1.dtypes"
      ],
      "execution_count": 55,
      "outputs": [
        {
          "output_type": "execute_result",
          "data": {
            "text/plain": [
              "date                                                    datetime64[ns]\n",
              "total_vaccinations                                               int64\n",
              "people_vaccinated                                                int64\n",
              "people_fully_vaccinated                                          int64\n",
              "total_boosters                                                   int64\n",
              "location_Canada                                                  uint8\n",
              "location_United States                                           uint8\n",
              "vaccine_Johnson&Johnson, Moderna, Pfizer/BioNTech                uint8\n",
              "vaccine_Moderna, Oxford/AstraZeneca, Pfizer/BioNTech             uint8\n",
              "vaccine_Moderna, Pfizer/BioNTech                                 uint8\n",
              "vaccine_Pfizer/BioNTech                                          uint8\n",
              "dtype: object"
            ]
          },
          "metadata": {},
          "execution_count": 55
        }
      ]
    },
    {
      "cell_type": "code",
      "metadata": {
        "colab": {
          "base_uri": "https://localhost:8080/"
        },
        "id": "YZCGP5deVU74",
        "outputId": "8f34cff0-4d3f-48b0-9566-215044caa5d4"
      },
      "source": [
        "data_types_dict = {'location_Canada': str}\n",
        "dataset1 = dataset1.astype(data_types_dict)\n",
        "dataset1.dtypes"
      ],
      "execution_count": 56,
      "outputs": [
        {
          "output_type": "execute_result",
          "data": {
            "text/plain": [
              "date                                                    datetime64[ns]\n",
              "total_vaccinations                                               int64\n",
              "people_vaccinated                                                int64\n",
              "people_fully_vaccinated                                          int64\n",
              "total_boosters                                                   int64\n",
              "location_Canada                                                 object\n",
              "location_United States                                           uint8\n",
              "vaccine_Johnson&Johnson, Moderna, Pfizer/BioNTech                uint8\n",
              "vaccine_Moderna, Oxford/AstraZeneca, Pfizer/BioNTech             uint8\n",
              "vaccine_Moderna, Pfizer/BioNTech                                 uint8\n",
              "vaccine_Pfizer/BioNTech                                          uint8\n",
              "dtype: object"
            ]
          },
          "metadata": {},
          "execution_count": 56
        }
      ]
    },
    {
      "cell_type": "code",
      "metadata": {
        "colab": {
          "base_uri": "https://localhost:8080/"
        },
        "id": "x9Me5T1ZVVff",
        "outputId": "962da2df-5449-44a5-9473-f616f1345088"
      },
      "source": [
        "data_types_dict = {'location_United States': str}\n",
        "dataset1 = dataset1.astype(data_types_dict)\n",
        "dataset1.dtypes"
      ],
      "execution_count": 57,
      "outputs": [
        {
          "output_type": "execute_result",
          "data": {
            "text/plain": [
              "date                                                    datetime64[ns]\n",
              "total_vaccinations                                               int64\n",
              "people_vaccinated                                                int64\n",
              "people_fully_vaccinated                                          int64\n",
              "total_boosters                                                   int64\n",
              "location_Canada                                                 object\n",
              "location_United States                                          object\n",
              "vaccine_Johnson&Johnson, Moderna, Pfizer/BioNTech                uint8\n",
              "vaccine_Moderna, Oxford/AstraZeneca, Pfizer/BioNTech             uint8\n",
              "vaccine_Moderna, Pfizer/BioNTech                                 uint8\n",
              "vaccine_Pfizer/BioNTech                                          uint8\n",
              "dtype: object"
            ]
          },
          "metadata": {},
          "execution_count": 57
        }
      ]
    },
    {
      "cell_type": "code",
      "metadata": {
        "colab": {
          "base_uri": "https://localhost:8080/"
        },
        "id": "QlTUmAAQVVmQ",
        "outputId": "5771cfc9-ae06-4d46-adbc-67edd376c81c"
      },
      "source": [
        "dataset1.dtypes"
      ],
      "execution_count": 58,
      "outputs": [
        {
          "output_type": "execute_result",
          "data": {
            "text/plain": [
              "date                                                    datetime64[ns]\n",
              "total_vaccinations                                               int64\n",
              "people_vaccinated                                                int64\n",
              "people_fully_vaccinated                                          int64\n",
              "total_boosters                                                   int64\n",
              "location_Canada                                                 object\n",
              "location_United States                                          object\n",
              "vaccine_Johnson&Johnson, Moderna, Pfizer/BioNTech                uint8\n",
              "vaccine_Moderna, Oxford/AstraZeneca, Pfizer/BioNTech             uint8\n",
              "vaccine_Moderna, Pfizer/BioNTech                                 uint8\n",
              "vaccine_Pfizer/BioNTech                                          uint8\n",
              "dtype: object"
            ]
          },
          "metadata": {},
          "execution_count": 58
        }
      ]
    },
    {
      "cell_type": "code",
      "metadata": {
        "colab": {
          "base_uri": "https://localhost:8080/"
        },
        "id": "ONCXDNDQVVrb",
        "outputId": "fe5ee651-69c8-4004-a1e2-aa138aca4ad8"
      },
      "source": [
        "#change the datatype\n",
        "data_types_dict = {'location_United States': str,'vaccine_Johnson&Johnson, Moderna, Pfizer/BioNTech':str, 'vaccine_Moderna, Oxford/AstraZeneca, Pfizer/BioNTech':str, 'vaccine_Moderna, Pfizer/BioNTech':str, 'vaccine_Pfizer/BioNTech':str}\n",
        "dataset1 = dataset1.astype(data_types_dict)\n",
        "dataset1.dtypes"
      ],
      "execution_count": 59,
      "outputs": [
        {
          "output_type": "execute_result",
          "data": {
            "text/plain": [
              "date                                                    datetime64[ns]\n",
              "total_vaccinations                                               int64\n",
              "people_vaccinated                                                int64\n",
              "people_fully_vaccinated                                          int64\n",
              "total_boosters                                                   int64\n",
              "location_Canada                                                 object\n",
              "location_United States                                          object\n",
              "vaccine_Johnson&Johnson, Moderna, Pfizer/BioNTech               object\n",
              "vaccine_Moderna, Oxford/AstraZeneca, Pfizer/BioNTech            object\n",
              "vaccine_Moderna, Pfizer/BioNTech                                object\n",
              "vaccine_Pfizer/BioNTech                                         object\n",
              "dtype: object"
            ]
          },
          "metadata": {},
          "execution_count": 59
        }
      ]
    },
    {
      "cell_type": "code",
      "metadata": {
        "colab": {
          "base_uri": "https://localhost:8080/"
        },
        "id": "QZenja_7VVxo",
        "outputId": "785d4196-b5d4-4b8e-d419-4458778001a6"
      },
      "source": [
        "# change the datatype\n",
        "dataset1[['people_vaccinated','people_fully_vaccinated','total_boosters']].dtypes"
      ],
      "execution_count": 60,
      "outputs": [
        {
          "output_type": "execute_result",
          "data": {
            "text/plain": [
              "people_vaccinated          int64\n",
              "people_fully_vaccinated    int64\n",
              "total_boosters             int64\n",
              "dtype: object"
            ]
          },
          "metadata": {},
          "execution_count": 60
        }
      ]
    }
  ]
}