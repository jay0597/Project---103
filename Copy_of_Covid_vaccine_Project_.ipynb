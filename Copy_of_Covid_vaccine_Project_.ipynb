{
  "nbformat": 4,
  "nbformat_minor": 0,
  "metadata": {
    "colab": {
      "name": "Copy of Covid_vaccine_Project .ipynb",
      "provenance": [],
      "authorship_tag": "ABX9TyNsleGnLDH9XsISRwx2d7NL",
      "include_colab_link": true
    },
    "kernelspec": {
      "name": "python3",
      "display_name": "Python 3"
    },
    "language_info": {
      "name": "python"
    }
  },
  "cells": [
    {
      "cell_type": "markdown",
      "metadata": {
        "id": "view-in-github",
        "colab_type": "text"
      },
      "source": [
        "<a href=\"https://colab.research.google.com/github/jay0597/Project---103/blob/main/Copy_of_Covid_vaccine_Project_.ipynb\" target=\"_parent\"><img src=\"https://colab.research.google.com/assets/colab-badge.svg\" alt=\"Open In Colab\"/></a>"
      ]
    },
    {
      "cell_type": "code",
      "metadata": {
        "id": "IkhPkeu89T-W"
      },
      "source": [
        "from google.colab import drive"
      ],
      "execution_count": null,
      "outputs": []
    },
    {
      "cell_type": "code",
      "metadata": {
        "colab": {
          "base_uri": "https://localhost:8080/"
        },
        "id": "H0k2sI8Q9Zbh",
        "outputId": "d112ce7e-4b4d-4ea2-cfd1-09b77ecc5d8d"
      },
      "source": [
        "drive.mount(\"/content/gdrive\")"
      ],
      "execution_count": null,
      "outputs": [
        {
          "output_type": "stream",
          "name": "stdout",
          "text": [
            "Mounted at /content/gdrive\n"
          ]
        }
      ]
    },
    {
      "cell_type": "code",
      "metadata": {
        "id": "bIK3qH8t9ZeE"
      },
      "source": [
        "import pandas as pd"
      ],
      "execution_count": null,
      "outputs": []
    },
    {
      "cell_type": "markdown",
      "metadata": {
        "id": "VTS46yPJ9j8H"
      },
      "source": [
        "# Canada Vaccination Data"
      ]
    },
    {
      "cell_type": "code",
      "metadata": {
        "id": "vTb6Nhxa9ZhV"
      },
      "source": [
        "Canada_df=pd.read_csv('/content/gdrive/MyDrive/103 Project/Canada.csv')"
      ],
      "execution_count": null,
      "outputs": []
    },
    {
      "cell_type": "code",
      "metadata": {
        "colab": {
          "base_uri": "https://localhost:8080/",
          "height": 424
        },
        "id": "p-8kcV1c9Zmf",
        "outputId": "f582a63b-5fbf-401d-9307-a118763c8384"
      },
      "source": [
        "Canada_df"
      ],
      "execution_count": null,
      "outputs": [
        {
          "output_type": "execute_result",
          "data": {
            "text/html": [
              "<div>\n",
              "<style scoped>\n",
              "    .dataframe tbody tr th:only-of-type {\n",
              "        vertical-align: middle;\n",
              "    }\n",
              "\n",
              "    .dataframe tbody tr th {\n",
              "        vertical-align: top;\n",
              "    }\n",
              "\n",
              "    .dataframe thead th {\n",
              "        text-align: right;\n",
              "    }\n",
              "</style>\n",
              "<table border=\"1\" class=\"dataframe\">\n",
              "  <thead>\n",
              "    <tr style=\"text-align: right;\">\n",
              "      <th></th>\n",
              "      <th>date</th>\n",
              "      <th>total_vaccinations</th>\n",
              "      <th>people_fully_vaccinated</th>\n",
              "      <th>total_boosters</th>\n",
              "      <th>people_vaccinated</th>\n",
              "      <th>location</th>\n",
              "      <th>source_url</th>\n",
              "      <th>vaccine</th>\n",
              "    </tr>\n",
              "  </thead>\n",
              "  <tbody>\n",
              "    <tr>\n",
              "      <th>0</th>\n",
              "      <td>2020-12-14</td>\n",
              "      <td>5</td>\n",
              "      <td>0</td>\n",
              "      <td>0</td>\n",
              "      <td>5</td>\n",
              "      <td>Canada</td>\n",
              "      <td>https://covid19tracker.ca/vaccinationtracker.html</td>\n",
              "      <td>Moderna, Oxford/AstraZeneca, Pfizer/BioNTech</td>\n",
              "    </tr>\n",
              "    <tr>\n",
              "      <th>1</th>\n",
              "      <td>2020-12-15</td>\n",
              "      <td>727</td>\n",
              "      <td>0</td>\n",
              "      <td>0</td>\n",
              "      <td>727</td>\n",
              "      <td>Canada</td>\n",
              "      <td>https://covid19tracker.ca/vaccinationtracker.html</td>\n",
              "      <td>Moderna, Oxford/AstraZeneca, Pfizer/BioNTech</td>\n",
              "    </tr>\n",
              "    <tr>\n",
              "      <th>2</th>\n",
              "      <td>2020-12-16</td>\n",
              "      <td>3015</td>\n",
              "      <td>0</td>\n",
              "      <td>0</td>\n",
              "      <td>3015</td>\n",
              "      <td>Canada</td>\n",
              "      <td>https://covid19tracker.ca/vaccinationtracker.html</td>\n",
              "      <td>Moderna, Oxford/AstraZeneca, Pfizer/BioNTech</td>\n",
              "    </tr>\n",
              "    <tr>\n",
              "      <th>3</th>\n",
              "      <td>2020-12-17</td>\n",
              "      <td>7266</td>\n",
              "      <td>0</td>\n",
              "      <td>0</td>\n",
              "      <td>7266</td>\n",
              "      <td>Canada</td>\n",
              "      <td>https://covid19tracker.ca/vaccinationtracker.html</td>\n",
              "      <td>Moderna, Oxford/AstraZeneca, Pfizer/BioNTech</td>\n",
              "    </tr>\n",
              "    <tr>\n",
              "      <th>4</th>\n",
              "      <td>2020-12-18</td>\n",
              "      <td>11274</td>\n",
              "      <td>0</td>\n",
              "      <td>0</td>\n",
              "      <td>11274</td>\n",
              "      <td>Canada</td>\n",
              "      <td>https://covid19tracker.ca/vaccinationtracker.html</td>\n",
              "      <td>Moderna, Oxford/AstraZeneca, Pfizer/BioNTech</td>\n",
              "    </tr>\n",
              "    <tr>\n",
              "      <th>...</th>\n",
              "      <td>...</td>\n",
              "      <td>...</td>\n",
              "      <td>...</td>\n",
              "      <td>...</td>\n",
              "      <td>...</td>\n",
              "      <td>...</td>\n",
              "      <td>...</td>\n",
              "      <td>...</td>\n",
              "    </tr>\n",
              "    <tr>\n",
              "      <th>317</th>\n",
              "      <td>2021-10-27</td>\n",
              "      <td>58428432</td>\n",
              "      <td>28144619</td>\n",
              "      <td>511618</td>\n",
              "      <td>29772195</td>\n",
              "      <td>Canada</td>\n",
              "      <td>https://covid19tracker.ca/vaccinationtracker.html</td>\n",
              "      <td>Moderna, Oxford/AstraZeneca, Pfizer/BioNTech</td>\n",
              "    </tr>\n",
              "    <tr>\n",
              "      <th>318</th>\n",
              "      <td>2021-10-28</td>\n",
              "      <td>58511813</td>\n",
              "      <td>28185778</td>\n",
              "      <td>528738</td>\n",
              "      <td>29797297</td>\n",
              "      <td>Canada</td>\n",
              "      <td>https://covid19tracker.ca/vaccinationtracker.html</td>\n",
              "      <td>Moderna, Oxford/AstraZeneca, Pfizer/BioNTech</td>\n",
              "    </tr>\n",
              "    <tr>\n",
              "      <th>319</th>\n",
              "      <td>2021-10-29</td>\n",
              "      <td>58589032</td>\n",
              "      <td>28225947</td>\n",
              "      <td>539126</td>\n",
              "      <td>29823959</td>\n",
              "      <td>Canada</td>\n",
              "      <td>https://covid19tracker.ca/vaccinationtracker.html</td>\n",
              "      <td>Moderna, Oxford/AstraZeneca, Pfizer/BioNTech</td>\n",
              "    </tr>\n",
              "    <tr>\n",
              "      <th>320</th>\n",
              "      <td>2021-10-30</td>\n",
              "      <td>58629704</td>\n",
              "      <td>28250376</td>\n",
              "      <td>544017</td>\n",
              "      <td>29835311</td>\n",
              "      <td>Canada</td>\n",
              "      <td>https://covid19tracker.ca/vaccinationtracker.html</td>\n",
              "      <td>Moderna, Oxford/AstraZeneca, Pfizer/BioNTech</td>\n",
              "    </tr>\n",
              "    <tr>\n",
              "      <th>321</th>\n",
              "      <td>2021-10-31</td>\n",
              "      <td>58663274</td>\n",
              "      <td>28272392</td>\n",
              "      <td>545539</td>\n",
              "      <td>29845343</td>\n",
              "      <td>Canada</td>\n",
              "      <td>https://covid19tracker.ca/vaccinationtracker.html</td>\n",
              "      <td>Moderna, Oxford/AstraZeneca, Pfizer/BioNTech</td>\n",
              "    </tr>\n",
              "  </tbody>\n",
              "</table>\n",
              "<p>322 rows × 8 columns</p>\n",
              "</div>"
            ],
            "text/plain": [
              "           date  ...                                       vaccine\n",
              "0    2020-12-14  ...  Moderna, Oxford/AstraZeneca, Pfizer/BioNTech\n",
              "1    2020-12-15  ...  Moderna, Oxford/AstraZeneca, Pfizer/BioNTech\n",
              "2    2020-12-16  ...  Moderna, Oxford/AstraZeneca, Pfizer/BioNTech\n",
              "3    2020-12-17  ...  Moderna, Oxford/AstraZeneca, Pfizer/BioNTech\n",
              "4    2020-12-18  ...  Moderna, Oxford/AstraZeneca, Pfizer/BioNTech\n",
              "..          ...  ...                                           ...\n",
              "317  2021-10-27  ...  Moderna, Oxford/AstraZeneca, Pfizer/BioNTech\n",
              "318  2021-10-28  ...  Moderna, Oxford/AstraZeneca, Pfizer/BioNTech\n",
              "319  2021-10-29  ...  Moderna, Oxford/AstraZeneca, Pfizer/BioNTech\n",
              "320  2021-10-30  ...  Moderna, Oxford/AstraZeneca, Pfizer/BioNTech\n",
              "321  2021-10-31  ...  Moderna, Oxford/AstraZeneca, Pfizer/BioNTech\n",
              "\n",
              "[322 rows x 8 columns]"
            ]
          },
          "metadata": {},
          "execution_count": 5
        }
      ]
    },
    {
      "cell_type": "markdown",
      "metadata": {
        "id": "SlLUueST9sG-"
      },
      "source": [
        "**Removed the source_url column from the dataframe as it just stores the same links to destination.**"
      ]
    },
    {
      "cell_type": "code",
      "metadata": {
        "id": "yN2YAWkH9Zo5"
      },
      "source": [
        "Canada_df.drop('source_url', axis=1, inplace=True)"
      ],
      "execution_count": null,
      "outputs": []
    },
    {
      "cell_type": "code",
      "metadata": {
        "colab": {
          "base_uri": "https://localhost:8080/",
          "height": 424
        },
        "id": "intX8wTc9Zrl",
        "outputId": "70d87783-483d-47c7-c2a9-5d6f6b04c60f"
      },
      "source": [
        "Canada_df"
      ],
      "execution_count": null,
      "outputs": [
        {
          "output_type": "execute_result",
          "data": {
            "text/html": [
              "<div>\n",
              "<style scoped>\n",
              "    .dataframe tbody tr th:only-of-type {\n",
              "        vertical-align: middle;\n",
              "    }\n",
              "\n",
              "    .dataframe tbody tr th {\n",
              "        vertical-align: top;\n",
              "    }\n",
              "\n",
              "    .dataframe thead th {\n",
              "        text-align: right;\n",
              "    }\n",
              "</style>\n",
              "<table border=\"1\" class=\"dataframe\">\n",
              "  <thead>\n",
              "    <tr style=\"text-align: right;\">\n",
              "      <th></th>\n",
              "      <th>date</th>\n",
              "      <th>total_vaccinations</th>\n",
              "      <th>people_fully_vaccinated</th>\n",
              "      <th>total_boosters</th>\n",
              "      <th>people_vaccinated</th>\n",
              "      <th>location</th>\n",
              "      <th>vaccine</th>\n",
              "    </tr>\n",
              "  </thead>\n",
              "  <tbody>\n",
              "    <tr>\n",
              "      <th>0</th>\n",
              "      <td>2020-12-14</td>\n",
              "      <td>5</td>\n",
              "      <td>0</td>\n",
              "      <td>0</td>\n",
              "      <td>5</td>\n",
              "      <td>Canada</td>\n",
              "      <td>Moderna, Oxford/AstraZeneca, Pfizer/BioNTech</td>\n",
              "    </tr>\n",
              "    <tr>\n",
              "      <th>1</th>\n",
              "      <td>2020-12-15</td>\n",
              "      <td>727</td>\n",
              "      <td>0</td>\n",
              "      <td>0</td>\n",
              "      <td>727</td>\n",
              "      <td>Canada</td>\n",
              "      <td>Moderna, Oxford/AstraZeneca, Pfizer/BioNTech</td>\n",
              "    </tr>\n",
              "    <tr>\n",
              "      <th>2</th>\n",
              "      <td>2020-12-16</td>\n",
              "      <td>3015</td>\n",
              "      <td>0</td>\n",
              "      <td>0</td>\n",
              "      <td>3015</td>\n",
              "      <td>Canada</td>\n",
              "      <td>Moderna, Oxford/AstraZeneca, Pfizer/BioNTech</td>\n",
              "    </tr>\n",
              "    <tr>\n",
              "      <th>3</th>\n",
              "      <td>2020-12-17</td>\n",
              "      <td>7266</td>\n",
              "      <td>0</td>\n",
              "      <td>0</td>\n",
              "      <td>7266</td>\n",
              "      <td>Canada</td>\n",
              "      <td>Moderna, Oxford/AstraZeneca, Pfizer/BioNTech</td>\n",
              "    </tr>\n",
              "    <tr>\n",
              "      <th>4</th>\n",
              "      <td>2020-12-18</td>\n",
              "      <td>11274</td>\n",
              "      <td>0</td>\n",
              "      <td>0</td>\n",
              "      <td>11274</td>\n",
              "      <td>Canada</td>\n",
              "      <td>Moderna, Oxford/AstraZeneca, Pfizer/BioNTech</td>\n",
              "    </tr>\n",
              "    <tr>\n",
              "      <th>...</th>\n",
              "      <td>...</td>\n",
              "      <td>...</td>\n",
              "      <td>...</td>\n",
              "      <td>...</td>\n",
              "      <td>...</td>\n",
              "      <td>...</td>\n",
              "      <td>...</td>\n",
              "    </tr>\n",
              "    <tr>\n",
              "      <th>317</th>\n",
              "      <td>2021-10-27</td>\n",
              "      <td>58428432</td>\n",
              "      <td>28144619</td>\n",
              "      <td>511618</td>\n",
              "      <td>29772195</td>\n",
              "      <td>Canada</td>\n",
              "      <td>Moderna, Oxford/AstraZeneca, Pfizer/BioNTech</td>\n",
              "    </tr>\n",
              "    <tr>\n",
              "      <th>318</th>\n",
              "      <td>2021-10-28</td>\n",
              "      <td>58511813</td>\n",
              "      <td>28185778</td>\n",
              "      <td>528738</td>\n",
              "      <td>29797297</td>\n",
              "      <td>Canada</td>\n",
              "      <td>Moderna, Oxford/AstraZeneca, Pfizer/BioNTech</td>\n",
              "    </tr>\n",
              "    <tr>\n",
              "      <th>319</th>\n",
              "      <td>2021-10-29</td>\n",
              "      <td>58589032</td>\n",
              "      <td>28225947</td>\n",
              "      <td>539126</td>\n",
              "      <td>29823959</td>\n",
              "      <td>Canada</td>\n",
              "      <td>Moderna, Oxford/AstraZeneca, Pfizer/BioNTech</td>\n",
              "    </tr>\n",
              "    <tr>\n",
              "      <th>320</th>\n",
              "      <td>2021-10-30</td>\n",
              "      <td>58629704</td>\n",
              "      <td>28250376</td>\n",
              "      <td>544017</td>\n",
              "      <td>29835311</td>\n",
              "      <td>Canada</td>\n",
              "      <td>Moderna, Oxford/AstraZeneca, Pfizer/BioNTech</td>\n",
              "    </tr>\n",
              "    <tr>\n",
              "      <th>321</th>\n",
              "      <td>2021-10-31</td>\n",
              "      <td>58663274</td>\n",
              "      <td>28272392</td>\n",
              "      <td>545539</td>\n",
              "      <td>29845343</td>\n",
              "      <td>Canada</td>\n",
              "      <td>Moderna, Oxford/AstraZeneca, Pfizer/BioNTech</td>\n",
              "    </tr>\n",
              "  </tbody>\n",
              "</table>\n",
              "<p>322 rows × 7 columns</p>\n",
              "</div>"
            ],
            "text/plain": [
              "           date  ...                                       vaccine\n",
              "0    2020-12-14  ...  Moderna, Oxford/AstraZeneca, Pfizer/BioNTech\n",
              "1    2020-12-15  ...  Moderna, Oxford/AstraZeneca, Pfizer/BioNTech\n",
              "2    2020-12-16  ...  Moderna, Oxford/AstraZeneca, Pfizer/BioNTech\n",
              "3    2020-12-17  ...  Moderna, Oxford/AstraZeneca, Pfizer/BioNTech\n",
              "4    2020-12-18  ...  Moderna, Oxford/AstraZeneca, Pfizer/BioNTech\n",
              "..          ...  ...                                           ...\n",
              "317  2021-10-27  ...  Moderna, Oxford/AstraZeneca, Pfizer/BioNTech\n",
              "318  2021-10-28  ...  Moderna, Oxford/AstraZeneca, Pfizer/BioNTech\n",
              "319  2021-10-29  ...  Moderna, Oxford/AstraZeneca, Pfizer/BioNTech\n",
              "320  2021-10-30  ...  Moderna, Oxford/AstraZeneca, Pfizer/BioNTech\n",
              "321  2021-10-31  ...  Moderna, Oxford/AstraZeneca, Pfizer/BioNTech\n",
              "\n",
              "[322 rows x 7 columns]"
            ]
          },
          "metadata": {},
          "execution_count": 7
        }
      ]
    },
    {
      "cell_type": "code",
      "metadata": {
        "id": "M9czfD3Q9ZuR"
      },
      "source": [
        "import matplotlib.pyplot as plt\n",
        "import numpy as np\n"
      ],
      "execution_count": null,
      "outputs": []
    },
    {
      "cell_type": "code",
      "metadata": {
        "colab": {
          "base_uri": "https://localhost:8080/"
        },
        "id": "xBfeDKYw9Zyv",
        "outputId": "84d7aad9-024c-4490-c05f-9f8596b5c964"
      },
      "source": [
        "Canada_df.columns"
      ],
      "execution_count": null,
      "outputs": [
        {
          "output_type": "execute_result",
          "data": {
            "text/plain": [
              "Index(['date', 'total_vaccinations', 'people_fully_vaccinated',\n",
              "       'total_boosters', 'people_vaccinated', 'location', 'vaccine'],\n",
              "      dtype='object')"
            ]
          },
          "metadata": {},
          "execution_count": 9
        }
      ]
    },
    {
      "cell_type": "code",
      "metadata": {
        "colab": {
          "base_uri": "https://localhost:8080/",
          "height": 294
        },
        "id": "XJhDyfR19Z18",
        "outputId": "281f9b7a-0a55-45dc-9ebb-3b13e02854ef"
      },
      "source": [
        "Canada_df.boxplot(column=['total_vaccinations'])"
      ],
      "execution_count": null,
      "outputs": [
        {
          "output_type": "execute_result",
          "data": {
            "text/plain": [
              "<matplotlib.axes._subplots.AxesSubplot at 0x7fc25507b290>"
            ]
          },
          "metadata": {},
          "execution_count": 10
        },
        {
          "output_type": "display_data",
          "data": {
            "image/png": "[encoded data removed]",
            "text/plain": [
              "<Figure size 432x288 with 1 Axes>"
            ]
          },
          "metadata": {
            "needs_background": "light"
          }
        }
      ]
    },
    {
      "cell_type": "markdown",
      "metadata": {
        "id": "kMm7djkU-B1n"
      },
      "source": [
        "#UKRAINE Vaccination Data"
      ]
    },
    {
      "cell_type": "code",
      "metadata": {
        "id": "h5RTR5zc9Z4V"
      },
      "source": [
        "Ukraine_df=pd.read_csv('/content/gdrive/MyDrive/103 Project/Ukraine.csv')"
      ],
      "execution_count": null,
      "outputs": []
    },
    {
      "cell_type": "code",
      "metadata": {
        "colab": {
          "base_uri": "https://localhost:8080/",
          "height": 424
        },
        "id": "L3l9F0_P9Z7B",
        "outputId": "728ec605-636c-4222-9e44-6ac1e23fafb4"
      },
      "source": [
        "Ukraine_df"
      ],
      "execution_count": null,
      "outputs": [
        {
          "output_type": "execute_result",
          "data": {
            "text/html": [
              "<div>\n",
              "<style scoped>\n",
              "    .dataframe tbody tr th:only-of-type {\n",
              "        vertical-align: middle;\n",
              "    }\n",
              "\n",
              "    .dataframe tbody tr th {\n",
              "        vertical-align: top;\n",
              "    }\n",
              "\n",
              "    .dataframe thead th {\n",
              "        text-align: right;\n",
              "    }\n",
              "</style>\n",
              "<table border=\"1\" class=\"dataframe\">\n",
              "  <thead>\n",
              "    <tr style=\"text-align: right;\">\n",
              "      <th></th>\n",
              "      <th>location</th>\n",
              "      <th>date</th>\n",
              "      <th>vaccine</th>\n",
              "      <th>source_url</th>\n",
              "      <th>total_vaccinations</th>\n",
              "      <th>people_vaccinated</th>\n",
              "      <th>people_fully_vaccinated</th>\n",
              "      <th>total_boosters</th>\n",
              "    </tr>\n",
              "  </thead>\n",
              "  <tbody>\n",
              "    <tr>\n",
              "      <th>0</th>\n",
              "      <td>Ukraine</td>\n",
              "      <td>2021-02-24</td>\n",
              "      <td>Oxford/AstraZeneca</td>\n",
              "      <td>https://t.me/COVID19_Ukraine/1485</td>\n",
              "      <td>159</td>\n",
              "      <td>159</td>\n",
              "      <td>0</td>\n",
              "      <td>NaN</td>\n",
              "    </tr>\n",
              "    <tr>\n",
              "      <th>1</th>\n",
              "      <td>Ukraine</td>\n",
              "      <td>2021-02-25</td>\n",
              "      <td>Oxford/AstraZeneca</td>\n",
              "      <td>https://vaccination.covid19.gov.ua/</td>\n",
              "      <td>1338</td>\n",
              "      <td>1338</td>\n",
              "      <td>0</td>\n",
              "      <td>NaN</td>\n",
              "    </tr>\n",
              "    <tr>\n",
              "      <th>2</th>\n",
              "      <td>Ukraine</td>\n",
              "      <td>2021-02-26</td>\n",
              "      <td>Oxford/AstraZeneca</td>\n",
              "      <td>https://vaccination.covid19.gov.ua/</td>\n",
              "      <td>3051</td>\n",
              "      <td>3051</td>\n",
              "      <td>0</td>\n",
              "      <td>NaN</td>\n",
              "    </tr>\n",
              "    <tr>\n",
              "      <th>3</th>\n",
              "      <td>Ukraine</td>\n",
              "      <td>2021-02-27</td>\n",
              "      <td>Oxford/AstraZeneca</td>\n",
              "      <td>https://vaccination.covid19.gov.ua/</td>\n",
              "      <td>3141</td>\n",
              "      <td>3141</td>\n",
              "      <td>0</td>\n",
              "      <td>NaN</td>\n",
              "    </tr>\n",
              "    <tr>\n",
              "      <th>4</th>\n",
              "      <td>Ukraine</td>\n",
              "      <td>2021-03-01</td>\n",
              "      <td>Oxford/AstraZeneca</td>\n",
              "      <td>https://vaccination.covid19.gov.ua/</td>\n",
              "      <td>4905</td>\n",
              "      <td>4905</td>\n",
              "      <td>0</td>\n",
              "      <td>NaN</td>\n",
              "    </tr>\n",
              "    <tr>\n",
              "      <th>...</th>\n",
              "      <td>...</td>\n",
              "      <td>...</td>\n",
              "      <td>...</td>\n",
              "      <td>...</td>\n",
              "      <td>...</td>\n",
              "      <td>...</td>\n",
              "      <td>...</td>\n",
              "      <td>...</td>\n",
              "    </tr>\n",
              "    <tr>\n",
              "      <th>233</th>\n",
              "      <td>Ukraine</td>\n",
              "      <td>2021-10-27</td>\n",
              "      <td>Moderna, Oxford/AstraZeneca, Sinovac, Pfizer/B...</td>\n",
              "      <td>https://vaccination.covid19.gov.ua/</td>\n",
              "      <td>16793558</td>\n",
              "      <td>9576175</td>\n",
              "      <td>7217383</td>\n",
              "      <td>NaN</td>\n",
              "    </tr>\n",
              "    <tr>\n",
              "      <th>234</th>\n",
              "      <td>Ukraine</td>\n",
              "      <td>2021-10-28</td>\n",
              "      <td>Moderna, Oxford/AstraZeneca, Sinovac, Pfizer/B...</td>\n",
              "      <td>https://vaccination.covid19.gov.ua/</td>\n",
              "      <td>17082799</td>\n",
              "      <td>9790278</td>\n",
              "      <td>7292521</td>\n",
              "      <td>NaN</td>\n",
              "    </tr>\n",
              "    <tr>\n",
              "      <th>235</th>\n",
              "      <td>Ukraine</td>\n",
              "      <td>2021-10-29</td>\n",
              "      <td>Moderna, Oxford/AstraZeneca, Sinovac, Pfizer/B...</td>\n",
              "      <td>https://vaccination.covid19.gov.ua/</td>\n",
              "      <td>17400008</td>\n",
              "      <td>10022976</td>\n",
              "      <td>7377032</td>\n",
              "      <td>NaN</td>\n",
              "    </tr>\n",
              "    <tr>\n",
              "      <th>236</th>\n",
              "      <td>Ukraine</td>\n",
              "      <td>2021-10-30</td>\n",
              "      <td>Moderna, Oxford/AstraZeneca, Sinovac, Pfizer/B...</td>\n",
              "      <td>https://vaccination.covid19.gov.ua/</td>\n",
              "      <td>17577773</td>\n",
              "      <td>10156227</td>\n",
              "      <td>7421546</td>\n",
              "      <td>NaN</td>\n",
              "    </tr>\n",
              "    <tr>\n",
              "      <th>237</th>\n",
              "      <td>Ukraine</td>\n",
              "      <td>2021-10-31</td>\n",
              "      <td>Moderna, Oxford/AstraZeneca, Sinovac, Pfizer/B...</td>\n",
              "      <td>https://vaccination.covid19.gov.ua/</td>\n",
              "      <td>17695591</td>\n",
              "      <td>10245773</td>\n",
              "      <td>7449818</td>\n",
              "      <td>NaN</td>\n",
              "    </tr>\n",
              "  </tbody>\n",
              "</table>\n",
              "<p>238 rows × 8 columns</p>\n",
              "</div>"
            ],
            "text/plain": [
              "    location        date  ... people_fully_vaccinated total_boosters\n",
              "0    Ukraine  2021-02-24  ...                       0            NaN\n",
              "1    Ukraine  2021-02-25  ...                       0            NaN\n",
              "2    Ukraine  2021-02-26  ...                       0            NaN\n",
              "3    Ukraine  2021-02-27  ...                       0            NaN\n",
              "4    Ukraine  2021-03-01  ...                       0            NaN\n",
              "..       ...         ...  ...                     ...            ...\n",
              "233  Ukraine  2021-10-27  ...                 7217383            NaN\n",
              "234  Ukraine  2021-10-28  ...                 7292521            NaN\n",
              "235  Ukraine  2021-10-29  ...                 7377032            NaN\n",
              "236  Ukraine  2021-10-30  ...                 7421546            NaN\n",
              "237  Ukraine  2021-10-31  ...                 7449818            NaN\n",
              "\n",
              "[238 rows x 8 columns]"
            ]
          },
          "metadata": {},
          "execution_count": 12
        }
      ]
    },
    {
      "cell_type": "code",
      "metadata": {
        "id": "pk8TTFbn-GAe"
      },
      "source": [
        "Ukraine_df.drop('source_url', axis=1, inplace=True)"
      ],
      "execution_count": null,
      "outputs": []
    },
    {
      "cell_type": "code",
      "metadata": {
        "colab": {
          "base_uri": "https://localhost:8080/",
          "height": 424
        },
        "id": "b-1GK6Nn-GJd",
        "outputId": "c78bb83a-d132-40e8-dfef-4d842a2d2ac8"
      },
      "source": [
        "Ukraine_df"
      ],
      "execution_count": null,
      "outputs": [
        {
          "output_type": "execute_result",
          "data": {
            "text/html": [
              "<div>\n",
              "<style scoped>\n",
              "    .dataframe tbody tr th:only-of-type {\n",
              "        vertical-align: middle;\n",
              "    }\n",
              "\n",
              "    .dataframe tbody tr th {\n",
              "        vertical-align: top;\n",
              "    }\n",
              "\n",
              "    .dataframe thead th {\n",
              "        text-align: right;\n",
              "    }\n",
              "</style>\n",
              "<table border=\"1\" class=\"dataframe\">\n",
              "  <thead>\n",
              "    <tr style=\"text-align: right;\">\n",
              "      <th></th>\n",
              "      <th>location</th>\n",
              "      <th>date</th>\n",
              "      <th>vaccine</th>\n",
              "      <th>total_vaccinations</th>\n",
              "      <th>people_vaccinated</th>\n",
              "      <th>people_fully_vaccinated</th>\n",
              "      <th>total_boosters</th>\n",
              "    </tr>\n",
              "  </thead>\n",
              "  <tbody>\n",
              "    <tr>\n",
              "      <th>0</th>\n",
              "      <td>Ukraine</td>\n",
              "      <td>2021-02-24</td>\n",
              "      <td>Oxford/AstraZeneca</td>\n",
              "      <td>159</td>\n",
              "      <td>159</td>\n",
              "      <td>0</td>\n",
              "      <td>NaN</td>\n",
              "    </tr>\n",
              "    <tr>\n",
              "      <th>1</th>\n",
              "      <td>Ukraine</td>\n",
              "      <td>2021-02-25</td>\n",
              "      <td>Oxford/AstraZeneca</td>\n",
              "      <td>1338</td>\n",
              "      <td>1338</td>\n",
              "      <td>0</td>\n",
              "      <td>NaN</td>\n",
              "    </tr>\n",
              "    <tr>\n",
              "      <th>2</th>\n",
              "      <td>Ukraine</td>\n",
              "      <td>2021-02-26</td>\n",
              "      <td>Oxford/AstraZeneca</td>\n",
              "      <td>3051</td>\n",
              "      <td>3051</td>\n",
              "      <td>0</td>\n",
              "      <td>NaN</td>\n",
              "    </tr>\n",
              "    <tr>\n",
              "      <th>3</th>\n",
              "      <td>Ukraine</td>\n",
              "      <td>2021-02-27</td>\n",
              "      <td>Oxford/AstraZeneca</td>\n",
              "      <td>3141</td>\n",
              "      <td>3141</td>\n",
              "      <td>0</td>\n",
              "      <td>NaN</td>\n",
              "    </tr>\n",
              "    <tr>\n",
              "      <th>4</th>\n",
              "      <td>Ukraine</td>\n",
              "      <td>2021-03-01</td>\n",
              "      <td>Oxford/AstraZeneca</td>\n",
              "      <td>4905</td>\n",
              "      <td>4905</td>\n",
              "      <td>0</td>\n",
              "      <td>NaN</td>\n",
              "    </tr>\n",
              "    <tr>\n",
              "      <th>...</th>\n",
              "      <td>...</td>\n",
              "      <td>...</td>\n",
              "      <td>...</td>\n",
              "      <td>...</td>\n",
              "      <td>...</td>\n",
              "      <td>...</td>\n",
              "      <td>...</td>\n",
              "    </tr>\n",
              "    <tr>\n",
              "      <th>233</th>\n",
              "      <td>Ukraine</td>\n",
              "      <td>2021-10-27</td>\n",
              "      <td>Moderna, Oxford/AstraZeneca, Sinovac, Pfizer/B...</td>\n",
              "      <td>16793558</td>\n",
              "      <td>9576175</td>\n",
              "      <td>7217383</td>\n",
              "      <td>NaN</td>\n",
              "    </tr>\n",
              "    <tr>\n",
              "      <th>234</th>\n",
              "      <td>Ukraine</td>\n",
              "      <td>2021-10-28</td>\n",
              "      <td>Moderna, Oxford/AstraZeneca, Sinovac, Pfizer/B...</td>\n",
              "      <td>17082799</td>\n",
              "      <td>9790278</td>\n",
              "      <td>7292521</td>\n",
              "      <td>NaN</td>\n",
              "    </tr>\n",
              "    <tr>\n",
              "      <th>235</th>\n",
              "      <td>Ukraine</td>\n",
              "      <td>2021-10-29</td>\n",
              "      <td>Moderna, Oxford/AstraZeneca, Sinovac, Pfizer/B...</td>\n",
              "      <td>17400008</td>\n",
              "      <td>10022976</td>\n",
              "      <td>7377032</td>\n",
              "      <td>NaN</td>\n",
              "    </tr>\n",
              "    <tr>\n",
              "      <th>236</th>\n",
              "      <td>Ukraine</td>\n",
              "      <td>2021-10-30</td>\n",
              "      <td>Moderna, Oxford/AstraZeneca, Sinovac, Pfizer/B...</td>\n",
              "      <td>17577773</td>\n",
              "      <td>10156227</td>\n",
              "      <td>7421546</td>\n",
              "      <td>NaN</td>\n",
              "    </tr>\n",
              "    <tr>\n",
              "      <th>237</th>\n",
              "      <td>Ukraine</td>\n",
              "      <td>2021-10-31</td>\n",
              "      <td>Moderna, Oxford/AstraZeneca, Sinovac, Pfizer/B...</td>\n",
              "      <td>17695591</td>\n",
              "      <td>10245773</td>\n",
              "      <td>7449818</td>\n",
              "      <td>NaN</td>\n",
              "    </tr>\n",
              "  </tbody>\n",
              "</table>\n",
              "<p>238 rows × 7 columns</p>\n",
              "</div>"
            ],
            "text/plain": [
              "    location        date  ... people_fully_vaccinated  total_boosters\n",
              "0    Ukraine  2021-02-24  ...                       0             NaN\n",
              "1    Ukraine  2021-02-25  ...                       0             NaN\n",
              "2    Ukraine  2021-02-26  ...                       0             NaN\n",
              "3    Ukraine  2021-02-27  ...                       0             NaN\n",
              "4    Ukraine  2021-03-01  ...                       0             NaN\n",
              "..       ...         ...  ...                     ...             ...\n",
              "233  Ukraine  2021-10-27  ...                 7217383             NaN\n",
              "234  Ukraine  2021-10-28  ...                 7292521             NaN\n",
              "235  Ukraine  2021-10-29  ...                 7377032             NaN\n",
              "236  Ukraine  2021-10-30  ...                 7421546             NaN\n",
              "237  Ukraine  2021-10-31  ...                 7449818             NaN\n",
              "\n",
              "[238 rows x 7 columns]"
            ]
          },
          "metadata": {},
          "execution_count": 17
        }
      ]
    },
    {
      "cell_type": "code",
      "metadata": {
        "colab": {
          "base_uri": "https://localhost:8080/",
          "height": 294
        },
        "id": "DBj7hvhs-GDe",
        "outputId": "8d851b46-4c9f-43e6-98a0-04214a54a3e8"
      },
      "source": [
        "Ukraine_df.boxplot(column=['total_vaccinations'])"
      ],
      "execution_count": null,
      "outputs": [
        {
          "output_type": "execute_result",
          "data": {
            "text/plain": [
              "<matplotlib.axes._subplots.AxesSubplot at 0x7fc254f352d0>"
            ]
          },
          "metadata": {},
          "execution_count": 14
        },
        {
          "output_type": "display_data",
          "data": {
            "image/png": "[encoded data removed]",
            "text/plain": [
              "<Figure size 432x288 with 1 Axes>"
            ]
          },
          "metadata": {
            "needs_background": "light"
          }
        }
      ]
    },
    {
      "cell_type": "code",
      "metadata": {
        "colab": {
          "base_uri": "https://localhost:8080/",
          "height": 299
        },
        "id": "kiki2ma1-GG1",
        "outputId": "e8321f7e-c382-4f5d-bc71-bc25e116e5b9"
      },
      "source": [
        "Ukraine_df.plot.hist()\n",
        "plt.ylim(0,250)\n"
      ],
      "execution_count": null,
      "outputs": [
        {
          "output_type": "execute_result",
          "data": {
            "text/plain": [
              "(0.0, 250.0)"
            ]
          },
          "metadata": {},
          "execution_count": 15
        },
        {
          "output_type": "display_data",
          "data": {
            "image/png": "[encoded data removed]",
            "text/plain": [
              "<Figure size 432x288 with 1 Axes>"
            ]
          },
          "metadata": {
            "needs_background": "light"
          }
        }
      ]
    },
    {
      "cell_type": "markdown",
      "metadata": {
        "id": "2aSGv71x-fdP"
      },
      "source": [
        "#India Vaccination Data"
      ]
    },
    {
      "cell_type": "code",
      "metadata": {
        "id": "w52S1tiN-GMC"
      },
      "source": [
        "India_df=pd.read_csv('/content/gdrive/MyDrive/103 Project/India.csv')"
      ],
      "execution_count": null,
      "outputs": []
    },
    {
      "cell_type": "code",
      "metadata": {
        "colab": {
          "base_uri": "https://localhost:8080/",
          "height": 424
        },
        "id": "f99Myb5T9Z9u",
        "outputId": "9bad784d-a481-41c8-ff58-c7888ab7cb41"
      },
      "source": [
        "India_df"
      ],
      "execution_count": null,
      "outputs": [
        {
          "output_type": "execute_result",
          "data": {
            "text/html": [
              "<div>\n",
              "<style scoped>\n",
              "    .dataframe tbody tr th:only-of-type {\n",
              "        vertical-align: middle;\n",
              "    }\n",
              "\n",
              "    .dataframe tbody tr th {\n",
              "        vertical-align: top;\n",
              "    }\n",
              "\n",
              "    .dataframe thead th {\n",
              "        text-align: right;\n",
              "    }\n",
              "</style>\n",
              "<table border=\"1\" class=\"dataframe\">\n",
              "  <thead>\n",
              "    <tr style=\"text-align: right;\">\n",
              "      <th></th>\n",
              "      <th>location</th>\n",
              "      <th>date</th>\n",
              "      <th>vaccine</th>\n",
              "      <th>total_vaccinations</th>\n",
              "      <th>people_vaccinated</th>\n",
              "      <th>people_fully_vaccinated</th>\n",
              "      <th>source_url</th>\n",
              "      <th>total_boosters</th>\n",
              "    </tr>\n",
              "  </thead>\n",
              "  <tbody>\n",
              "    <tr>\n",
              "      <th>0</th>\n",
              "      <td>India</td>\n",
              "      <td>2021-01-15</td>\n",
              "      <td>Covaxin, Oxford/AstraZeneca</td>\n",
              "      <td>0</td>\n",
              "      <td>0</td>\n",
              "      <td>0</td>\n",
              "      <td>https://twitter.com/MoHFW_INDIA/status/1350459...</td>\n",
              "      <td>NaN</td>\n",
              "    </tr>\n",
              "    <tr>\n",
              "      <th>1</th>\n",
              "      <td>India</td>\n",
              "      <td>2021-01-16</td>\n",
              "      <td>Covaxin, Oxford/AstraZeneca</td>\n",
              "      <td>191181</td>\n",
              "      <td>191181</td>\n",
              "      <td>0</td>\n",
              "      <td>https://twitter.com/MoHFW_INDIA/status/1350459...</td>\n",
              "      <td>NaN</td>\n",
              "    </tr>\n",
              "    <tr>\n",
              "      <th>2</th>\n",
              "      <td>India</td>\n",
              "      <td>2021-01-17</td>\n",
              "      <td>Covaxin, Oxford/AstraZeneca</td>\n",
              "      <td>224301</td>\n",
              "      <td>224301</td>\n",
              "      <td>0</td>\n",
              "      <td>https://twitter.com/MoHFW_INDIA/status/1350815...</td>\n",
              "      <td>NaN</td>\n",
              "    </tr>\n",
              "    <tr>\n",
              "      <th>3</th>\n",
              "      <td>India</td>\n",
              "      <td>2021-01-18</td>\n",
              "      <td>Covaxin, Oxford/AstraZeneca</td>\n",
              "      <td>454049</td>\n",
              "      <td>454049</td>\n",
              "      <td>0</td>\n",
              "      <td>https://www.mohfw.gov.in/</td>\n",
              "      <td>NaN</td>\n",
              "    </tr>\n",
              "    <tr>\n",
              "      <th>4</th>\n",
              "      <td>India</td>\n",
              "      <td>2021-01-19</td>\n",
              "      <td>Covaxin, Oxford/AstraZeneca</td>\n",
              "      <td>674835</td>\n",
              "      <td>674835</td>\n",
              "      <td>0</td>\n",
              "      <td>https://www.mohfw.gov.in/</td>\n",
              "      <td>NaN</td>\n",
              "    </tr>\n",
              "    <tr>\n",
              "      <th>...</th>\n",
              "      <td>...</td>\n",
              "      <td>...</td>\n",
              "      <td>...</td>\n",
              "      <td>...</td>\n",
              "      <td>...</td>\n",
              "      <td>...</td>\n",
              "      <td>...</td>\n",
              "      <td>...</td>\n",
              "    </tr>\n",
              "    <tr>\n",
              "      <th>278</th>\n",
              "      <td>India</td>\n",
              "      <td>2021-10-31</td>\n",
              "      <td>Covaxin, Oxford/AstraZeneca, Sputnik V</td>\n",
              "      <td>1062631351</td>\n",
              "      <td>733542729</td>\n",
              "      <td>329088622</td>\n",
              "      <td>https://dashboard.cowin.gov.in/</td>\n",
              "      <td>NaN</td>\n",
              "    </tr>\n",
              "    <tr>\n",
              "      <th>279</th>\n",
              "      <td>India</td>\n",
              "      <td>2021-11-01</td>\n",
              "      <td>Covaxin, Oxford/AstraZeneca, Sputnik V</td>\n",
              "      <td>1067654329</td>\n",
              "      <td>735580368</td>\n",
              "      <td>332073961</td>\n",
              "      <td>https://dashboard.cowin.gov.in/</td>\n",
              "      <td>NaN</td>\n",
              "    </tr>\n",
              "    <tr>\n",
              "      <th>280</th>\n",
              "      <td>India</td>\n",
              "      <td>2021-11-02</td>\n",
              "      <td>Covaxin, Oxford/AstraZeneca, Sputnik V</td>\n",
              "      <td>1069718646</td>\n",
              "      <td>736446575</td>\n",
              "      <td>333272071</td>\n",
              "      <td>https://dashboard.cowin.gov.in/</td>\n",
              "      <td>NaN</td>\n",
              "    </tr>\n",
              "    <tr>\n",
              "      <th>281</th>\n",
              "      <td>India</td>\n",
              "      <td>2021-11-03</td>\n",
              "      <td>Covaxin, Oxford/AstraZeneca, Sputnik V</td>\n",
              "      <td>1075059421</td>\n",
              "      <td>738501950</td>\n",
              "      <td>336557471</td>\n",
              "      <td>https://dashboard.cowin.gov.in/</td>\n",
              "      <td>NaN</td>\n",
              "    </tr>\n",
              "    <tr>\n",
              "      <th>282</th>\n",
              "      <td>India</td>\n",
              "      <td>2021-11-04</td>\n",
              "      <td>Covaxin, Oxford/AstraZeneca, Sputnik V</td>\n",
              "      <td>1077107323</td>\n",
              "      <td>739357801</td>\n",
              "      <td>337749522</td>\n",
              "      <td>https://dashboard.cowin.gov.in/</td>\n",
              "      <td>NaN</td>\n",
              "    </tr>\n",
              "  </tbody>\n",
              "</table>\n",
              "<p>283 rows × 8 columns</p>\n",
              "</div>"
            ],
            "text/plain": [
              "    location  ... total_boosters\n",
              "0      India  ...            NaN\n",
              "1      India  ...            NaN\n",
              "2      India  ...            NaN\n",
              "3      India  ...            NaN\n",
              "4      India  ...            NaN\n",
              "..       ...  ...            ...\n",
              "278    India  ...            NaN\n",
              "279    India  ...            NaN\n",
              "280    India  ...            NaN\n",
              "281    India  ...            NaN\n",
              "282    India  ...            NaN\n",
              "\n",
              "[283 rows x 8 columns]"
            ]
          },
          "metadata": {},
          "execution_count": 19
        }
      ]
    },
    {
      "cell_type": "code",
      "metadata": {
        "colab": {
          "base_uri": "https://localhost:8080/",
          "height": 299
        },
        "id": "YgyqeV2r9aAK",
        "outputId": "e41b79e3-fa97-413d-9115-ade7ff7b0128"
      },
      "source": [
        "India_df.plot.hist()\n",
        "plt.xlim(0,839357801)\n",
        "plt.ylim(0,250)"
      ],
      "execution_count": null,
      "outputs": [
        {
          "output_type": "execute_result",
          "data": {
            "text/plain": [
              "(0.0, 250.0)"
            ]
          },
          "metadata": {},
          "execution_count": 21
        },
        {
          "output_type": "display_data",
          "data": {
            "image/png": "[encoded data removed]",
            "text/plain": [
              "<Figure size 432x288 with 1 Axes>"
            ]
          },
          "metadata": {
            "needs_background": "light"
          }
        }
      ]
    },
    {
      "cell_type": "markdown",
      "metadata": {
        "id": "-41XZult-uFv"
      },
      "source": [
        "**Removed the source_url column from the dataframe as it just stores the same links to destination.**"
      ]
    },
    {
      "cell_type": "code",
      "metadata": {
        "id": "UcphaSkH-mwm"
      },
      "source": [
        "India_df.drop('source_url', axis=1, inplace=True)"
      ],
      "execution_count": null,
      "outputs": []
    },
    {
      "cell_type": "code",
      "metadata": {
        "colab": {
          "base_uri": "https://localhost:8080/"
        },
        "id": "0-MpF89P-m60",
        "outputId": "a2120265-de53-418e-fa8f-dd9440587b66"
      },
      "source": [
        "India_df.columns"
      ],
      "execution_count": null,
      "outputs": [
        {
          "output_type": "execute_result",
          "data": {
            "text/plain": [
              "Index(['location', 'date', 'vaccine', 'total_vaccinations',\n",
              "       'people_vaccinated', 'people_fully_vaccinated', 'total_boosters'],\n",
              "      dtype='object')"
            ]
          },
          "metadata": {},
          "execution_count": 23
        }
      ]
    },
    {
      "cell_type": "markdown",
      "metadata": {
        "id": "RYlPT8a4-228"
      },
      "source": [
        "**Replacing the NaN values to 0**"
      ]
    },
    {
      "cell_type": "code",
      "metadata": {
        "id": "f0-yPRit-nGN"
      },
      "source": [
        "India_df[\"total_boosters\"].fillna(\"0\", inplace = True)"
      ],
      "execution_count": null,
      "outputs": []
    },
    {
      "cell_type": "code",
      "metadata": {
        "colab": {
          "base_uri": "https://localhost:8080/",
          "height": 424
        },
        "id": "HzarFy8l-1Iv",
        "outputId": "0c987c82-8916-4336-bdcd-a26c3d112e5a"
      },
      "source": [
        "India_df"
      ],
      "execution_count": null,
      "outputs": [
        {
          "output_type": "execute_result",
          "data": {
            "text/html": [
              "<div>\n",
              "<style scoped>\n",
              "    .dataframe tbody tr th:only-of-type {\n",
              "        vertical-align: middle;\n",
              "    }\n",
              "\n",
              "    .dataframe tbody tr th {\n",
              "        vertical-align: top;\n",
              "    }\n",
              "\n",
              "    .dataframe thead th {\n",
              "        text-align: right;\n",
              "    }\n",
              "</style>\n",
              "<table border=\"1\" class=\"dataframe\">\n",
              "  <thead>\n",
              "    <tr style=\"text-align: right;\">\n",
              "      <th></th>\n",
              "      <th>location</th>\n",
              "      <th>date</th>\n",
              "      <th>vaccine</th>\n",
              "      <th>total_vaccinations</th>\n",
              "      <th>people_vaccinated</th>\n",
              "      <th>people_fully_vaccinated</th>\n",
              "      <th>total_boosters</th>\n",
              "    </tr>\n",
              "  </thead>\n",
              "  <tbody>\n",
              "    <tr>\n",
              "      <th>0</th>\n",
              "      <td>India</td>\n",
              "      <td>2021-01-15</td>\n",
              "      <td>Covaxin, Oxford/AstraZeneca</td>\n",
              "      <td>0</td>\n",
              "      <td>0</td>\n",
              "      <td>0</td>\n",
              "      <td>0</td>\n",
              "    </tr>\n",
              "    <tr>\n",
              "      <th>1</th>\n",
              "      <td>India</td>\n",
              "      <td>2021-01-16</td>\n",
              "      <td>Covaxin, Oxford/AstraZeneca</td>\n",
              "      <td>191181</td>\n",
              "      <td>191181</td>\n",
              "      <td>0</td>\n",
              "      <td>0</td>\n",
              "    </tr>\n",
              "    <tr>\n",
              "      <th>2</th>\n",
              "      <td>India</td>\n",
              "      <td>2021-01-17</td>\n",
              "      <td>Covaxin, Oxford/AstraZeneca</td>\n",
              "      <td>224301</td>\n",
              "      <td>224301</td>\n",
              "      <td>0</td>\n",
              "      <td>0</td>\n",
              "    </tr>\n",
              "    <tr>\n",
              "      <th>3</th>\n",
              "      <td>India</td>\n",
              "      <td>2021-01-18</td>\n",
              "      <td>Covaxin, Oxford/AstraZeneca</td>\n",
              "      <td>454049</td>\n",
              "      <td>454049</td>\n",
              "      <td>0</td>\n",
              "      <td>0</td>\n",
              "    </tr>\n",
              "    <tr>\n",
              "      <th>4</th>\n",
              "      <td>India</td>\n",
              "      <td>2021-01-19</td>\n",
              "      <td>Covaxin, Oxford/AstraZeneca</td>\n",
              "      <td>674835</td>\n",
              "      <td>674835</td>\n",
              "      <td>0</td>\n",
              "      <td>0</td>\n",
              "    </tr>\n",
              "    <tr>\n",
              "      <th>...</th>\n",
              "      <td>...</td>\n",
              "      <td>...</td>\n",
              "      <td>...</td>\n",
              "      <td>...</td>\n",
              "      <td>...</td>\n",
              "      <td>...</td>\n",
              "      <td>...</td>\n",
              "    </tr>\n",
              "    <tr>\n",
              "      <th>278</th>\n",
              "      <td>India</td>\n",
              "      <td>2021-10-31</td>\n",
              "      <td>Covaxin, Oxford/AstraZeneca, Sputnik V</td>\n",
              "      <td>1062631351</td>\n",
              "      <td>733542729</td>\n",
              "      <td>329088622</td>\n",
              "      <td>0</td>\n",
              "    </tr>\n",
              "    <tr>\n",
              "      <th>279</th>\n",
              "      <td>India</td>\n",
              "      <td>2021-11-01</td>\n",
              "      <td>Covaxin, Oxford/AstraZeneca, Sputnik V</td>\n",
              "      <td>1067654329</td>\n",
              "      <td>735580368</td>\n",
              "      <td>332073961</td>\n",
              "      <td>0</td>\n",
              "    </tr>\n",
              "    <tr>\n",
              "      <th>280</th>\n",
              "      <td>India</td>\n",
              "      <td>2021-11-02</td>\n",
              "      <td>Covaxin, Oxford/AstraZeneca, Sputnik V</td>\n",
              "      <td>1069718646</td>\n",
              "      <td>736446575</td>\n",
              "      <td>333272071</td>\n",
              "      <td>0</td>\n",
              "    </tr>\n",
              "    <tr>\n",
              "      <th>281</th>\n",
              "      <td>India</td>\n",
              "      <td>2021-11-03</td>\n",
              "      <td>Covaxin, Oxford/AstraZeneca, Sputnik V</td>\n",
              "      <td>1075059421</td>\n",
              "      <td>738501950</td>\n",
              "      <td>336557471</td>\n",
              "      <td>0</td>\n",
              "    </tr>\n",
              "    <tr>\n",
              "      <th>282</th>\n",
              "      <td>India</td>\n",
              "      <td>2021-11-04</td>\n",
              "      <td>Covaxin, Oxford/AstraZeneca, Sputnik V</td>\n",
              "      <td>1077107323</td>\n",
              "      <td>739357801</td>\n",
              "      <td>337749522</td>\n",
              "      <td>0</td>\n",
              "    </tr>\n",
              "  </tbody>\n",
              "</table>\n",
              "<p>283 rows × 7 columns</p>\n",
              "</div>"
            ],
            "text/plain": [
              "    location        date  ... people_fully_vaccinated  total_boosters\n",
              "0      India  2021-01-15  ...                       0               0\n",
              "1      India  2021-01-16  ...                       0               0\n",
              "2      India  2021-01-17  ...                       0               0\n",
              "3      India  2021-01-18  ...                       0               0\n",
              "4      India  2021-01-19  ...                       0               0\n",
              "..       ...         ...  ...                     ...             ...\n",
              "278    India  2021-10-31  ...               329088622               0\n",
              "279    India  2021-11-01  ...               332073961               0\n",
              "280    India  2021-11-02  ...               333272071               0\n",
              "281    India  2021-11-03  ...               336557471               0\n",
              "282    India  2021-11-04  ...               337749522               0\n",
              "\n",
              "[283 rows x 7 columns]"
            ]
          },
          "metadata": {},
          "execution_count": 25
        }
      ]
    },
    {
      "cell_type": "code",
      "metadata": {
        "colab": {
          "base_uri": "https://localhost:8080/",
          "height": 294
        },
        "id": "kebaJv6i-1Li",
        "outputId": "e18e8b77-5a09-4a3e-f4b0-a67ad9cbaf84"
      },
      "source": [
        "India_df.boxplot(column=['total_vaccinations'])"
      ],
      "execution_count": null,
      "outputs": [
        {
          "output_type": "execute_result",
          "data": {
            "text/plain": [
              "<matplotlib.axes._subplots.AxesSubplot at 0x7fc25444fa90>"
            ]
          },
          "metadata": {},
          "execution_count": 27
        },
        {
          "output_type": "display_data",
          "data": {
            "image/png": "[encoded data removed]",
            "text/plain": [
              "<Figure size 432x288 with 1 Axes>"
            ]
          },
          "metadata": {
            "needs_background": "light"
          }
        }
      ]
    },
    {
      "cell_type": "markdown",
      "metadata": {
        "id": "kWx7lWq5_Lrm"
      },
      "source": [
        "#US Vaccination Data"
      ]
    },
    {
      "cell_type": "code",
      "metadata": {
        "id": "bP0wsWJJ_NQ2"
      },
      "source": [
        "US_df=pd.read_csv('/content/gdrive/MyDrive/103 Project/US.csv')"
      ],
      "execution_count": null,
      "outputs": []
    },
    {
      "cell_type": "code",
      "metadata": {
        "colab": {
          "base_uri": "https://localhost:8080/",
          "height": 424
        },
        "id": "m76axbYl_NU3",
        "outputId": "a694bc97-2421-4956-8cc2-8f44f54fb972"
      },
      "source": [
        "US_df"
      ],
      "execution_count": null,
      "outputs": [
        {
          "output_type": "execute_result",
          "data": {
            "text/html": [
              "<div>\n",
              "<style scoped>\n",
              "    .dataframe tbody tr th:only-of-type {\n",
              "        vertical-align: middle;\n",
              "    }\n",
              "\n",
              "    .dataframe tbody tr th {\n",
              "        vertical-align: top;\n",
              "    }\n",
              "\n",
              "    .dataframe thead th {\n",
              "        text-align: right;\n",
              "    }\n",
              "</style>\n",
              "<table border=\"1\" class=\"dataframe\">\n",
              "  <thead>\n",
              "    <tr style=\"text-align: right;\">\n",
              "      <th></th>\n",
              "      <th>date</th>\n",
              "      <th>location</th>\n",
              "      <th>total_vaccinations</th>\n",
              "      <th>people_vaccinated</th>\n",
              "      <th>people_fully_vaccinated</th>\n",
              "      <th>total_boosters</th>\n",
              "      <th>source_url</th>\n",
              "      <th>vaccine</th>\n",
              "    </tr>\n",
              "  </thead>\n",
              "  <tbody>\n",
              "    <tr>\n",
              "      <th>0</th>\n",
              "      <td>2020-12-13</td>\n",
              "      <td>United States</td>\n",
              "      <td>20013</td>\n",
              "      <td>17073</td>\n",
              "      <td>3579</td>\n",
              "      <td>0</td>\n",
              "      <td>https://covid.cdc.gov/covid-data-tracker/#vacc...</td>\n",
              "      <td>Pfizer/BioNTech</td>\n",
              "    </tr>\n",
              "    <tr>\n",
              "      <th>1</th>\n",
              "      <td>2020-12-14</td>\n",
              "      <td>United States</td>\n",
              "      <td>24300</td>\n",
              "      <td>21231</td>\n",
              "      <td>3668</td>\n",
              "      <td>0</td>\n",
              "      <td>https://covid.cdc.gov/covid-data-tracker/#vacc...</td>\n",
              "      <td>Pfizer/BioNTech</td>\n",
              "    </tr>\n",
              "    <tr>\n",
              "      <th>2</th>\n",
              "      <td>2020-12-15</td>\n",
              "      <td>United States</td>\n",
              "      <td>72853</td>\n",
              "      <td>67597</td>\n",
              "      <td>3851</td>\n",
              "      <td>0</td>\n",
              "      <td>https://covid.cdc.gov/covid-data-tracker/#vacc...</td>\n",
              "      <td>Pfizer/BioNTech</td>\n",
              "    </tr>\n",
              "    <tr>\n",
              "      <th>3</th>\n",
              "      <td>2020-12-16</td>\n",
              "      <td>United States</td>\n",
              "      <td>231420</td>\n",
              "      <td>220759</td>\n",
              "      <td>4214</td>\n",
              "      <td>0</td>\n",
              "      <td>https://covid.cdc.gov/covid-data-tracker/#vacc...</td>\n",
              "      <td>Pfizer/BioNTech</td>\n",
              "    </tr>\n",
              "    <tr>\n",
              "      <th>4</th>\n",
              "      <td>2020-12-17</td>\n",
              "      <td>United States</td>\n",
              "      <td>501644</td>\n",
              "      <td>484011</td>\n",
              "      <td>4743</td>\n",
              "      <td>0</td>\n",
              "      <td>https://covid.cdc.gov/covid-data-tracker/#vacc...</td>\n",
              "      <td>Pfizer/BioNTech</td>\n",
              "    </tr>\n",
              "    <tr>\n",
              "      <th>...</th>\n",
              "      <td>...</td>\n",
              "      <td>...</td>\n",
              "      <td>...</td>\n",
              "      <td>...</td>\n",
              "      <td>...</td>\n",
              "      <td>...</td>\n",
              "      <td>...</td>\n",
              "      <td>...</td>\n",
              "    </tr>\n",
              "    <tr>\n",
              "      <th>322</th>\n",
              "      <td>2021-10-31</td>\n",
              "      <td>United States</td>\n",
              "      <td>424776573</td>\n",
              "      <td>222159807</td>\n",
              "      <td>191564086</td>\n",
              "      <td>20156138</td>\n",
              "      <td>https://covid.cdc.gov/covid-data-tracker/#vacc...</td>\n",
              "      <td>Johnson&amp;Johnson, Moderna, Pfizer/BioNTech</td>\n",
              "    </tr>\n",
              "    <tr>\n",
              "      <th>323</th>\n",
              "      <td>2021-11-01</td>\n",
              "      <td>United States</td>\n",
              "      <td>425906647</td>\n",
              "      <td>222414631</td>\n",
              "      <td>191718288</td>\n",
              "      <td>20891038</td>\n",
              "      <td>https://covid.cdc.gov/covid-data-tracker/#vacc...</td>\n",
              "      <td>Johnson&amp;Johnson, Moderna, Pfizer/BioNTech</td>\n",
              "    </tr>\n",
              "    <tr>\n",
              "      <th>324</th>\n",
              "      <td>2021-11-02</td>\n",
              "      <td>United States</td>\n",
              "      <td>426631679</td>\n",
              "      <td>222565598</td>\n",
              "      <td>191809625</td>\n",
              "      <td>21384385</td>\n",
              "      <td>https://covid.cdc.gov/covid-data-tracker/#vacc...</td>\n",
              "      <td>Johnson&amp;Johnson, Moderna, Pfizer/BioNTech</td>\n",
              "    </tr>\n",
              "    <tr>\n",
              "      <th>325</th>\n",
              "      <td>2021-11-03</td>\n",
              "      <td>United States</td>\n",
              "      <td>426728092</td>\n",
              "      <td>222591394</td>\n",
              "      <td>191823814</td>\n",
              "      <td>21441707</td>\n",
              "      <td>https://covid.cdc.gov/covid-data-tracker/#vacc...</td>\n",
              "      <td>Johnson&amp;Johnson, Moderna, Pfizer/BioNTech</td>\n",
              "    </tr>\n",
              "    <tr>\n",
              "      <th>326</th>\n",
              "      <td>2021-11-04</td>\n",
              "      <td>United States</td>\n",
              "      <td>426728092</td>\n",
              "      <td>222591394</td>\n",
              "      <td>191823814</td>\n",
              "      <td>21441707</td>\n",
              "      <td>https://covid.cdc.gov/covid-data-tracker/#vacc...</td>\n",
              "      <td>Johnson&amp;Johnson, Moderna, Pfizer/BioNTech</td>\n",
              "    </tr>\n",
              "  </tbody>\n",
              "</table>\n",
              "<p>327 rows × 8 columns</p>\n",
              "</div>"
            ],
            "text/plain": [
              "           date  ...                                    vaccine\n",
              "0    2020-12-13  ...                            Pfizer/BioNTech\n",
              "1    2020-12-14  ...                            Pfizer/BioNTech\n",
              "2    2020-12-15  ...                            Pfizer/BioNTech\n",
              "3    2020-12-16  ...                            Pfizer/BioNTech\n",
              "4    2020-12-17  ...                            Pfizer/BioNTech\n",
              "..          ...  ...                                        ...\n",
              "322  2021-10-31  ...  Johnson&Johnson, Moderna, Pfizer/BioNTech\n",
              "323  2021-11-01  ...  Johnson&Johnson, Moderna, Pfizer/BioNTech\n",
              "324  2021-11-02  ...  Johnson&Johnson, Moderna, Pfizer/BioNTech\n",
              "325  2021-11-03  ...  Johnson&Johnson, Moderna, Pfizer/BioNTech\n",
              "326  2021-11-04  ...  Johnson&Johnson, Moderna, Pfizer/BioNTech\n",
              "\n",
              "[327 rows x 8 columns]"
            ]
          },
          "metadata": {},
          "execution_count": 29
        }
      ]
    },
    {
      "cell_type": "markdown",
      "metadata": {
        "id": "Y9qmGqGa_TQh"
      },
      "source": [
        "**Removed the source_url column from the dataframe as it just stores the same links to destination.**"
      ]
    },
    {
      "cell_type": "code",
      "metadata": {
        "id": "XFmish6Y_NYh"
      },
      "source": [
        "US_df.drop('source_url', axis=1, inplace=True)"
      ],
      "execution_count": null,
      "outputs": []
    },
    {
      "cell_type": "code",
      "metadata": {
        "colab": {
          "base_uri": "https://localhost:8080/"
        },
        "id": "MbMnPRCj_Nb6",
        "outputId": "9b67abe0-aeb4-4d82-81f7-6b3e688779b6"
      },
      "source": [
        "US_df.columns"
      ],
      "execution_count": null,
      "outputs": [
        {
          "output_type": "execute_result",
          "data": {
            "text/plain": [
              "Index(['date', 'location', 'total_vaccinations', 'people_vaccinated',\n",
              "       'people_fully_vaccinated', 'total_boosters', 'vaccine'],\n",
              "      dtype='object')"
            ]
          },
          "metadata": {},
          "execution_count": 31
        }
      ]
    },
    {
      "cell_type": "code",
      "metadata": {
        "colab": {
          "base_uri": "https://localhost:8080/",
          "height": 294
        },
        "id": "Od2wbVok_ZrL",
        "outputId": "b5ccd46e-833b-498b-8fed-d5c0d7c129b2"
      },
      "source": [
        "US_df.boxplot(column=['total_vaccinations'])"
      ],
      "execution_count": null,
      "outputs": [
        {
          "output_type": "execute_result",
          "data": {
            "text/plain": [
              "<matplotlib.axes._subplots.AxesSubplot at 0x7fc254661810>"
            ]
          },
          "metadata": {},
          "execution_count": 32
        },
        {
          "output_type": "display_data",
          "data": {
            "image/png": "[encoded data removed]",
            "text/plain": [
              "<Figure size 432x288 with 1 Axes>"
            ]
          },
          "metadata": {
            "needs_background": "light"
          }
        }
      ]
    },
    {
      "cell_type": "code",
      "metadata": {
        "colab": {
          "base_uri": "https://localhost:8080/",
          "height": 424
        },
        "id": "4xLLuAu-_Zwb",
        "outputId": "9a381415-dcc5-4a68-9333-2f251921a07b"
      },
      "source": [
        "US_df"
      ],
      "execution_count": null,
      "outputs": [
        {
          "output_type": "execute_result",
          "data": {
            "text/html": [
              "<div>\n",
              "<style scoped>\n",
              "    .dataframe tbody tr th:only-of-type {\n",
              "        vertical-align: middle;\n",
              "    }\n",
              "\n",
              "    .dataframe tbody tr th {\n",
              "        vertical-align: top;\n",
              "    }\n",
              "\n",
              "    .dataframe thead th {\n",
              "        text-align: right;\n",
              "    }\n",
              "</style>\n",
              "<table border=\"1\" class=\"dataframe\">\n",
              "  <thead>\n",
              "    <tr style=\"text-align: right;\">\n",
              "      <th></th>\n",
              "      <th>date</th>\n",
              "      <th>location</th>\n",
              "      <th>total_vaccinations</th>\n",
              "      <th>people_vaccinated</th>\n",
              "      <th>people_fully_vaccinated</th>\n",
              "      <th>total_boosters</th>\n",
              "      <th>vaccine</th>\n",
              "    </tr>\n",
              "  </thead>\n",
              "  <tbody>\n",
              "    <tr>\n",
              "      <th>0</th>\n",
              "      <td>2020-12-13</td>\n",
              "      <td>United States</td>\n",
              "      <td>20013</td>\n",
              "      <td>17073</td>\n",
              "      <td>3579</td>\n",
              "      <td>0</td>\n",
              "      <td>Pfizer/BioNTech</td>\n",
              "    </tr>\n",
              "    <tr>\n",
              "      <th>1</th>\n",
              "      <td>2020-12-14</td>\n",
              "      <td>United States</td>\n",
              "      <td>24300</td>\n",
              "      <td>21231</td>\n",
              "      <td>3668</td>\n",
              "      <td>0</td>\n",
              "      <td>Pfizer/BioNTech</td>\n",
              "    </tr>\n",
              "    <tr>\n",
              "      <th>2</th>\n",
              "      <td>2020-12-15</td>\n",
              "      <td>United States</td>\n",
              "      <td>72853</td>\n",
              "      <td>67597</td>\n",
              "      <td>3851</td>\n",
              "      <td>0</td>\n",
              "      <td>Pfizer/BioNTech</td>\n",
              "    </tr>\n",
              "    <tr>\n",
              "      <th>3</th>\n",
              "      <td>2020-12-16</td>\n",
              "      <td>United States</td>\n",
              "      <td>231420</td>\n",
              "      <td>220759</td>\n",
              "      <td>4214</td>\n",
              "      <td>0</td>\n",
              "      <td>Pfizer/BioNTech</td>\n",
              "    </tr>\n",
              "    <tr>\n",
              "      <th>4</th>\n",
              "      <td>2020-12-17</td>\n",
              "      <td>United States</td>\n",
              "      <td>501644</td>\n",
              "      <td>484011</td>\n",
              "      <td>4743</td>\n",
              "      <td>0</td>\n",
              "      <td>Pfizer/BioNTech</td>\n",
              "    </tr>\n",
              "    <tr>\n",
              "      <th>...</th>\n",
              "      <td>...</td>\n",
              "      <td>...</td>\n",
              "      <td>...</td>\n",
              "      <td>...</td>\n",
              "      <td>...</td>\n",
              "      <td>...</td>\n",
              "      <td>...</td>\n",
              "    </tr>\n",
              "    <tr>\n",
              "      <th>322</th>\n",
              "      <td>2021-10-31</td>\n",
              "      <td>United States</td>\n",
              "      <td>424776573</td>\n",
              "      <td>222159807</td>\n",
              "      <td>191564086</td>\n",
              "      <td>20156138</td>\n",
              "      <td>Johnson&amp;Johnson, Moderna, Pfizer/BioNTech</td>\n",
              "    </tr>\n",
              "    <tr>\n",
              "      <th>323</th>\n",
              "      <td>2021-11-01</td>\n",
              "      <td>United States</td>\n",
              "      <td>425906647</td>\n",
              "      <td>222414631</td>\n",
              "      <td>191718288</td>\n",
              "      <td>20891038</td>\n",
              "      <td>Johnson&amp;Johnson, Moderna, Pfizer/BioNTech</td>\n",
              "    </tr>\n",
              "    <tr>\n",
              "      <th>324</th>\n",
              "      <td>2021-11-02</td>\n",
              "      <td>United States</td>\n",
              "      <td>426631679</td>\n",
              "      <td>222565598</td>\n",
              "      <td>191809625</td>\n",
              "      <td>21384385</td>\n",
              "      <td>Johnson&amp;Johnson, Moderna, Pfizer/BioNTech</td>\n",
              "    </tr>\n",
              "    <tr>\n",
              "      <th>325</th>\n",
              "      <td>2021-11-03</td>\n",
              "      <td>United States</td>\n",
              "      <td>426728092</td>\n",
              "      <td>222591394</td>\n",
              "      <td>191823814</td>\n",
              "      <td>21441707</td>\n",
              "      <td>Johnson&amp;Johnson, Moderna, Pfizer/BioNTech</td>\n",
              "    </tr>\n",
              "    <tr>\n",
              "      <th>326</th>\n",
              "      <td>2021-11-04</td>\n",
              "      <td>United States</td>\n",
              "      <td>426728092</td>\n",
              "      <td>222591394</td>\n",
              "      <td>191823814</td>\n",
              "      <td>21441707</td>\n",
              "      <td>Johnson&amp;Johnson, Moderna, Pfizer/BioNTech</td>\n",
              "    </tr>\n",
              "  </tbody>\n",
              "</table>\n",
              "<p>327 rows × 7 columns</p>\n",
              "</div>"
            ],
            "text/plain": [
              "           date  ...                                    vaccine\n",
              "0    2020-12-13  ...                            Pfizer/BioNTech\n",
              "1    2020-12-14  ...                            Pfizer/BioNTech\n",
              "2    2020-12-15  ...                            Pfizer/BioNTech\n",
              "3    2020-12-16  ...                            Pfizer/BioNTech\n",
              "4    2020-12-17  ...                            Pfizer/BioNTech\n",
              "..          ...  ...                                        ...\n",
              "322  2021-10-31  ...  Johnson&Johnson, Moderna, Pfizer/BioNTech\n",
              "323  2021-11-01  ...  Johnson&Johnson, Moderna, Pfizer/BioNTech\n",
              "324  2021-11-02  ...  Johnson&Johnson, Moderna, Pfizer/BioNTech\n",
              "325  2021-11-03  ...  Johnson&Johnson, Moderna, Pfizer/BioNTech\n",
              "326  2021-11-04  ...  Johnson&Johnson, Moderna, Pfizer/BioNTech\n",
              "\n",
              "[327 rows x 7 columns]"
            ]
          },
          "metadata": {},
          "execution_count": 33
        }
      ]
    },
    {
      "cell_type": "code",
      "metadata": {
        "colab": {
          "base_uri": "https://localhost:8080/",
          "height": 295
        },
        "id": "2Z6v4m6a_Zzi",
        "outputId": "af967dc5-6ad2-4618-bbcb-c1475b9c89ec"
      },
      "source": [
        "US_df.plot.hist()\n",
        "#Values in Millions\n",
        "plt.xlim(0,522591394) \n",
        "print()\n",
        "\n",
        "plt.show('date')"
      ],
      "execution_count": null,
      "outputs": [
        {
          "output_type": "stream",
          "name": "stdout",
          "text": [
            "\n"
          ]
        },
        {
          "output_type": "display_data",
          "data": {
            "image/png": "[encoded data removed]",
            "text/plain": [
              "<Figure size 432x288 with 1 Axes>"
            ]
          },
          "metadata": {
            "needs_background": "light"
          }
        }
      ]
    },
    {
      "cell_type": "markdown",
      "metadata": {
        "id": "vDGq5ock_lbp"
      },
      "source": [
        "#Analysis Questions"
      ]
    },
    {
      "cell_type": "code",
      "metadata": {
        "id": "IsRkVHg2_rC_"
      },
      "source": [
        "Q1. "
      ],
      "execution_count": null,
      "outputs": []
    }
  ]
}